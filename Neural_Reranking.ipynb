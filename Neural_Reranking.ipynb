{
  "nbformat": 4,
  "nbformat_minor": 0,
  "metadata": {
    "colab": {
      "name": "Neural_Reranking.ipynb",
      "provenance": [],
      "collapsed_sections": [
        "Q_6677d0ji32",
        "9mSAzClYjuSz",
        "h2iVnU9joX4-",
        "y_c_4dCXj9OB",
        "dp_7n5p-kYYB",
        "4qjnsknfmvix",
        "fedgx8LPnzBZ",
        "0H0u38QIn1cS",
        "zmjMaPT9pp2M",
        "h9ShoLRWzPTd",
        "mD84J7DmzFBk",
        "yCqsXOdIy3sM",
        "lrxZUoNzzH-d",
        "PtdtSweFs-s2",
        "YXI5-Jd4Kfkg",
        "7Mvty0BKIb5c",
        "M8YtV1-XI9w7",
        "As4SuGatI98w",
        "yiBXtVzSI-EB",
        "v44OrE19Jbpj",
        "v2D5ktvsKlJk",
        "B_oCakb1Knqz"
      ],
      "toc_visible": true,
      "authorship_tag": "ABX9TyOTNFH93Ee0f34nbkyQFBg0",
      "include_colab_link": true
    },
    "kernelspec": {
      "name": "python3",
      "display_name": "Python 3"
    },
    "language_info": {
      "name": "python"
    },
    "accelerator": "GPU",
    "widgets": {
      "application/vnd.jupyter.widget-state+json": {
        "b17e6dfc90d74fc4be8875160870872a": {
          "model_module": "@jupyter-widgets/controls",
          "model_name": "HBoxModel",
          "model_module_version": "1.5.0",
          "state": {
            "_view_name": "HBoxView",
            "_dom_classes": [],
            "_model_name": "HBoxModel",
            "_view_module": "@jupyter-widgets/controls",
            "_model_module_version": "1.5.0",
            "_view_count": null,
            "_view_module_version": "1.5.0",
            "box_style": "",
            "layout": "IPY_MODEL_855dcb60b10a4914bed20ea28d2fe84d",
            "_model_module": "@jupyter-widgets/controls",
            "children": [
              "IPY_MODEL_08d1a4542bc74ea68309f314a6e821db",
              "IPY_MODEL_cdd3b77e588e43ac975975ec1a841c69",
              "IPY_MODEL_649b5491370f4b02aa49a8267a5f7daf"
            ]
          }
        },
        "855dcb60b10a4914bed20ea28d2fe84d": {
          "model_module": "@jupyter-widgets/base",
          "model_name": "LayoutModel",
          "model_module_version": "1.2.0",
          "state": {
            "_view_name": "LayoutView",
            "grid_template_rows": null,
            "right": null,
            "justify_content": null,
            "_view_module": "@jupyter-widgets/base",
            "overflow": null,
            "_model_module_version": "1.2.0",
            "_view_count": null,
            "flex_flow": null,
            "width": null,
            "min_width": null,
            "border": null,
            "align_items": null,
            "bottom": null,
            "_model_module": "@jupyter-widgets/base",
            "top": null,
            "grid_column": null,
            "overflow_y": null,
            "overflow_x": null,
            "grid_auto_flow": null,
            "grid_area": null,
            "grid_template_columns": null,
            "flex": null,
            "_model_name": "LayoutModel",
            "justify_items": null,
            "grid_row": null,
            "max_height": null,
            "align_content": null,
            "visibility": null,
            "align_self": null,
            "height": null,
            "min_height": null,
            "padding": null,
            "grid_auto_rows": null,
            "grid_gap": null,
            "max_width": null,
            "order": null,
            "_view_module_version": "1.2.0",
            "grid_template_areas": null,
            "object_position": null,
            "object_fit": null,
            "grid_auto_columns": null,
            "margin": null,
            "display": null,
            "left": null
          }
        },
        "08d1a4542bc74ea68309f314a6e821db": {
          "model_module": "@jupyter-widgets/controls",
          "model_name": "HTMLModel",
          "model_module_version": "1.5.0",
          "state": {
            "_view_name": "HTMLView",
            "style": "IPY_MODEL_ff0b7f04f1354a72acd108b951e9ff3f",
            "_dom_classes": [],
            "description": "",
            "_model_name": "HTMLModel",
            "placeholder": "​",
            "_view_module": "@jupyter-widgets/controls",
            "_model_module_version": "1.5.0",
            "value": "BR(DPH): 100%",
            "_view_count": null,
            "_view_module_version": "1.5.0",
            "description_tooltip": null,
            "_model_module": "@jupyter-widgets/controls",
            "layout": "IPY_MODEL_d50ad5a7f39c40d9838863ab2b45a3cb"
          }
        },
        "cdd3b77e588e43ac975975ec1a841c69": {
          "model_module": "@jupyter-widgets/controls",
          "model_name": "FloatProgressModel",
          "model_module_version": "1.5.0",
          "state": {
            "_view_name": "ProgressView",
            "style": "IPY_MODEL_0c5bd053177d4315b08b6d2527885f8c",
            "_dom_classes": [],
            "description": "",
            "_model_name": "FloatProgressModel",
            "bar_style": "success",
            "max": 10,
            "_view_module": "@jupyter-widgets/controls",
            "_model_module_version": "1.5.0",
            "value": 10,
            "_view_count": null,
            "_view_module_version": "1.5.0",
            "orientation": "horizontal",
            "min": 0,
            "description_tooltip": null,
            "_model_module": "@jupyter-widgets/controls",
            "layout": "IPY_MODEL_a5005e20b1a14e57b55e97d0a6ec564b"
          }
        },
        "649b5491370f4b02aa49a8267a5f7daf": {
          "model_module": "@jupyter-widgets/controls",
          "model_name": "HTMLModel",
          "model_module_version": "1.5.0",
          "state": {
            "_view_name": "HTMLView",
            "style": "IPY_MODEL_e536eb890406467db93d4aef6994fec6",
            "_dom_classes": [],
            "description": "",
            "_model_name": "HTMLModel",
            "placeholder": "​",
            "_view_module": "@jupyter-widgets/controls",
            "_model_module_version": "1.5.0",
            "value": " 10/10 [00:02&lt;00:00,  6.90q/s]",
            "_view_count": null,
            "_view_module_version": "1.5.0",
            "description_tooltip": null,
            "_model_module": "@jupyter-widgets/controls",
            "layout": "IPY_MODEL_8f2d65db1f094f8aa169ce0d09d3c35b"
          }
        },
        "ff0b7f04f1354a72acd108b951e9ff3f": {
          "model_module": "@jupyter-widgets/controls",
          "model_name": "DescriptionStyleModel",
          "model_module_version": "1.5.0",
          "state": {
            "_view_name": "StyleView",
            "_model_name": "DescriptionStyleModel",
            "description_width": "",
            "_view_module": "@jupyter-widgets/base",
            "_model_module_version": "1.5.0",
            "_view_count": null,
            "_view_module_version": "1.2.0",
            "_model_module": "@jupyter-widgets/controls"
          }
        },
        "d50ad5a7f39c40d9838863ab2b45a3cb": {
          "model_module": "@jupyter-widgets/base",
          "model_name": "LayoutModel",
          "model_module_version": "1.2.0",
          "state": {
            "_view_name": "LayoutView",
            "grid_template_rows": null,
            "right": null,
            "justify_content": null,
            "_view_module": "@jupyter-widgets/base",
            "overflow": null,
            "_model_module_version": "1.2.0",
            "_view_count": null,
            "flex_flow": null,
            "width": null,
            "min_width": null,
            "border": null,
            "align_items": null,
            "bottom": null,
            "_model_module": "@jupyter-widgets/base",
            "top": null,
            "grid_column": null,
            "overflow_y": null,
            "overflow_x": null,
            "grid_auto_flow": null,
            "grid_area": null,
            "grid_template_columns": null,
            "flex": null,
            "_model_name": "LayoutModel",
            "justify_items": null,
            "grid_row": null,
            "max_height": null,
            "align_content": null,
            "visibility": null,
            "align_self": null,
            "height": null,
            "min_height": null,
            "padding": null,
            "grid_auto_rows": null,
            "grid_gap": null,
            "max_width": null,
            "order": null,
            "_view_module_version": "1.2.0",
            "grid_template_areas": null,
            "object_position": null,
            "object_fit": null,
            "grid_auto_columns": null,
            "margin": null,
            "display": null,
            "left": null
          }
        },
        "0c5bd053177d4315b08b6d2527885f8c": {
          "model_module": "@jupyter-widgets/controls",
          "model_name": "ProgressStyleModel",
          "model_module_version": "1.5.0",
          "state": {
            "_view_name": "StyleView",
            "_model_name": "ProgressStyleModel",
            "description_width": "",
            "_view_module": "@jupyter-widgets/base",
            "_model_module_version": "1.5.0",
            "_view_count": null,
            "_view_module_version": "1.2.0",
            "bar_color": null,
            "_model_module": "@jupyter-widgets/controls"
          }
        },
        "a5005e20b1a14e57b55e97d0a6ec564b": {
          "model_module": "@jupyter-widgets/base",
          "model_name": "LayoutModel",
          "model_module_version": "1.2.0",
          "state": {
            "_view_name": "LayoutView",
            "grid_template_rows": null,
            "right": null,
            "justify_content": null,
            "_view_module": "@jupyter-widgets/base",
            "overflow": null,
            "_model_module_version": "1.2.0",
            "_view_count": null,
            "flex_flow": null,
            "width": null,
            "min_width": null,
            "border": null,
            "align_items": null,
            "bottom": null,
            "_model_module": "@jupyter-widgets/base",
            "top": null,
            "grid_column": null,
            "overflow_y": null,
            "overflow_x": null,
            "grid_auto_flow": null,
            "grid_area": null,
            "grid_template_columns": null,
            "flex": null,
            "_model_name": "LayoutModel",
            "justify_items": null,
            "grid_row": null,
            "max_height": null,
            "align_content": null,
            "visibility": null,
            "align_self": null,
            "height": null,
            "min_height": null,
            "padding": null,
            "grid_auto_rows": null,
            "grid_gap": null,
            "max_width": null,
            "order": null,
            "_view_module_version": "1.2.0",
            "grid_template_areas": null,
            "object_position": null,
            "object_fit": null,
            "grid_auto_columns": null,
            "margin": null,
            "display": null,
            "left": null
          }
        },
        "e536eb890406467db93d4aef6994fec6": {
          "model_module": "@jupyter-widgets/controls",
          "model_name": "DescriptionStyleModel",
          "model_module_version": "1.5.0",
          "state": {
            "_view_name": "StyleView",
            "_model_name": "DescriptionStyleModel",
            "description_width": "",
            "_view_module": "@jupyter-widgets/base",
            "_model_module_version": "1.5.0",
            "_view_count": null,
            "_view_module_version": "1.2.0",
            "_model_module": "@jupyter-widgets/controls"
          }
        },
        "8f2d65db1f094f8aa169ce0d09d3c35b": {
          "model_module": "@jupyter-widgets/base",
          "model_name": "LayoutModel",
          "model_module_version": "1.2.0",
          "state": {
            "_view_name": "LayoutView",
            "grid_template_rows": null,
            "right": null,
            "justify_content": null,
            "_view_module": "@jupyter-widgets/base",
            "overflow": null,
            "_model_module_version": "1.2.0",
            "_view_count": null,
            "flex_flow": null,
            "width": null,
            "min_width": null,
            "border": null,
            "align_items": null,
            "bottom": null,
            "_model_module": "@jupyter-widgets/base",
            "top": null,
            "grid_column": null,
            "overflow_y": null,
            "overflow_x": null,
            "grid_auto_flow": null,
            "grid_area": null,
            "grid_template_columns": null,
            "flex": null,
            "_model_name": "LayoutModel",
            "justify_items": null,
            "grid_row": null,
            "max_height": null,
            "align_content": null,
            "visibility": null,
            "align_self": null,
            "height": null,
            "min_height": null,
            "padding": null,
            "grid_auto_rows": null,
            "grid_gap": null,
            "max_width": null,
            "order": null,
            "_view_module_version": "1.2.0",
            "grid_template_areas": null,
            "object_position": null,
            "object_fit": null,
            "grid_auto_columns": null,
            "margin": null,
            "display": null,
            "left": null
          }
        },
        "2368602dc6dc46e898acea84a1d9037b": {
          "model_module": "@jupyter-widgets/controls",
          "model_name": "HBoxModel",
          "model_module_version": "1.5.0",
          "state": {
            "_view_name": "HBoxView",
            "_dom_classes": [],
            "_model_name": "HBoxModel",
            "_view_module": "@jupyter-widgets/controls",
            "_model_module_version": "1.5.0",
            "_view_count": null,
            "_view_module_version": "1.5.0",
            "box_style": "",
            "layout": "IPY_MODEL_71e4fcb31ed646649cc6ec6c2dd80329",
            "_model_module": "@jupyter-widgets/controls",
            "children": [
              "IPY_MODEL_fee3ef35c3e44c1e863ebe989daaf9d6",
              "IPY_MODEL_f8ceecd773dd45f39f24653bb23c6e73",
              "IPY_MODEL_9fe78cbde9f8479688d6ca04261b0c93"
            ]
          }
        },
        "71e4fcb31ed646649cc6ec6c2dd80329": {
          "model_module": "@jupyter-widgets/base",
          "model_name": "LayoutModel",
          "model_module_version": "1.2.0",
          "state": {
            "_view_name": "LayoutView",
            "grid_template_rows": null,
            "right": null,
            "justify_content": null,
            "_view_module": "@jupyter-widgets/base",
            "overflow": null,
            "_model_module_version": "1.2.0",
            "_view_count": null,
            "flex_flow": null,
            "width": null,
            "min_width": null,
            "border": null,
            "align_items": null,
            "bottom": null,
            "_model_module": "@jupyter-widgets/base",
            "top": null,
            "grid_column": null,
            "overflow_y": null,
            "overflow_x": null,
            "grid_auto_flow": null,
            "grid_area": null,
            "grid_template_columns": null,
            "flex": null,
            "_model_name": "LayoutModel",
            "justify_items": null,
            "grid_row": null,
            "max_height": null,
            "align_content": null,
            "visibility": null,
            "align_self": null,
            "height": null,
            "min_height": null,
            "padding": null,
            "grid_auto_rows": null,
            "grid_gap": null,
            "max_width": null,
            "order": null,
            "_view_module_version": "1.2.0",
            "grid_template_areas": null,
            "object_position": null,
            "object_fit": null,
            "grid_auto_columns": null,
            "margin": null,
            "display": null,
            "left": null
          }
        },
        "fee3ef35c3e44c1e863ebe989daaf9d6": {
          "model_module": "@jupyter-widgets/controls",
          "model_name": "HTMLModel",
          "model_module_version": "1.5.0",
          "state": {
            "_view_name": "HTMLView",
            "style": "IPY_MODEL_9401880c15a143ba84a6f62532b41ab3",
            "_dom_classes": [],
            "description": "",
            "_model_name": "HTMLModel",
            "placeholder": "​",
            "_view_module": "@jupyter-widgets/controls",
            "_model_module_version": "1.5.0",
            "value": "BR(DPH): 100%",
            "_view_count": null,
            "_view_module_version": "1.5.0",
            "description_tooltip": null,
            "_model_module": "@jupyter-widgets/controls",
            "layout": "IPY_MODEL_cdca96e2716a425c8f73e90f74de2334"
          }
        },
        "f8ceecd773dd45f39f24653bb23c6e73": {
          "model_module": "@jupyter-widgets/controls",
          "model_name": "FloatProgressModel",
          "model_module_version": "1.5.0",
          "state": {
            "_view_name": "ProgressView",
            "style": "IPY_MODEL_b2c5784712494cf28343d44859fa1cdd",
            "_dom_classes": [],
            "description": "",
            "_model_name": "FloatProgressModel",
            "bar_style": "success",
            "max": 10,
            "_view_module": "@jupyter-widgets/controls",
            "_model_module_version": "1.5.0",
            "value": 10,
            "_view_count": null,
            "_view_module_version": "1.5.0",
            "orientation": "horizontal",
            "min": 0,
            "description_tooltip": null,
            "_model_module": "@jupyter-widgets/controls",
            "layout": "IPY_MODEL_2c2342cfb00c461499e6b78ce24de851"
          }
        },
        "9fe78cbde9f8479688d6ca04261b0c93": {
          "model_module": "@jupyter-widgets/controls",
          "model_name": "HTMLModel",
          "model_module_version": "1.5.0",
          "state": {
            "_view_name": "HTMLView",
            "style": "IPY_MODEL_8d4218bf80774c29953e4d7f9994e30f",
            "_dom_classes": [],
            "description": "",
            "_model_name": "HTMLModel",
            "placeholder": "​",
            "_view_module": "@jupyter-widgets/controls",
            "_model_module_version": "1.5.0",
            "value": " 10/10 [00:01&lt;00:00,  6.20q/s]",
            "_view_count": null,
            "_view_module_version": "1.5.0",
            "description_tooltip": null,
            "_model_module": "@jupyter-widgets/controls",
            "layout": "IPY_MODEL_25197e53d1e14a5e8e962ef91174f7ed"
          }
        },
        "9401880c15a143ba84a6f62532b41ab3": {
          "model_module": "@jupyter-widgets/controls",
          "model_name": "DescriptionStyleModel",
          "model_module_version": "1.5.0",
          "state": {
            "_view_name": "StyleView",
            "_model_name": "DescriptionStyleModel",
            "description_width": "",
            "_view_module": "@jupyter-widgets/base",
            "_model_module_version": "1.5.0",
            "_view_count": null,
            "_view_module_version": "1.2.0",
            "_model_module": "@jupyter-widgets/controls"
          }
        },
        "cdca96e2716a425c8f73e90f74de2334": {
          "model_module": "@jupyter-widgets/base",
          "model_name": "LayoutModel",
          "model_module_version": "1.2.0",
          "state": {
            "_view_name": "LayoutView",
            "grid_template_rows": null,
            "right": null,
            "justify_content": null,
            "_view_module": "@jupyter-widgets/base",
            "overflow": null,
            "_model_module_version": "1.2.0",
            "_view_count": null,
            "flex_flow": null,
            "width": null,
            "min_width": null,
            "border": null,
            "align_items": null,
            "bottom": null,
            "_model_module": "@jupyter-widgets/base",
            "top": null,
            "grid_column": null,
            "overflow_y": null,
            "overflow_x": null,
            "grid_auto_flow": null,
            "grid_area": null,
            "grid_template_columns": null,
            "flex": null,
            "_model_name": "LayoutModel",
            "justify_items": null,
            "grid_row": null,
            "max_height": null,
            "align_content": null,
            "visibility": null,
            "align_self": null,
            "height": null,
            "min_height": null,
            "padding": null,
            "grid_auto_rows": null,
            "grid_gap": null,
            "max_width": null,
            "order": null,
            "_view_module_version": "1.2.0",
            "grid_template_areas": null,
            "object_position": null,
            "object_fit": null,
            "grid_auto_columns": null,
            "margin": null,
            "display": null,
            "left": null
          }
        },
        "b2c5784712494cf28343d44859fa1cdd": {
          "model_module": "@jupyter-widgets/controls",
          "model_name": "ProgressStyleModel",
          "model_module_version": "1.5.0",
          "state": {
            "_view_name": "StyleView",
            "_model_name": "ProgressStyleModel",
            "description_width": "",
            "_view_module": "@jupyter-widgets/base",
            "_model_module_version": "1.5.0",
            "_view_count": null,
            "_view_module_version": "1.2.0",
            "bar_color": null,
            "_model_module": "@jupyter-widgets/controls"
          }
        },
        "2c2342cfb00c461499e6b78ce24de851": {
          "model_module": "@jupyter-widgets/base",
          "model_name": "LayoutModel",
          "model_module_version": "1.2.0",
          "state": {
            "_view_name": "LayoutView",
            "grid_template_rows": null,
            "right": null,
            "justify_content": null,
            "_view_module": "@jupyter-widgets/base",
            "overflow": null,
            "_model_module_version": "1.2.0",
            "_view_count": null,
            "flex_flow": null,
            "width": null,
            "min_width": null,
            "border": null,
            "align_items": null,
            "bottom": null,
            "_model_module": "@jupyter-widgets/base",
            "top": null,
            "grid_column": null,
            "overflow_y": null,
            "overflow_x": null,
            "grid_auto_flow": null,
            "grid_area": null,
            "grid_template_columns": null,
            "flex": null,
            "_model_name": "LayoutModel",
            "justify_items": null,
            "grid_row": null,
            "max_height": null,
            "align_content": null,
            "visibility": null,
            "align_self": null,
            "height": null,
            "min_height": null,
            "padding": null,
            "grid_auto_rows": null,
            "grid_gap": null,
            "max_width": null,
            "order": null,
            "_view_module_version": "1.2.0",
            "grid_template_areas": null,
            "object_position": null,
            "object_fit": null,
            "grid_auto_columns": null,
            "margin": null,
            "display": null,
            "left": null
          }
        },
        "8d4218bf80774c29953e4d7f9994e30f": {
          "model_module": "@jupyter-widgets/controls",
          "model_name": "DescriptionStyleModel",
          "model_module_version": "1.5.0",
          "state": {
            "_view_name": "StyleView",
            "_model_name": "DescriptionStyleModel",
            "description_width": "",
            "_view_module": "@jupyter-widgets/base",
            "_model_module_version": "1.5.0",
            "_view_count": null,
            "_view_module_version": "1.2.0",
            "_model_module": "@jupyter-widgets/controls"
          }
        },
        "25197e53d1e14a5e8e962ef91174f7ed": {
          "model_module": "@jupyter-widgets/base",
          "model_name": "LayoutModel",
          "model_module_version": "1.2.0",
          "state": {
            "_view_name": "LayoutView",
            "grid_template_rows": null,
            "right": null,
            "justify_content": null,
            "_view_module": "@jupyter-widgets/base",
            "overflow": null,
            "_model_module_version": "1.2.0",
            "_view_count": null,
            "flex_flow": null,
            "width": null,
            "min_width": null,
            "border": null,
            "align_items": null,
            "bottom": null,
            "_model_module": "@jupyter-widgets/base",
            "top": null,
            "grid_column": null,
            "overflow_y": null,
            "overflow_x": null,
            "grid_auto_flow": null,
            "grid_area": null,
            "grid_template_columns": null,
            "flex": null,
            "_model_name": "LayoutModel",
            "justify_items": null,
            "grid_row": null,
            "max_height": null,
            "align_content": null,
            "visibility": null,
            "align_self": null,
            "height": null,
            "min_height": null,
            "padding": null,
            "grid_auto_rows": null,
            "grid_gap": null,
            "max_width": null,
            "order": null,
            "_view_module_version": "1.2.0",
            "grid_template_areas": null,
            "object_position": null,
            "object_fit": null,
            "grid_auto_columns": null,
            "margin": null,
            "display": null,
            "left": null
          }
        },
        "57873e71b2db45a59da667af124b7bc7": {
          "model_module": "@jupyter-widgets/controls",
          "model_name": "HBoxModel",
          "model_module_version": "1.5.0",
          "state": {
            "_view_name": "HBoxView",
            "_dom_classes": [],
            "_model_name": "HBoxModel",
            "_view_module": "@jupyter-widgets/controls",
            "_model_module_version": "1.5.0",
            "_view_count": null,
            "_view_module_version": "1.5.0",
            "box_style": "",
            "layout": "IPY_MODEL_8200966fb4be485eabcd9f15b7dc43b2",
            "_model_module": "@jupyter-widgets/controls",
            "children": [
              "IPY_MODEL_9cdd21fe94fd4140a4d670d34fa8458e",
              "IPY_MODEL_895106ceae9840e6ad8ec99ee4941b9a",
              "IPY_MODEL_bc6ee265add848db93388452751f177d"
            ]
          }
        },
        "8200966fb4be485eabcd9f15b7dc43b2": {
          "model_module": "@jupyter-widgets/base",
          "model_name": "LayoutModel",
          "model_module_version": "1.2.0",
          "state": {
            "_view_name": "LayoutView",
            "grid_template_rows": null,
            "right": null,
            "justify_content": null,
            "_view_module": "@jupyter-widgets/base",
            "overflow": null,
            "_model_module_version": "1.2.0",
            "_view_count": null,
            "flex_flow": null,
            "width": null,
            "min_width": null,
            "border": null,
            "align_items": null,
            "bottom": null,
            "_model_module": "@jupyter-widgets/base",
            "top": null,
            "grid_column": null,
            "overflow_y": null,
            "overflow_x": null,
            "grid_auto_flow": null,
            "grid_area": null,
            "grid_template_columns": null,
            "flex": null,
            "_model_name": "LayoutModel",
            "justify_items": null,
            "grid_row": null,
            "max_height": null,
            "align_content": null,
            "visibility": null,
            "align_self": null,
            "height": null,
            "min_height": null,
            "padding": null,
            "grid_auto_rows": null,
            "grid_gap": null,
            "max_width": null,
            "order": null,
            "_view_module_version": "1.2.0",
            "grid_template_areas": null,
            "object_position": null,
            "object_fit": null,
            "grid_auto_columns": null,
            "margin": null,
            "display": null,
            "left": null
          }
        },
        "9cdd21fe94fd4140a4d670d34fa8458e": {
          "model_module": "@jupyter-widgets/controls",
          "model_name": "HTMLModel",
          "model_module_version": "1.5.0",
          "state": {
            "_view_name": "HTMLView",
            "style": "IPY_MODEL_3ee92807fd7a47f4ac859f2d236316ed",
            "_dom_classes": [],
            "description": "",
            "_model_name": "HTMLModel",
            "placeholder": "​",
            "_view_module": "@jupyter-widgets/controls",
            "_model_module_version": "1.5.0",
            "value": "BR(DPH): 100%",
            "_view_count": null,
            "_view_module_version": "1.5.0",
            "description_tooltip": null,
            "_model_module": "@jupyter-widgets/controls",
            "layout": "IPY_MODEL_925429e43caa47838a68449c6e183fd9"
          }
        },
        "895106ceae9840e6ad8ec99ee4941b9a": {
          "model_module": "@jupyter-widgets/controls",
          "model_name": "FloatProgressModel",
          "model_module_version": "1.5.0",
          "state": {
            "_view_name": "ProgressView",
            "style": "IPY_MODEL_02f3b5af4bd64cae8fc8253fa93ef20a",
            "_dom_classes": [],
            "description": "",
            "_model_name": "FloatProgressModel",
            "bar_style": "success",
            "max": 10,
            "_view_module": "@jupyter-widgets/controls",
            "_model_module_version": "1.5.0",
            "value": 10,
            "_view_count": null,
            "_view_module_version": "1.5.0",
            "orientation": "horizontal",
            "min": 0,
            "description_tooltip": null,
            "_model_module": "@jupyter-widgets/controls",
            "layout": "IPY_MODEL_a279edbac98b486a9dc5a9d1fcaaff67"
          }
        },
        "bc6ee265add848db93388452751f177d": {
          "model_module": "@jupyter-widgets/controls",
          "model_name": "HTMLModel",
          "model_module_version": "1.5.0",
          "state": {
            "_view_name": "HTMLView",
            "style": "IPY_MODEL_213589b7af9147588b2edcb0e6d65b1c",
            "_dom_classes": [],
            "description": "",
            "_model_name": "HTMLModel",
            "placeholder": "​",
            "_view_module": "@jupyter-widgets/controls",
            "_model_module_version": "1.5.0",
            "value": " 10/10 [00:01&lt;00:00,  4.81q/s]",
            "_view_count": null,
            "_view_module_version": "1.5.0",
            "description_tooltip": null,
            "_model_module": "@jupyter-widgets/controls",
            "layout": "IPY_MODEL_292f1c0f13dd490a86ab71e4394682ae"
          }
        },
        "3ee92807fd7a47f4ac859f2d236316ed": {
          "model_module": "@jupyter-widgets/controls",
          "model_name": "DescriptionStyleModel",
          "model_module_version": "1.5.0",
          "state": {
            "_view_name": "StyleView",
            "_model_name": "DescriptionStyleModel",
            "description_width": "",
            "_view_module": "@jupyter-widgets/base",
            "_model_module_version": "1.5.0",
            "_view_count": null,
            "_view_module_version": "1.2.0",
            "_model_module": "@jupyter-widgets/controls"
          }
        },
        "925429e43caa47838a68449c6e183fd9": {
          "model_module": "@jupyter-widgets/base",
          "model_name": "LayoutModel",
          "model_module_version": "1.2.0",
          "state": {
            "_view_name": "LayoutView",
            "grid_template_rows": null,
            "right": null,
            "justify_content": null,
            "_view_module": "@jupyter-widgets/base",
            "overflow": null,
            "_model_module_version": "1.2.0",
            "_view_count": null,
            "flex_flow": null,
            "width": null,
            "min_width": null,
            "border": null,
            "align_items": null,
            "bottom": null,
            "_model_module": "@jupyter-widgets/base",
            "top": null,
            "grid_column": null,
            "overflow_y": null,
            "overflow_x": null,
            "grid_auto_flow": null,
            "grid_area": null,
            "grid_template_columns": null,
            "flex": null,
            "_model_name": "LayoutModel",
            "justify_items": null,
            "grid_row": null,
            "max_height": null,
            "align_content": null,
            "visibility": null,
            "align_self": null,
            "height": null,
            "min_height": null,
            "padding": null,
            "grid_auto_rows": null,
            "grid_gap": null,
            "max_width": null,
            "order": null,
            "_view_module_version": "1.2.0",
            "grid_template_areas": null,
            "object_position": null,
            "object_fit": null,
            "grid_auto_columns": null,
            "margin": null,
            "display": null,
            "left": null
          }
        },
        "02f3b5af4bd64cae8fc8253fa93ef20a": {
          "model_module": "@jupyter-widgets/controls",
          "model_name": "ProgressStyleModel",
          "model_module_version": "1.5.0",
          "state": {
            "_view_name": "StyleView",
            "_model_name": "ProgressStyleModel",
            "description_width": "",
            "_view_module": "@jupyter-widgets/base",
            "_model_module_version": "1.5.0",
            "_view_count": null,
            "_view_module_version": "1.2.0",
            "bar_color": null,
            "_model_module": "@jupyter-widgets/controls"
          }
        },
        "a279edbac98b486a9dc5a9d1fcaaff67": {
          "model_module": "@jupyter-widgets/base",
          "model_name": "LayoutModel",
          "model_module_version": "1.2.0",
          "state": {
            "_view_name": "LayoutView",
            "grid_template_rows": null,
            "right": null,
            "justify_content": null,
            "_view_module": "@jupyter-widgets/base",
            "overflow": null,
            "_model_module_version": "1.2.0",
            "_view_count": null,
            "flex_flow": null,
            "width": null,
            "min_width": null,
            "border": null,
            "align_items": null,
            "bottom": null,
            "_model_module": "@jupyter-widgets/base",
            "top": null,
            "grid_column": null,
            "overflow_y": null,
            "overflow_x": null,
            "grid_auto_flow": null,
            "grid_area": null,
            "grid_template_columns": null,
            "flex": null,
            "_model_name": "LayoutModel",
            "justify_items": null,
            "grid_row": null,
            "max_height": null,
            "align_content": null,
            "visibility": null,
            "align_self": null,
            "height": null,
            "min_height": null,
            "padding": null,
            "grid_auto_rows": null,
            "grid_gap": null,
            "max_width": null,
            "order": null,
            "_view_module_version": "1.2.0",
            "grid_template_areas": null,
            "object_position": null,
            "object_fit": null,
            "grid_auto_columns": null,
            "margin": null,
            "display": null,
            "left": null
          }
        },
        "213589b7af9147588b2edcb0e6d65b1c": {
          "model_module": "@jupyter-widgets/controls",
          "model_name": "DescriptionStyleModel",
          "model_module_version": "1.5.0",
          "state": {
            "_view_name": "StyleView",
            "_model_name": "DescriptionStyleModel",
            "description_width": "",
            "_view_module": "@jupyter-widgets/base",
            "_model_module_version": "1.5.0",
            "_view_count": null,
            "_view_module_version": "1.2.0",
            "_model_module": "@jupyter-widgets/controls"
          }
        },
        "292f1c0f13dd490a86ab71e4394682ae": {
          "model_module": "@jupyter-widgets/base",
          "model_name": "LayoutModel",
          "model_module_version": "1.2.0",
          "state": {
            "_view_name": "LayoutView",
            "grid_template_rows": null,
            "right": null,
            "justify_content": null,
            "_view_module": "@jupyter-widgets/base",
            "overflow": null,
            "_model_module_version": "1.2.0",
            "_view_count": null,
            "flex_flow": null,
            "width": null,
            "min_width": null,
            "border": null,
            "align_items": null,
            "bottom": null,
            "_model_module": "@jupyter-widgets/base",
            "top": null,
            "grid_column": null,
            "overflow_y": null,
            "overflow_x": null,
            "grid_auto_flow": null,
            "grid_area": null,
            "grid_template_columns": null,
            "flex": null,
            "_model_name": "LayoutModel",
            "justify_items": null,
            "grid_row": null,
            "max_height": null,
            "align_content": null,
            "visibility": null,
            "align_self": null,
            "height": null,
            "min_height": null,
            "padding": null,
            "grid_auto_rows": null,
            "grid_gap": null,
            "max_width": null,
            "order": null,
            "_view_module_version": "1.2.0",
            "grid_template_areas": null,
            "object_position": null,
            "object_fit": null,
            "grid_auto_columns": null,
            "margin": null,
            "display": null,
            "left": null
          }
        },
        "83abc33a8c754c72b07b9732d38d12fe": {
          "model_module": "@jupyter-widgets/controls",
          "model_name": "HBoxModel",
          "model_module_version": "1.5.0",
          "state": {
            "_view_name": "HBoxView",
            "_dom_classes": [],
            "_model_name": "HBoxModel",
            "_view_module": "@jupyter-widgets/controls",
            "_model_module_version": "1.5.0",
            "_view_count": null,
            "_view_module_version": "1.5.0",
            "box_style": "",
            "layout": "IPY_MODEL_65a4818a8f444084910592f082bf49f3",
            "_model_module": "@jupyter-widgets/controls",
            "children": [
              "IPY_MODEL_4050bed22368441a9e0aa822c6269715",
              "IPY_MODEL_eb95d255a3f243f68fde4a2211446cf1",
              "IPY_MODEL_8f60b38cd9a949fb93c11b2617040eab"
            ]
          }
        },
        "65a4818a8f444084910592f082bf49f3": {
          "model_module": "@jupyter-widgets/base",
          "model_name": "LayoutModel",
          "model_module_version": "1.2.0",
          "state": {
            "_view_name": "LayoutView",
            "grid_template_rows": null,
            "right": null,
            "justify_content": null,
            "_view_module": "@jupyter-widgets/base",
            "overflow": null,
            "_model_module_version": "1.2.0",
            "_view_count": null,
            "flex_flow": null,
            "width": null,
            "min_width": null,
            "border": null,
            "align_items": null,
            "bottom": null,
            "_model_module": "@jupyter-widgets/base",
            "top": null,
            "grid_column": null,
            "overflow_y": null,
            "overflow_x": null,
            "grid_auto_flow": null,
            "grid_area": null,
            "grid_template_columns": null,
            "flex": null,
            "_model_name": "LayoutModel",
            "justify_items": null,
            "grid_row": null,
            "max_height": null,
            "align_content": null,
            "visibility": null,
            "align_self": null,
            "height": null,
            "min_height": null,
            "padding": null,
            "grid_auto_rows": null,
            "grid_gap": null,
            "max_width": null,
            "order": null,
            "_view_module_version": "1.2.0",
            "grid_template_areas": null,
            "object_position": null,
            "object_fit": null,
            "grid_auto_columns": null,
            "margin": null,
            "display": null,
            "left": null
          }
        },
        "4050bed22368441a9e0aa822c6269715": {
          "model_module": "@jupyter-widgets/controls",
          "model_name": "HTMLModel",
          "model_module_version": "1.5.0",
          "state": {
            "_view_name": "HTMLView",
            "style": "IPY_MODEL_b2bdfb5562fb4fcfb275974db66df71c",
            "_dom_classes": [],
            "description": "",
            "_model_name": "HTMLModel",
            "placeholder": "​",
            "_view_module": "@jupyter-widgets/controls",
            "_model_module_version": "1.5.0",
            "value": "BR(DPH): 100%",
            "_view_count": null,
            "_view_module_version": "1.5.0",
            "description_tooltip": null,
            "_model_module": "@jupyter-widgets/controls",
            "layout": "IPY_MODEL_8e21d2ecca844bf58860f9c763e10807"
          }
        },
        "eb95d255a3f243f68fde4a2211446cf1": {
          "model_module": "@jupyter-widgets/controls",
          "model_name": "FloatProgressModel",
          "model_module_version": "1.5.0",
          "state": {
            "_view_name": "ProgressView",
            "style": "IPY_MODEL_a64b2efd183a4dec9c4e7cf04ceea4e7",
            "_dom_classes": [],
            "description": "",
            "_model_name": "FloatProgressModel",
            "bar_style": "success",
            "max": 10,
            "_view_module": "@jupyter-widgets/controls",
            "_model_module_version": "1.5.0",
            "value": 10,
            "_view_count": null,
            "_view_module_version": "1.5.0",
            "orientation": "horizontal",
            "min": 0,
            "description_tooltip": null,
            "_model_module": "@jupyter-widgets/controls",
            "layout": "IPY_MODEL_19a97aeb152047378d99d586b45847cf"
          }
        },
        "8f60b38cd9a949fb93c11b2617040eab": {
          "model_module": "@jupyter-widgets/controls",
          "model_name": "HTMLModel",
          "model_module_version": "1.5.0",
          "state": {
            "_view_name": "HTMLView",
            "style": "IPY_MODEL_22c9a568a53f4e78afefd1672fa8afa6",
            "_dom_classes": [],
            "description": "",
            "_model_name": "HTMLModel",
            "placeholder": "​",
            "_view_module": "@jupyter-widgets/controls",
            "_model_module_version": "1.5.0",
            "value": " 10/10 [00:01&lt;00:00,  6.50q/s]",
            "_view_count": null,
            "_view_module_version": "1.5.0",
            "description_tooltip": null,
            "_model_module": "@jupyter-widgets/controls",
            "layout": "IPY_MODEL_a989aea4a87a4aa0910dca80ae345a2f"
          }
        },
        "b2bdfb5562fb4fcfb275974db66df71c": {
          "model_module": "@jupyter-widgets/controls",
          "model_name": "DescriptionStyleModel",
          "model_module_version": "1.5.0",
          "state": {
            "_view_name": "StyleView",
            "_model_name": "DescriptionStyleModel",
            "description_width": "",
            "_view_module": "@jupyter-widgets/base",
            "_model_module_version": "1.5.0",
            "_view_count": null,
            "_view_module_version": "1.2.0",
            "_model_module": "@jupyter-widgets/controls"
          }
        },
        "8e21d2ecca844bf58860f9c763e10807": {
          "model_module": "@jupyter-widgets/base",
          "model_name": "LayoutModel",
          "model_module_version": "1.2.0",
          "state": {
            "_view_name": "LayoutView",
            "grid_template_rows": null,
            "right": null,
            "justify_content": null,
            "_view_module": "@jupyter-widgets/base",
            "overflow": null,
            "_model_module_version": "1.2.0",
            "_view_count": null,
            "flex_flow": null,
            "width": null,
            "min_width": null,
            "border": null,
            "align_items": null,
            "bottom": null,
            "_model_module": "@jupyter-widgets/base",
            "top": null,
            "grid_column": null,
            "overflow_y": null,
            "overflow_x": null,
            "grid_auto_flow": null,
            "grid_area": null,
            "grid_template_columns": null,
            "flex": null,
            "_model_name": "LayoutModel",
            "justify_items": null,
            "grid_row": null,
            "max_height": null,
            "align_content": null,
            "visibility": null,
            "align_self": null,
            "height": null,
            "min_height": null,
            "padding": null,
            "grid_auto_rows": null,
            "grid_gap": null,
            "max_width": null,
            "order": null,
            "_view_module_version": "1.2.0",
            "grid_template_areas": null,
            "object_position": null,
            "object_fit": null,
            "grid_auto_columns": null,
            "margin": null,
            "display": null,
            "left": null
          }
        },
        "a64b2efd183a4dec9c4e7cf04ceea4e7": {
          "model_module": "@jupyter-widgets/controls",
          "model_name": "ProgressStyleModel",
          "model_module_version": "1.5.0",
          "state": {
            "_view_name": "StyleView",
            "_model_name": "ProgressStyleModel",
            "description_width": "",
            "_view_module": "@jupyter-widgets/base",
            "_model_module_version": "1.5.0",
            "_view_count": null,
            "_view_module_version": "1.2.0",
            "bar_color": null,
            "_model_module": "@jupyter-widgets/controls"
          }
        },
        "19a97aeb152047378d99d586b45847cf": {
          "model_module": "@jupyter-widgets/base",
          "model_name": "LayoutModel",
          "model_module_version": "1.2.0",
          "state": {
            "_view_name": "LayoutView",
            "grid_template_rows": null,
            "right": null,
            "justify_content": null,
            "_view_module": "@jupyter-widgets/base",
            "overflow": null,
            "_model_module_version": "1.2.0",
            "_view_count": null,
            "flex_flow": null,
            "width": null,
            "min_width": null,
            "border": null,
            "align_items": null,
            "bottom": null,
            "_model_module": "@jupyter-widgets/base",
            "top": null,
            "grid_column": null,
            "overflow_y": null,
            "overflow_x": null,
            "grid_auto_flow": null,
            "grid_area": null,
            "grid_template_columns": null,
            "flex": null,
            "_model_name": "LayoutModel",
            "justify_items": null,
            "grid_row": null,
            "max_height": null,
            "align_content": null,
            "visibility": null,
            "align_self": null,
            "height": null,
            "min_height": null,
            "padding": null,
            "grid_auto_rows": null,
            "grid_gap": null,
            "max_width": null,
            "order": null,
            "_view_module_version": "1.2.0",
            "grid_template_areas": null,
            "object_position": null,
            "object_fit": null,
            "grid_auto_columns": null,
            "margin": null,
            "display": null,
            "left": null
          }
        },
        "22c9a568a53f4e78afefd1672fa8afa6": {
          "model_module": "@jupyter-widgets/controls",
          "model_name": "DescriptionStyleModel",
          "model_module_version": "1.5.0",
          "state": {
            "_view_name": "StyleView",
            "_model_name": "DescriptionStyleModel",
            "description_width": "",
            "_view_module": "@jupyter-widgets/base",
            "_model_module_version": "1.5.0",
            "_view_count": null,
            "_view_module_version": "1.2.0",
            "_model_module": "@jupyter-widgets/controls"
          }
        },
        "a989aea4a87a4aa0910dca80ae345a2f": {
          "model_module": "@jupyter-widgets/base",
          "model_name": "LayoutModel",
          "model_module_version": "1.2.0",
          "state": {
            "_view_name": "LayoutView",
            "grid_template_rows": null,
            "right": null,
            "justify_content": null,
            "_view_module": "@jupyter-widgets/base",
            "overflow": null,
            "_model_module_version": "1.2.0",
            "_view_count": null,
            "flex_flow": null,
            "width": null,
            "min_width": null,
            "border": null,
            "align_items": null,
            "bottom": null,
            "_model_module": "@jupyter-widgets/base",
            "top": null,
            "grid_column": null,
            "overflow_y": null,
            "overflow_x": null,
            "grid_auto_flow": null,
            "grid_area": null,
            "grid_template_columns": null,
            "flex": null,
            "_model_name": "LayoutModel",
            "justify_items": null,
            "grid_row": null,
            "max_height": null,
            "align_content": null,
            "visibility": null,
            "align_self": null,
            "height": null,
            "min_height": null,
            "padding": null,
            "grid_auto_rows": null,
            "grid_gap": null,
            "max_width": null,
            "order": null,
            "_view_module_version": "1.2.0",
            "grid_template_areas": null,
            "object_position": null,
            "object_fit": null,
            "grid_auto_columns": null,
            "margin": null,
            "display": null,
            "left": null
          }
        },
        "95a7b8da9f754d03aeec65d321ec878a": {
          "model_module": "@jupyter-widgets/controls",
          "model_name": "HBoxModel",
          "model_module_version": "1.5.0",
          "state": {
            "_view_name": "HBoxView",
            "_dom_classes": [],
            "_model_name": "HBoxModel",
            "_view_module": "@jupyter-widgets/controls",
            "_model_module_version": "1.5.0",
            "_view_count": null,
            "_view_module_version": "1.5.0",
            "box_style": "",
            "layout": "IPY_MODEL_81900f3a26c84fd4b70afef6c69aa06f",
            "_model_module": "@jupyter-widgets/controls",
            "children": [
              "IPY_MODEL_7d5eca39e6ab40d2aedea1121d01a16e",
              "IPY_MODEL_0a61bf6a7fbc4e9388a927efaca6d9f1",
              "IPY_MODEL_fdd1d7e7f73f4055926575fd77371315"
            ]
          }
        },
        "81900f3a26c84fd4b70afef6c69aa06f": {
          "model_module": "@jupyter-widgets/base",
          "model_name": "LayoutModel",
          "model_module_version": "1.2.0",
          "state": {
            "_view_name": "LayoutView",
            "grid_template_rows": null,
            "right": null,
            "justify_content": null,
            "_view_module": "@jupyter-widgets/base",
            "overflow": null,
            "_model_module_version": "1.2.0",
            "_view_count": null,
            "flex_flow": null,
            "width": null,
            "min_width": null,
            "border": null,
            "align_items": null,
            "bottom": null,
            "_model_module": "@jupyter-widgets/base",
            "top": null,
            "grid_column": null,
            "overflow_y": null,
            "overflow_x": null,
            "grid_auto_flow": null,
            "grid_area": null,
            "grid_template_columns": null,
            "flex": null,
            "_model_name": "LayoutModel",
            "justify_items": null,
            "grid_row": null,
            "max_height": null,
            "align_content": null,
            "visibility": null,
            "align_self": null,
            "height": null,
            "min_height": null,
            "padding": null,
            "grid_auto_rows": null,
            "grid_gap": null,
            "max_width": null,
            "order": null,
            "_view_module_version": "1.2.0",
            "grid_template_areas": null,
            "object_position": null,
            "object_fit": null,
            "grid_auto_columns": null,
            "margin": null,
            "display": null,
            "left": null
          }
        },
        "7d5eca39e6ab40d2aedea1121d01a16e": {
          "model_module": "@jupyter-widgets/controls",
          "model_name": "HTMLModel",
          "model_module_version": "1.5.0",
          "state": {
            "_view_name": "HTMLView",
            "style": "IPY_MODEL_2967c34bbb8e4058acd50533200dd72b",
            "_dom_classes": [],
            "description": "",
            "_model_name": "HTMLModel",
            "placeholder": "​",
            "_view_module": "@jupyter-widgets/controls",
            "_model_module_version": "1.5.0",
            "value": "BR(DPH): 100%",
            "_view_count": null,
            "_view_module_version": "1.5.0",
            "description_tooltip": null,
            "_model_module": "@jupyter-widgets/controls",
            "layout": "IPY_MODEL_d0839f1be3d94f1e8be6d16973eccd65"
          }
        },
        "0a61bf6a7fbc4e9388a927efaca6d9f1": {
          "model_module": "@jupyter-widgets/controls",
          "model_name": "FloatProgressModel",
          "model_module_version": "1.5.0",
          "state": {
            "_view_name": "ProgressView",
            "style": "IPY_MODEL_be8deb59097e43888e434de801365be0",
            "_dom_classes": [],
            "description": "",
            "_model_name": "FloatProgressModel",
            "bar_style": "success",
            "max": 3,
            "_view_module": "@jupyter-widgets/controls",
            "_model_module_version": "1.5.0",
            "value": 3,
            "_view_count": null,
            "_view_module_version": "1.5.0",
            "orientation": "horizontal",
            "min": 0,
            "description_tooltip": null,
            "_model_module": "@jupyter-widgets/controls",
            "layout": "IPY_MODEL_4720a63bcce64e0caa090e799a5cdc48"
          }
        },
        "fdd1d7e7f73f4055926575fd77371315": {
          "model_module": "@jupyter-widgets/controls",
          "model_name": "HTMLModel",
          "model_module_version": "1.5.0",
          "state": {
            "_view_name": "HTMLView",
            "style": "IPY_MODEL_70c3a3e1fa7e4b0e9fe992fa4da76e70",
            "_dom_classes": [],
            "description": "",
            "_model_name": "HTMLModel",
            "placeholder": "​",
            "_view_module": "@jupyter-widgets/controls",
            "_model_module_version": "1.5.0",
            "value": " 3/3 [00:00&lt;00:00,  6.31q/s]",
            "_view_count": null,
            "_view_module_version": "1.5.0",
            "description_tooltip": null,
            "_model_module": "@jupyter-widgets/controls",
            "layout": "IPY_MODEL_15bd38b053d54009b85d33eedf5cbea8"
          }
        },
        "2967c34bbb8e4058acd50533200dd72b": {
          "model_module": "@jupyter-widgets/controls",
          "model_name": "DescriptionStyleModel",
          "model_module_version": "1.5.0",
          "state": {
            "_view_name": "StyleView",
            "_model_name": "DescriptionStyleModel",
            "description_width": "",
            "_view_module": "@jupyter-widgets/base",
            "_model_module_version": "1.5.0",
            "_view_count": null,
            "_view_module_version": "1.2.0",
            "_model_module": "@jupyter-widgets/controls"
          }
        },
        "d0839f1be3d94f1e8be6d16973eccd65": {
          "model_module": "@jupyter-widgets/base",
          "model_name": "LayoutModel",
          "model_module_version": "1.2.0",
          "state": {
            "_view_name": "LayoutView",
            "grid_template_rows": null,
            "right": null,
            "justify_content": null,
            "_view_module": "@jupyter-widgets/base",
            "overflow": null,
            "_model_module_version": "1.2.0",
            "_view_count": null,
            "flex_flow": null,
            "width": null,
            "min_width": null,
            "border": null,
            "align_items": null,
            "bottom": null,
            "_model_module": "@jupyter-widgets/base",
            "top": null,
            "grid_column": null,
            "overflow_y": null,
            "overflow_x": null,
            "grid_auto_flow": null,
            "grid_area": null,
            "grid_template_columns": null,
            "flex": null,
            "_model_name": "LayoutModel",
            "justify_items": null,
            "grid_row": null,
            "max_height": null,
            "align_content": null,
            "visibility": null,
            "align_self": null,
            "height": null,
            "min_height": null,
            "padding": null,
            "grid_auto_rows": null,
            "grid_gap": null,
            "max_width": null,
            "order": null,
            "_view_module_version": "1.2.0",
            "grid_template_areas": null,
            "object_position": null,
            "object_fit": null,
            "grid_auto_columns": null,
            "margin": null,
            "display": null,
            "left": null
          }
        },
        "be8deb59097e43888e434de801365be0": {
          "model_module": "@jupyter-widgets/controls",
          "model_name": "ProgressStyleModel",
          "model_module_version": "1.5.0",
          "state": {
            "_view_name": "StyleView",
            "_model_name": "ProgressStyleModel",
            "description_width": "",
            "_view_module": "@jupyter-widgets/base",
            "_model_module_version": "1.5.0",
            "_view_count": null,
            "_view_module_version": "1.2.0",
            "bar_color": null,
            "_model_module": "@jupyter-widgets/controls"
          }
        },
        "4720a63bcce64e0caa090e799a5cdc48": {
          "model_module": "@jupyter-widgets/base",
          "model_name": "LayoutModel",
          "model_module_version": "1.2.0",
          "state": {
            "_view_name": "LayoutView",
            "grid_template_rows": null,
            "right": null,
            "justify_content": null,
            "_view_module": "@jupyter-widgets/base",
            "overflow": null,
            "_model_module_version": "1.2.0",
            "_view_count": null,
            "flex_flow": null,
            "width": null,
            "min_width": null,
            "border": null,
            "align_items": null,
            "bottom": null,
            "_model_module": "@jupyter-widgets/base",
            "top": null,
            "grid_column": null,
            "overflow_y": null,
            "overflow_x": null,
            "grid_auto_flow": null,
            "grid_area": null,
            "grid_template_columns": null,
            "flex": null,
            "_model_name": "LayoutModel",
            "justify_items": null,
            "grid_row": null,
            "max_height": null,
            "align_content": null,
            "visibility": null,
            "align_self": null,
            "height": null,
            "min_height": null,
            "padding": null,
            "grid_auto_rows": null,
            "grid_gap": null,
            "max_width": null,
            "order": null,
            "_view_module_version": "1.2.0",
            "grid_template_areas": null,
            "object_position": null,
            "object_fit": null,
            "grid_auto_columns": null,
            "margin": null,
            "display": null,
            "left": null
          }
        },
        "70c3a3e1fa7e4b0e9fe992fa4da76e70": {
          "model_module": "@jupyter-widgets/controls",
          "model_name": "DescriptionStyleModel",
          "model_module_version": "1.5.0",
          "state": {
            "_view_name": "StyleView",
            "_model_name": "DescriptionStyleModel",
            "description_width": "",
            "_view_module": "@jupyter-widgets/base",
            "_model_module_version": "1.5.0",
            "_view_count": null,
            "_view_module_version": "1.2.0",
            "_model_module": "@jupyter-widgets/controls"
          }
        },
        "15bd38b053d54009b85d33eedf5cbea8": {
          "model_module": "@jupyter-widgets/base",
          "model_name": "LayoutModel",
          "model_module_version": "1.2.0",
          "state": {
            "_view_name": "LayoutView",
            "grid_template_rows": null,
            "right": null,
            "justify_content": null,
            "_view_module": "@jupyter-widgets/base",
            "overflow": null,
            "_model_module_version": "1.2.0",
            "_view_count": null,
            "flex_flow": null,
            "width": null,
            "min_width": null,
            "border": null,
            "align_items": null,
            "bottom": null,
            "_model_module": "@jupyter-widgets/base",
            "top": null,
            "grid_column": null,
            "overflow_y": null,
            "overflow_x": null,
            "grid_auto_flow": null,
            "grid_area": null,
            "grid_template_columns": null,
            "flex": null,
            "_model_name": "LayoutModel",
            "justify_items": null,
            "grid_row": null,
            "max_height": null,
            "align_content": null,
            "visibility": null,
            "align_self": null,
            "height": null,
            "min_height": null,
            "padding": null,
            "grid_auto_rows": null,
            "grid_gap": null,
            "max_width": null,
            "order": null,
            "_view_module_version": "1.2.0",
            "grid_template_areas": null,
            "object_position": null,
            "object_fit": null,
            "grid_auto_columns": null,
            "margin": null,
            "display": null,
            "left": null
          }
        },
        "eb32dec40fb14f168a5f7d87a594ad4f": {
          "model_module": "@jupyter-widgets/controls",
          "model_name": "HBoxModel",
          "model_module_version": "1.5.0",
          "state": {
            "_view_name": "HBoxView",
            "_dom_classes": [],
            "_model_name": "HBoxModel",
            "_view_module": "@jupyter-widgets/controls",
            "_model_module_version": "1.5.0",
            "_view_count": null,
            "_view_module_version": "1.5.0",
            "box_style": "",
            "layout": "IPY_MODEL_cb803784f6ea48f7b43c5824e0bbdf01",
            "_model_module": "@jupyter-widgets/controls",
            "children": [
              "IPY_MODEL_1df5fe7cbe6046269f7f543ef98a63a9",
              "IPY_MODEL_901a49994cb447c79af96d40832a4ce3",
              "IPY_MODEL_85251e9c3ffa4ce6985694c90420945e"
            ]
          }
        },
        "cb803784f6ea48f7b43c5824e0bbdf01": {
          "model_module": "@jupyter-widgets/base",
          "model_name": "LayoutModel",
          "model_module_version": "1.2.0",
          "state": {
            "_view_name": "LayoutView",
            "grid_template_rows": null,
            "right": null,
            "justify_content": null,
            "_view_module": "@jupyter-widgets/base",
            "overflow": null,
            "_model_module_version": "1.2.0",
            "_view_count": null,
            "flex_flow": null,
            "width": null,
            "min_width": null,
            "border": null,
            "align_items": null,
            "bottom": null,
            "_model_module": "@jupyter-widgets/base",
            "top": null,
            "grid_column": null,
            "overflow_y": null,
            "overflow_x": null,
            "grid_auto_flow": null,
            "grid_area": null,
            "grid_template_columns": null,
            "flex": null,
            "_model_name": "LayoutModel",
            "justify_items": null,
            "grid_row": null,
            "max_height": null,
            "align_content": null,
            "visibility": null,
            "align_self": null,
            "height": null,
            "min_height": null,
            "padding": null,
            "grid_auto_rows": null,
            "grid_gap": null,
            "max_width": null,
            "order": null,
            "_view_module_version": "1.2.0",
            "grid_template_areas": null,
            "object_position": null,
            "object_fit": null,
            "grid_auto_columns": null,
            "margin": null,
            "display": null,
            "left": null
          }
        },
        "1df5fe7cbe6046269f7f543ef98a63a9": {
          "model_module": "@jupyter-widgets/controls",
          "model_name": "HTMLModel",
          "model_module_version": "1.5.0",
          "state": {
            "_view_name": "HTMLView",
            "style": "IPY_MODEL_3b2ad512a47148f9a02ad9d7e25eb80e",
            "_dom_classes": [],
            "description": "",
            "_model_name": "HTMLModel",
            "placeholder": "​",
            "_view_module": "@jupyter-widgets/controls",
            "_model_module_version": "1.5.0",
            "value": "BR(DPH): 100%",
            "_view_count": null,
            "_view_module_version": "1.5.0",
            "description_tooltip": null,
            "_model_module": "@jupyter-widgets/controls",
            "layout": "IPY_MODEL_ac7bfd2d89514712bafd3ea6e944fb9c"
          }
        },
        "901a49994cb447c79af96d40832a4ce3": {
          "model_module": "@jupyter-widgets/controls",
          "model_name": "FloatProgressModel",
          "model_module_version": "1.5.0",
          "state": {
            "_view_name": "ProgressView",
            "style": "IPY_MODEL_8102eeeb836b49ada45bbf367ee1a217",
            "_dom_classes": [],
            "description": "",
            "_model_name": "FloatProgressModel",
            "bar_style": "success",
            "max": 10,
            "_view_module": "@jupyter-widgets/controls",
            "_model_module_version": "1.5.0",
            "value": 10,
            "_view_count": null,
            "_view_module_version": "1.5.0",
            "orientation": "horizontal",
            "min": 0,
            "description_tooltip": null,
            "_model_module": "@jupyter-widgets/controls",
            "layout": "IPY_MODEL_57c777f1cd0c44ec8e0212051633458d"
          }
        },
        "85251e9c3ffa4ce6985694c90420945e": {
          "model_module": "@jupyter-widgets/controls",
          "model_name": "HTMLModel",
          "model_module_version": "1.5.0",
          "state": {
            "_view_name": "HTMLView",
            "style": "IPY_MODEL_3f412fbc901b48a7a6319e7e208be4f4",
            "_dom_classes": [],
            "description": "",
            "_model_name": "HTMLModel",
            "placeholder": "​",
            "_view_module": "@jupyter-widgets/controls",
            "_model_module_version": "1.5.0",
            "value": " 10/10 [00:01&lt;00:00,  6.64q/s]",
            "_view_count": null,
            "_view_module_version": "1.5.0",
            "description_tooltip": null,
            "_model_module": "@jupyter-widgets/controls",
            "layout": "IPY_MODEL_a0bfe153c80a4d358b035b79f5b85ff5"
          }
        },
        "3b2ad512a47148f9a02ad9d7e25eb80e": {
          "model_module": "@jupyter-widgets/controls",
          "model_name": "DescriptionStyleModel",
          "model_module_version": "1.5.0",
          "state": {
            "_view_name": "StyleView",
            "_model_name": "DescriptionStyleModel",
            "description_width": "",
            "_view_module": "@jupyter-widgets/base",
            "_model_module_version": "1.5.0",
            "_view_count": null,
            "_view_module_version": "1.2.0",
            "_model_module": "@jupyter-widgets/controls"
          }
        },
        "ac7bfd2d89514712bafd3ea6e944fb9c": {
          "model_module": "@jupyter-widgets/base",
          "model_name": "LayoutModel",
          "model_module_version": "1.2.0",
          "state": {
            "_view_name": "LayoutView",
            "grid_template_rows": null,
            "right": null,
            "justify_content": null,
            "_view_module": "@jupyter-widgets/base",
            "overflow": null,
            "_model_module_version": "1.2.0",
            "_view_count": null,
            "flex_flow": null,
            "width": null,
            "min_width": null,
            "border": null,
            "align_items": null,
            "bottom": null,
            "_model_module": "@jupyter-widgets/base",
            "top": null,
            "grid_column": null,
            "overflow_y": null,
            "overflow_x": null,
            "grid_auto_flow": null,
            "grid_area": null,
            "grid_template_columns": null,
            "flex": null,
            "_model_name": "LayoutModel",
            "justify_items": null,
            "grid_row": null,
            "max_height": null,
            "align_content": null,
            "visibility": null,
            "align_self": null,
            "height": null,
            "min_height": null,
            "padding": null,
            "grid_auto_rows": null,
            "grid_gap": null,
            "max_width": null,
            "order": null,
            "_view_module_version": "1.2.0",
            "grid_template_areas": null,
            "object_position": null,
            "object_fit": null,
            "grid_auto_columns": null,
            "margin": null,
            "display": null,
            "left": null
          }
        },
        "8102eeeb836b49ada45bbf367ee1a217": {
          "model_module": "@jupyter-widgets/controls",
          "model_name": "ProgressStyleModel",
          "model_module_version": "1.5.0",
          "state": {
            "_view_name": "StyleView",
            "_model_name": "ProgressStyleModel",
            "description_width": "",
            "_view_module": "@jupyter-widgets/base",
            "_model_module_version": "1.5.0",
            "_view_count": null,
            "_view_module_version": "1.2.0",
            "bar_color": null,
            "_model_module": "@jupyter-widgets/controls"
          }
        },
        "57c777f1cd0c44ec8e0212051633458d": {
          "model_module": "@jupyter-widgets/base",
          "model_name": "LayoutModel",
          "model_module_version": "1.2.0",
          "state": {
            "_view_name": "LayoutView",
            "grid_template_rows": null,
            "right": null,
            "justify_content": null,
            "_view_module": "@jupyter-widgets/base",
            "overflow": null,
            "_model_module_version": "1.2.0",
            "_view_count": null,
            "flex_flow": null,
            "width": null,
            "min_width": null,
            "border": null,
            "align_items": null,
            "bottom": null,
            "_model_module": "@jupyter-widgets/base",
            "top": null,
            "grid_column": null,
            "overflow_y": null,
            "overflow_x": null,
            "grid_auto_flow": null,
            "grid_area": null,
            "grid_template_columns": null,
            "flex": null,
            "_model_name": "LayoutModel",
            "justify_items": null,
            "grid_row": null,
            "max_height": null,
            "align_content": null,
            "visibility": null,
            "align_self": null,
            "height": null,
            "min_height": null,
            "padding": null,
            "grid_auto_rows": null,
            "grid_gap": null,
            "max_width": null,
            "order": null,
            "_view_module_version": "1.2.0",
            "grid_template_areas": null,
            "object_position": null,
            "object_fit": null,
            "grid_auto_columns": null,
            "margin": null,
            "display": null,
            "left": null
          }
        },
        "3f412fbc901b48a7a6319e7e208be4f4": {
          "model_module": "@jupyter-widgets/controls",
          "model_name": "DescriptionStyleModel",
          "model_module_version": "1.5.0",
          "state": {
            "_view_name": "StyleView",
            "_model_name": "DescriptionStyleModel",
            "description_width": "",
            "_view_module": "@jupyter-widgets/base",
            "_model_module_version": "1.5.0",
            "_view_count": null,
            "_view_module_version": "1.2.0",
            "_model_module": "@jupyter-widgets/controls"
          }
        },
        "a0bfe153c80a4d358b035b79f5b85ff5": {
          "model_module": "@jupyter-widgets/base",
          "model_name": "LayoutModel",
          "model_module_version": "1.2.0",
          "state": {
            "_view_name": "LayoutView",
            "grid_template_rows": null,
            "right": null,
            "justify_content": null,
            "_view_module": "@jupyter-widgets/base",
            "overflow": null,
            "_model_module_version": "1.2.0",
            "_view_count": null,
            "flex_flow": null,
            "width": null,
            "min_width": null,
            "border": null,
            "align_items": null,
            "bottom": null,
            "_model_module": "@jupyter-widgets/base",
            "top": null,
            "grid_column": null,
            "overflow_y": null,
            "overflow_x": null,
            "grid_auto_flow": null,
            "grid_area": null,
            "grid_template_columns": null,
            "flex": null,
            "_model_name": "LayoutModel",
            "justify_items": null,
            "grid_row": null,
            "max_height": null,
            "align_content": null,
            "visibility": null,
            "align_self": null,
            "height": null,
            "min_height": null,
            "padding": null,
            "grid_auto_rows": null,
            "grid_gap": null,
            "max_width": null,
            "order": null,
            "_view_module_version": "1.2.0",
            "grid_template_areas": null,
            "object_position": null,
            "object_fit": null,
            "grid_auto_columns": null,
            "margin": null,
            "display": null,
            "left": null
          }
        },
        "5830b90bfa46492a95dc1fb9e94f2b2b": {
          "model_module": "@jupyter-widgets/controls",
          "model_name": "HBoxModel",
          "model_module_version": "1.5.0",
          "state": {
            "_view_name": "HBoxView",
            "_dom_classes": [],
            "_model_name": "HBoxModel",
            "_view_module": "@jupyter-widgets/controls",
            "_model_module_version": "1.5.0",
            "_view_count": null,
            "_view_module_version": "1.5.0",
            "box_style": "",
            "layout": "IPY_MODEL_6b802df71e754f0d8a4a430e65c9ff69",
            "_model_module": "@jupyter-widgets/controls",
            "children": [
              "IPY_MODEL_7dd312f9a2e042238e2a3c6c3f8aaa33",
              "IPY_MODEL_361bbf3678bc4918841840b018024b44",
              "IPY_MODEL_3632f3b50ca541ebbaadca2ae85464f2"
            ]
          }
        },
        "6b802df71e754f0d8a4a430e65c9ff69": {
          "model_module": "@jupyter-widgets/base",
          "model_name": "LayoutModel",
          "model_module_version": "1.2.0",
          "state": {
            "_view_name": "LayoutView",
            "grid_template_rows": null,
            "right": null,
            "justify_content": null,
            "_view_module": "@jupyter-widgets/base",
            "overflow": null,
            "_model_module_version": "1.2.0",
            "_view_count": null,
            "flex_flow": null,
            "width": null,
            "min_width": null,
            "border": null,
            "align_items": null,
            "bottom": null,
            "_model_module": "@jupyter-widgets/base",
            "top": null,
            "grid_column": null,
            "overflow_y": null,
            "overflow_x": null,
            "grid_auto_flow": null,
            "grid_area": null,
            "grid_template_columns": null,
            "flex": null,
            "_model_name": "LayoutModel",
            "justify_items": null,
            "grid_row": null,
            "max_height": null,
            "align_content": null,
            "visibility": null,
            "align_self": null,
            "height": null,
            "min_height": null,
            "padding": null,
            "grid_auto_rows": null,
            "grid_gap": null,
            "max_width": null,
            "order": null,
            "_view_module_version": "1.2.0",
            "grid_template_areas": null,
            "object_position": null,
            "object_fit": null,
            "grid_auto_columns": null,
            "margin": null,
            "display": null,
            "left": null
          }
        },
        "7dd312f9a2e042238e2a3c6c3f8aaa33": {
          "model_module": "@jupyter-widgets/controls",
          "model_name": "HTMLModel",
          "model_module_version": "1.5.0",
          "state": {
            "_view_name": "HTMLView",
            "style": "IPY_MODEL_e159dcea3f604285838f2c911e0b784b",
            "_dom_classes": [],
            "description": "",
            "_model_name": "HTMLModel",
            "placeholder": "​",
            "_view_module": "@jupyter-widgets/controls",
            "_model_module_version": "1.5.0",
            "value": "BR(DPH): 100%",
            "_view_count": null,
            "_view_module_version": "1.5.0",
            "description_tooltip": null,
            "_model_module": "@jupyter-widgets/controls",
            "layout": "IPY_MODEL_e670d60a9600441084b1f1e9fbe404f0"
          }
        },
        "361bbf3678bc4918841840b018024b44": {
          "model_module": "@jupyter-widgets/controls",
          "model_name": "FloatProgressModel",
          "model_module_version": "1.5.0",
          "state": {
            "_view_name": "ProgressView",
            "style": "IPY_MODEL_b5f99367b17649cfb5297876bfa1a3d3",
            "_dom_classes": [],
            "description": "",
            "_model_name": "FloatProgressModel",
            "bar_style": "success",
            "max": 10,
            "_view_module": "@jupyter-widgets/controls",
            "_model_module_version": "1.5.0",
            "value": 10,
            "_view_count": null,
            "_view_module_version": "1.5.0",
            "orientation": "horizontal",
            "min": 0,
            "description_tooltip": null,
            "_model_module": "@jupyter-widgets/controls",
            "layout": "IPY_MODEL_95dff8249f8341d490787c4ce9817582"
          }
        },
        "3632f3b50ca541ebbaadca2ae85464f2": {
          "model_module": "@jupyter-widgets/controls",
          "model_name": "HTMLModel",
          "model_module_version": "1.5.0",
          "state": {
            "_view_name": "HTMLView",
            "style": "IPY_MODEL_06b4d62d1cad453ebd0b7b8e152440fb",
            "_dom_classes": [],
            "description": "",
            "_model_name": "HTMLModel",
            "placeholder": "​",
            "_view_module": "@jupyter-widgets/controls",
            "_model_module_version": "1.5.0",
            "value": " 10/10 [00:01&lt;00:00,  7.06q/s]",
            "_view_count": null,
            "_view_module_version": "1.5.0",
            "description_tooltip": null,
            "_model_module": "@jupyter-widgets/controls",
            "layout": "IPY_MODEL_a8f44c0c560f4afeb5ad95f620df10e0"
          }
        },
        "e159dcea3f604285838f2c911e0b784b": {
          "model_module": "@jupyter-widgets/controls",
          "model_name": "DescriptionStyleModel",
          "model_module_version": "1.5.0",
          "state": {
            "_view_name": "StyleView",
            "_model_name": "DescriptionStyleModel",
            "description_width": "",
            "_view_module": "@jupyter-widgets/base",
            "_model_module_version": "1.5.0",
            "_view_count": null,
            "_view_module_version": "1.2.0",
            "_model_module": "@jupyter-widgets/controls"
          }
        },
        "e670d60a9600441084b1f1e9fbe404f0": {
          "model_module": "@jupyter-widgets/base",
          "model_name": "LayoutModel",
          "model_module_version": "1.2.0",
          "state": {
            "_view_name": "LayoutView",
            "grid_template_rows": null,
            "right": null,
            "justify_content": null,
            "_view_module": "@jupyter-widgets/base",
            "overflow": null,
            "_model_module_version": "1.2.0",
            "_view_count": null,
            "flex_flow": null,
            "width": null,
            "min_width": null,
            "border": null,
            "align_items": null,
            "bottom": null,
            "_model_module": "@jupyter-widgets/base",
            "top": null,
            "grid_column": null,
            "overflow_y": null,
            "overflow_x": null,
            "grid_auto_flow": null,
            "grid_area": null,
            "grid_template_columns": null,
            "flex": null,
            "_model_name": "LayoutModel",
            "justify_items": null,
            "grid_row": null,
            "max_height": null,
            "align_content": null,
            "visibility": null,
            "align_self": null,
            "height": null,
            "min_height": null,
            "padding": null,
            "grid_auto_rows": null,
            "grid_gap": null,
            "max_width": null,
            "order": null,
            "_view_module_version": "1.2.0",
            "grid_template_areas": null,
            "object_position": null,
            "object_fit": null,
            "grid_auto_columns": null,
            "margin": null,
            "display": null,
            "left": null
          }
        },
        "b5f99367b17649cfb5297876bfa1a3d3": {
          "model_module": "@jupyter-widgets/controls",
          "model_name": "ProgressStyleModel",
          "model_module_version": "1.5.0",
          "state": {
            "_view_name": "StyleView",
            "_model_name": "ProgressStyleModel",
            "description_width": "",
            "_view_module": "@jupyter-widgets/base",
            "_model_module_version": "1.5.0",
            "_view_count": null,
            "_view_module_version": "1.2.0",
            "bar_color": null,
            "_model_module": "@jupyter-widgets/controls"
          }
        },
        "95dff8249f8341d490787c4ce9817582": {
          "model_module": "@jupyter-widgets/base",
          "model_name": "LayoutModel",
          "model_module_version": "1.2.0",
          "state": {
            "_view_name": "LayoutView",
            "grid_template_rows": null,
            "right": null,
            "justify_content": null,
            "_view_module": "@jupyter-widgets/base",
            "overflow": null,
            "_model_module_version": "1.2.0",
            "_view_count": null,
            "flex_flow": null,
            "width": null,
            "min_width": null,
            "border": null,
            "align_items": null,
            "bottom": null,
            "_model_module": "@jupyter-widgets/base",
            "top": null,
            "grid_column": null,
            "overflow_y": null,
            "overflow_x": null,
            "grid_auto_flow": null,
            "grid_area": null,
            "grid_template_columns": null,
            "flex": null,
            "_model_name": "LayoutModel",
            "justify_items": null,
            "grid_row": null,
            "max_height": null,
            "align_content": null,
            "visibility": null,
            "align_self": null,
            "height": null,
            "min_height": null,
            "padding": null,
            "grid_auto_rows": null,
            "grid_gap": null,
            "max_width": null,
            "order": null,
            "_view_module_version": "1.2.0",
            "grid_template_areas": null,
            "object_position": null,
            "object_fit": null,
            "grid_auto_columns": null,
            "margin": null,
            "display": null,
            "left": null
          }
        },
        "06b4d62d1cad453ebd0b7b8e152440fb": {
          "model_module": "@jupyter-widgets/controls",
          "model_name": "DescriptionStyleModel",
          "model_module_version": "1.5.0",
          "state": {
            "_view_name": "StyleView",
            "_model_name": "DescriptionStyleModel",
            "description_width": "",
            "_view_module": "@jupyter-widgets/base",
            "_model_module_version": "1.5.0",
            "_view_count": null,
            "_view_module_version": "1.2.0",
            "_model_module": "@jupyter-widgets/controls"
          }
        },
        "a8f44c0c560f4afeb5ad95f620df10e0": {
          "model_module": "@jupyter-widgets/base",
          "model_name": "LayoutModel",
          "model_module_version": "1.2.0",
          "state": {
            "_view_name": "LayoutView",
            "grid_template_rows": null,
            "right": null,
            "justify_content": null,
            "_view_module": "@jupyter-widgets/base",
            "overflow": null,
            "_model_module_version": "1.2.0",
            "_view_count": null,
            "flex_flow": null,
            "width": null,
            "min_width": null,
            "border": null,
            "align_items": null,
            "bottom": null,
            "_model_module": "@jupyter-widgets/base",
            "top": null,
            "grid_column": null,
            "overflow_y": null,
            "overflow_x": null,
            "grid_auto_flow": null,
            "grid_area": null,
            "grid_template_columns": null,
            "flex": null,
            "_model_name": "LayoutModel",
            "justify_items": null,
            "grid_row": null,
            "max_height": null,
            "align_content": null,
            "visibility": null,
            "align_self": null,
            "height": null,
            "min_height": null,
            "padding": null,
            "grid_auto_rows": null,
            "grid_gap": null,
            "max_width": null,
            "order": null,
            "_view_module_version": "1.2.0",
            "grid_template_areas": null,
            "object_position": null,
            "object_fit": null,
            "grid_auto_columns": null,
            "margin": null,
            "display": null,
            "left": null
          }
        },
        "3ed666f8ca914c2face826b7f0cf3971": {
          "model_module": "@jupyter-widgets/controls",
          "model_name": "HBoxModel",
          "model_module_version": "1.5.0",
          "state": {
            "_view_name": "HBoxView",
            "_dom_classes": [],
            "_model_name": "HBoxModel",
            "_view_module": "@jupyter-widgets/controls",
            "_model_module_version": "1.5.0",
            "_view_count": null,
            "_view_module_version": "1.5.0",
            "box_style": "",
            "layout": "IPY_MODEL_b3fe3f9d84234d339510781e589377fd",
            "_model_module": "@jupyter-widgets/controls",
            "children": [
              "IPY_MODEL_71761153e00342bc8f8211260280392e",
              "IPY_MODEL_52ef787337ac4a9a9ac53a0f0148eee1",
              "IPY_MODEL_eeef0c10e0c34889ae6e534fcad7f181"
            ]
          }
        },
        "b3fe3f9d84234d339510781e589377fd": {
          "model_module": "@jupyter-widgets/base",
          "model_name": "LayoutModel",
          "model_module_version": "1.2.0",
          "state": {
            "_view_name": "LayoutView",
            "grid_template_rows": null,
            "right": null,
            "justify_content": null,
            "_view_module": "@jupyter-widgets/base",
            "overflow": null,
            "_model_module_version": "1.2.0",
            "_view_count": null,
            "flex_flow": null,
            "width": null,
            "min_width": null,
            "border": null,
            "align_items": null,
            "bottom": null,
            "_model_module": "@jupyter-widgets/base",
            "top": null,
            "grid_column": null,
            "overflow_y": null,
            "overflow_x": null,
            "grid_auto_flow": null,
            "grid_area": null,
            "grid_template_columns": null,
            "flex": null,
            "_model_name": "LayoutModel",
            "justify_items": null,
            "grid_row": null,
            "max_height": null,
            "align_content": null,
            "visibility": null,
            "align_self": null,
            "height": null,
            "min_height": null,
            "padding": null,
            "grid_auto_rows": null,
            "grid_gap": null,
            "max_width": null,
            "order": null,
            "_view_module_version": "1.2.0",
            "grid_template_areas": null,
            "object_position": null,
            "object_fit": null,
            "grid_auto_columns": null,
            "margin": null,
            "display": null,
            "left": null
          }
        },
        "71761153e00342bc8f8211260280392e": {
          "model_module": "@jupyter-widgets/controls",
          "model_name": "HTMLModel",
          "model_module_version": "1.5.0",
          "state": {
            "_view_name": "HTMLView",
            "style": "IPY_MODEL_28dd926b37494a5d91e0bb01c5bd975f",
            "_dom_classes": [],
            "description": "",
            "_model_name": "HTMLModel",
            "placeholder": "​",
            "_view_module": "@jupyter-widgets/controls",
            "_model_module_version": "1.5.0",
            "value": "BR(DPH): 100%",
            "_view_count": null,
            "_view_module_version": "1.5.0",
            "description_tooltip": null,
            "_model_module": "@jupyter-widgets/controls",
            "layout": "IPY_MODEL_99a18d71ad1a42a1a4cedf49dd78e946"
          }
        },
        "52ef787337ac4a9a9ac53a0f0148eee1": {
          "model_module": "@jupyter-widgets/controls",
          "model_name": "FloatProgressModel",
          "model_module_version": "1.5.0",
          "state": {
            "_view_name": "ProgressView",
            "style": "IPY_MODEL_c495ef8593344ac9ae4778124ba3245b",
            "_dom_classes": [],
            "description": "",
            "_model_name": "FloatProgressModel",
            "bar_style": "success",
            "max": 10,
            "_view_module": "@jupyter-widgets/controls",
            "_model_module_version": "1.5.0",
            "value": 10,
            "_view_count": null,
            "_view_module_version": "1.5.0",
            "orientation": "horizontal",
            "min": 0,
            "description_tooltip": null,
            "_model_module": "@jupyter-widgets/controls",
            "layout": "IPY_MODEL_d85f2b3729ae4960ba7978dc7e298efb"
          }
        },
        "eeef0c10e0c34889ae6e534fcad7f181": {
          "model_module": "@jupyter-widgets/controls",
          "model_name": "HTMLModel",
          "model_module_version": "1.5.0",
          "state": {
            "_view_name": "HTMLView",
            "style": "IPY_MODEL_24edb42bfd6c4396bf16fd09c1c8c496",
            "_dom_classes": [],
            "description": "",
            "_model_name": "HTMLModel",
            "placeholder": "​",
            "_view_module": "@jupyter-widgets/controls",
            "_model_module_version": "1.5.0",
            "value": " 10/10 [00:01&lt;00:00,  7.14q/s]",
            "_view_count": null,
            "_view_module_version": "1.5.0",
            "description_tooltip": null,
            "_model_module": "@jupyter-widgets/controls",
            "layout": "IPY_MODEL_45b4fe9618834a9c8c9209f760c18f21"
          }
        },
        "28dd926b37494a5d91e0bb01c5bd975f": {
          "model_module": "@jupyter-widgets/controls",
          "model_name": "DescriptionStyleModel",
          "model_module_version": "1.5.0",
          "state": {
            "_view_name": "StyleView",
            "_model_name": "DescriptionStyleModel",
            "description_width": "",
            "_view_module": "@jupyter-widgets/base",
            "_model_module_version": "1.5.0",
            "_view_count": null,
            "_view_module_version": "1.2.0",
            "_model_module": "@jupyter-widgets/controls"
          }
        },
        "99a18d71ad1a42a1a4cedf49dd78e946": {
          "model_module": "@jupyter-widgets/base",
          "model_name": "LayoutModel",
          "model_module_version": "1.2.0",
          "state": {
            "_view_name": "LayoutView",
            "grid_template_rows": null,
            "right": null,
            "justify_content": null,
            "_view_module": "@jupyter-widgets/base",
            "overflow": null,
            "_model_module_version": "1.2.0",
            "_view_count": null,
            "flex_flow": null,
            "width": null,
            "min_width": null,
            "border": null,
            "align_items": null,
            "bottom": null,
            "_model_module": "@jupyter-widgets/base",
            "top": null,
            "grid_column": null,
            "overflow_y": null,
            "overflow_x": null,
            "grid_auto_flow": null,
            "grid_area": null,
            "grid_template_columns": null,
            "flex": null,
            "_model_name": "LayoutModel",
            "justify_items": null,
            "grid_row": null,
            "max_height": null,
            "align_content": null,
            "visibility": null,
            "align_self": null,
            "height": null,
            "min_height": null,
            "padding": null,
            "grid_auto_rows": null,
            "grid_gap": null,
            "max_width": null,
            "order": null,
            "_view_module_version": "1.2.0",
            "grid_template_areas": null,
            "object_position": null,
            "object_fit": null,
            "grid_auto_columns": null,
            "margin": null,
            "display": null,
            "left": null
          }
        },
        "c495ef8593344ac9ae4778124ba3245b": {
          "model_module": "@jupyter-widgets/controls",
          "model_name": "ProgressStyleModel",
          "model_module_version": "1.5.0",
          "state": {
            "_view_name": "StyleView",
            "_model_name": "ProgressStyleModel",
            "description_width": "",
            "_view_module": "@jupyter-widgets/base",
            "_model_module_version": "1.5.0",
            "_view_count": null,
            "_view_module_version": "1.2.0",
            "bar_color": null,
            "_model_module": "@jupyter-widgets/controls"
          }
        },
        "d85f2b3729ae4960ba7978dc7e298efb": {
          "model_module": "@jupyter-widgets/base",
          "model_name": "LayoutModel",
          "model_module_version": "1.2.0",
          "state": {
            "_view_name": "LayoutView",
            "grid_template_rows": null,
            "right": null,
            "justify_content": null,
            "_view_module": "@jupyter-widgets/base",
            "overflow": null,
            "_model_module_version": "1.2.0",
            "_view_count": null,
            "flex_flow": null,
            "width": null,
            "min_width": null,
            "border": null,
            "align_items": null,
            "bottom": null,
            "_model_module": "@jupyter-widgets/base",
            "top": null,
            "grid_column": null,
            "overflow_y": null,
            "overflow_x": null,
            "grid_auto_flow": null,
            "grid_area": null,
            "grid_template_columns": null,
            "flex": null,
            "_model_name": "LayoutModel",
            "justify_items": null,
            "grid_row": null,
            "max_height": null,
            "align_content": null,
            "visibility": null,
            "align_self": null,
            "height": null,
            "min_height": null,
            "padding": null,
            "grid_auto_rows": null,
            "grid_gap": null,
            "max_width": null,
            "order": null,
            "_view_module_version": "1.2.0",
            "grid_template_areas": null,
            "object_position": null,
            "object_fit": null,
            "grid_auto_columns": null,
            "margin": null,
            "display": null,
            "left": null
          }
        },
        "24edb42bfd6c4396bf16fd09c1c8c496": {
          "model_module": "@jupyter-widgets/controls",
          "model_name": "DescriptionStyleModel",
          "model_module_version": "1.5.0",
          "state": {
            "_view_name": "StyleView",
            "_model_name": "DescriptionStyleModel",
            "description_width": "",
            "_view_module": "@jupyter-widgets/base",
            "_model_module_version": "1.5.0",
            "_view_count": null,
            "_view_module_version": "1.2.0",
            "_model_module": "@jupyter-widgets/controls"
          }
        },
        "45b4fe9618834a9c8c9209f760c18f21": {
          "model_module": "@jupyter-widgets/base",
          "model_name": "LayoutModel",
          "model_module_version": "1.2.0",
          "state": {
            "_view_name": "LayoutView",
            "grid_template_rows": null,
            "right": null,
            "justify_content": null,
            "_view_module": "@jupyter-widgets/base",
            "overflow": null,
            "_model_module_version": "1.2.0",
            "_view_count": null,
            "flex_flow": null,
            "width": null,
            "min_width": null,
            "border": null,
            "align_items": null,
            "bottom": null,
            "_model_module": "@jupyter-widgets/base",
            "top": null,
            "grid_column": null,
            "overflow_y": null,
            "overflow_x": null,
            "grid_auto_flow": null,
            "grid_area": null,
            "grid_template_columns": null,
            "flex": null,
            "_model_name": "LayoutModel",
            "justify_items": null,
            "grid_row": null,
            "max_height": null,
            "align_content": null,
            "visibility": null,
            "align_self": null,
            "height": null,
            "min_height": null,
            "padding": null,
            "grid_auto_rows": null,
            "grid_gap": null,
            "max_width": null,
            "order": null,
            "_view_module_version": "1.2.0",
            "grid_template_areas": null,
            "object_position": null,
            "object_fit": null,
            "grid_auto_columns": null,
            "margin": null,
            "display": null,
            "left": null
          }
        },
        "636d6bb97444432f9ebc09020058201a": {
          "model_module": "@jupyter-widgets/controls",
          "model_name": "HBoxModel",
          "model_module_version": "1.5.0",
          "state": {
            "_view_name": "HBoxView",
            "_dom_classes": [],
            "_model_name": "HBoxModel",
            "_view_module": "@jupyter-widgets/controls",
            "_model_module_version": "1.5.0",
            "_view_count": null,
            "_view_module_version": "1.5.0",
            "box_style": "",
            "layout": "IPY_MODEL_c0b215261dcf43259781caba0a171c31",
            "_model_module": "@jupyter-widgets/controls",
            "children": [
              "IPY_MODEL_455ac8c6b2f24209b09cafe9f251349f",
              "IPY_MODEL_6099267c15a248559ae40ab8bf140273",
              "IPY_MODEL_262b383256484d57b2dbbf6efe8cc32d"
            ]
          }
        },
        "c0b215261dcf43259781caba0a171c31": {
          "model_module": "@jupyter-widgets/base",
          "model_name": "LayoutModel",
          "model_module_version": "1.2.0",
          "state": {
            "_view_name": "LayoutView",
            "grid_template_rows": null,
            "right": null,
            "justify_content": null,
            "_view_module": "@jupyter-widgets/base",
            "overflow": null,
            "_model_module_version": "1.2.0",
            "_view_count": null,
            "flex_flow": null,
            "width": null,
            "min_width": null,
            "border": null,
            "align_items": null,
            "bottom": null,
            "_model_module": "@jupyter-widgets/base",
            "top": null,
            "grid_column": null,
            "overflow_y": null,
            "overflow_x": null,
            "grid_auto_flow": null,
            "grid_area": null,
            "grid_template_columns": null,
            "flex": null,
            "_model_name": "LayoutModel",
            "justify_items": null,
            "grid_row": null,
            "max_height": null,
            "align_content": null,
            "visibility": null,
            "align_self": null,
            "height": null,
            "min_height": null,
            "padding": null,
            "grid_auto_rows": null,
            "grid_gap": null,
            "max_width": null,
            "order": null,
            "_view_module_version": "1.2.0",
            "grid_template_areas": null,
            "object_position": null,
            "object_fit": null,
            "grid_auto_columns": null,
            "margin": null,
            "display": null,
            "left": null
          }
        },
        "455ac8c6b2f24209b09cafe9f251349f": {
          "model_module": "@jupyter-widgets/controls",
          "model_name": "HTMLModel",
          "model_module_version": "1.5.0",
          "state": {
            "_view_name": "HTMLView",
            "style": "IPY_MODEL_f451e49929fe4474a2cda2225ca96b90",
            "_dom_classes": [],
            "description": "",
            "_model_name": "HTMLModel",
            "placeholder": "​",
            "_view_module": "@jupyter-widgets/controls",
            "_model_module_version": "1.5.0",
            "value": "BR(DPH): 100%",
            "_view_count": null,
            "_view_module_version": "1.5.0",
            "description_tooltip": null,
            "_model_module": "@jupyter-widgets/controls",
            "layout": "IPY_MODEL_d83473c872594816bed6fc51c3756bae"
          }
        },
        "6099267c15a248559ae40ab8bf140273": {
          "model_module": "@jupyter-widgets/controls",
          "model_name": "FloatProgressModel",
          "model_module_version": "1.5.0",
          "state": {
            "_view_name": "ProgressView",
            "style": "IPY_MODEL_913230b8f5bc4e7ea269c8c0df3907de",
            "_dom_classes": [],
            "description": "",
            "_model_name": "FloatProgressModel",
            "bar_style": "success",
            "max": 10,
            "_view_module": "@jupyter-widgets/controls",
            "_model_module_version": "1.5.0",
            "value": 10,
            "_view_count": null,
            "_view_module_version": "1.5.0",
            "orientation": "horizontal",
            "min": 0,
            "description_tooltip": null,
            "_model_module": "@jupyter-widgets/controls",
            "layout": "IPY_MODEL_09476e6583d34e94b511abf0820bfd78"
          }
        },
        "262b383256484d57b2dbbf6efe8cc32d": {
          "model_module": "@jupyter-widgets/controls",
          "model_name": "HTMLModel",
          "model_module_version": "1.5.0",
          "state": {
            "_view_name": "HTMLView",
            "style": "IPY_MODEL_9599bf156bf14c828ff03323e9cc5a14",
            "_dom_classes": [],
            "description": "",
            "_model_name": "HTMLModel",
            "placeholder": "​",
            "_view_module": "@jupyter-widgets/controls",
            "_model_module_version": "1.5.0",
            "value": " 10/10 [00:01&lt;00:00,  6.81q/s]",
            "_view_count": null,
            "_view_module_version": "1.5.0",
            "description_tooltip": null,
            "_model_module": "@jupyter-widgets/controls",
            "layout": "IPY_MODEL_136aea8f1d1848eebb7158e469ff5fcc"
          }
        },
        "f451e49929fe4474a2cda2225ca96b90": {
          "model_module": "@jupyter-widgets/controls",
          "model_name": "DescriptionStyleModel",
          "model_module_version": "1.5.0",
          "state": {
            "_view_name": "StyleView",
            "_model_name": "DescriptionStyleModel",
            "description_width": "",
            "_view_module": "@jupyter-widgets/base",
            "_model_module_version": "1.5.0",
            "_view_count": null,
            "_view_module_version": "1.2.0",
            "_model_module": "@jupyter-widgets/controls"
          }
        },
        "d83473c872594816bed6fc51c3756bae": {
          "model_module": "@jupyter-widgets/base",
          "model_name": "LayoutModel",
          "model_module_version": "1.2.0",
          "state": {
            "_view_name": "LayoutView",
            "grid_template_rows": null,
            "right": null,
            "justify_content": null,
            "_view_module": "@jupyter-widgets/base",
            "overflow": null,
            "_model_module_version": "1.2.0",
            "_view_count": null,
            "flex_flow": null,
            "width": null,
            "min_width": null,
            "border": null,
            "align_items": null,
            "bottom": null,
            "_model_module": "@jupyter-widgets/base",
            "top": null,
            "grid_column": null,
            "overflow_y": null,
            "overflow_x": null,
            "grid_auto_flow": null,
            "grid_area": null,
            "grid_template_columns": null,
            "flex": null,
            "_model_name": "LayoutModel",
            "justify_items": null,
            "grid_row": null,
            "max_height": null,
            "align_content": null,
            "visibility": null,
            "align_self": null,
            "height": null,
            "min_height": null,
            "padding": null,
            "grid_auto_rows": null,
            "grid_gap": null,
            "max_width": null,
            "order": null,
            "_view_module_version": "1.2.0",
            "grid_template_areas": null,
            "object_position": null,
            "object_fit": null,
            "grid_auto_columns": null,
            "margin": null,
            "display": null,
            "left": null
          }
        },
        "913230b8f5bc4e7ea269c8c0df3907de": {
          "model_module": "@jupyter-widgets/controls",
          "model_name": "ProgressStyleModel",
          "model_module_version": "1.5.0",
          "state": {
            "_view_name": "StyleView",
            "_model_name": "ProgressStyleModel",
            "description_width": "",
            "_view_module": "@jupyter-widgets/base",
            "_model_module_version": "1.5.0",
            "_view_count": null,
            "_view_module_version": "1.2.0",
            "bar_color": null,
            "_model_module": "@jupyter-widgets/controls"
          }
        },
        "09476e6583d34e94b511abf0820bfd78": {
          "model_module": "@jupyter-widgets/base",
          "model_name": "LayoutModel",
          "model_module_version": "1.2.0",
          "state": {
            "_view_name": "LayoutView",
            "grid_template_rows": null,
            "right": null,
            "justify_content": null,
            "_view_module": "@jupyter-widgets/base",
            "overflow": null,
            "_model_module_version": "1.2.0",
            "_view_count": null,
            "flex_flow": null,
            "width": null,
            "min_width": null,
            "border": null,
            "align_items": null,
            "bottom": null,
            "_model_module": "@jupyter-widgets/base",
            "top": null,
            "grid_column": null,
            "overflow_y": null,
            "overflow_x": null,
            "grid_auto_flow": null,
            "grid_area": null,
            "grid_template_columns": null,
            "flex": null,
            "_model_name": "LayoutModel",
            "justify_items": null,
            "grid_row": null,
            "max_height": null,
            "align_content": null,
            "visibility": null,
            "align_self": null,
            "height": null,
            "min_height": null,
            "padding": null,
            "grid_auto_rows": null,
            "grid_gap": null,
            "max_width": null,
            "order": null,
            "_view_module_version": "1.2.0",
            "grid_template_areas": null,
            "object_position": null,
            "object_fit": null,
            "grid_auto_columns": null,
            "margin": null,
            "display": null,
            "left": null
          }
        },
        "9599bf156bf14c828ff03323e9cc5a14": {
          "model_module": "@jupyter-widgets/controls",
          "model_name": "DescriptionStyleModel",
          "model_module_version": "1.5.0",
          "state": {
            "_view_name": "StyleView",
            "_model_name": "DescriptionStyleModel",
            "description_width": "",
            "_view_module": "@jupyter-widgets/base",
            "_model_module_version": "1.5.0",
            "_view_count": null,
            "_view_module_version": "1.2.0",
            "_model_module": "@jupyter-widgets/controls"
          }
        },
        "136aea8f1d1848eebb7158e469ff5fcc": {
          "model_module": "@jupyter-widgets/base",
          "model_name": "LayoutModel",
          "model_module_version": "1.2.0",
          "state": {
            "_view_name": "LayoutView",
            "grid_template_rows": null,
            "right": null,
            "justify_content": null,
            "_view_module": "@jupyter-widgets/base",
            "overflow": null,
            "_model_module_version": "1.2.0",
            "_view_count": null,
            "flex_flow": null,
            "width": null,
            "min_width": null,
            "border": null,
            "align_items": null,
            "bottom": null,
            "_model_module": "@jupyter-widgets/base",
            "top": null,
            "grid_column": null,
            "overflow_y": null,
            "overflow_x": null,
            "grid_auto_flow": null,
            "grid_area": null,
            "grid_template_columns": null,
            "flex": null,
            "_model_name": "LayoutModel",
            "justify_items": null,
            "grid_row": null,
            "max_height": null,
            "align_content": null,
            "visibility": null,
            "align_self": null,
            "height": null,
            "min_height": null,
            "padding": null,
            "grid_auto_rows": null,
            "grid_gap": null,
            "max_width": null,
            "order": null,
            "_view_module_version": "1.2.0",
            "grid_template_areas": null,
            "object_position": null,
            "object_fit": null,
            "grid_auto_columns": null,
            "margin": null,
            "display": null,
            "left": null
          }
        },
        "f7fe137407f744c3b3d25d30b5780ed6": {
          "model_module": "@jupyter-widgets/controls",
          "model_name": "HBoxModel",
          "model_module_version": "1.5.0",
          "state": {
            "_view_name": "HBoxView",
            "_dom_classes": [],
            "_model_name": "HBoxModel",
            "_view_module": "@jupyter-widgets/controls",
            "_model_module_version": "1.5.0",
            "_view_count": null,
            "_view_module_version": "1.5.0",
            "box_style": "",
            "layout": "IPY_MODEL_ca8e547124e74e97b3be5539ebf2005c",
            "_model_module": "@jupyter-widgets/controls",
            "children": [
              "IPY_MODEL_976f2a2001de441497ff1a7f956467b4",
              "IPY_MODEL_1dadf4f0bbfb4676bd887caee5b50003",
              "IPY_MODEL_25994520696d455fb6508c3f68d8413b"
            ]
          }
        },
        "ca8e547124e74e97b3be5539ebf2005c": {
          "model_module": "@jupyter-widgets/base",
          "model_name": "LayoutModel",
          "model_module_version": "1.2.0",
          "state": {
            "_view_name": "LayoutView",
            "grid_template_rows": null,
            "right": null,
            "justify_content": null,
            "_view_module": "@jupyter-widgets/base",
            "overflow": null,
            "_model_module_version": "1.2.0",
            "_view_count": null,
            "flex_flow": null,
            "width": null,
            "min_width": null,
            "border": null,
            "align_items": null,
            "bottom": null,
            "_model_module": "@jupyter-widgets/base",
            "top": null,
            "grid_column": null,
            "overflow_y": null,
            "overflow_x": null,
            "grid_auto_flow": null,
            "grid_area": null,
            "grid_template_columns": null,
            "flex": null,
            "_model_name": "LayoutModel",
            "justify_items": null,
            "grid_row": null,
            "max_height": null,
            "align_content": null,
            "visibility": null,
            "align_self": null,
            "height": null,
            "min_height": null,
            "padding": null,
            "grid_auto_rows": null,
            "grid_gap": null,
            "max_width": null,
            "order": null,
            "_view_module_version": "1.2.0",
            "grid_template_areas": null,
            "object_position": null,
            "object_fit": null,
            "grid_auto_columns": null,
            "margin": null,
            "display": null,
            "left": null
          }
        },
        "976f2a2001de441497ff1a7f956467b4": {
          "model_module": "@jupyter-widgets/controls",
          "model_name": "HTMLModel",
          "model_module_version": "1.5.0",
          "state": {
            "_view_name": "HTMLView",
            "style": "IPY_MODEL_53782d312b7b4ffe85259c751320bf4b",
            "_dom_classes": [],
            "description": "",
            "_model_name": "HTMLModel",
            "placeholder": "​",
            "_view_module": "@jupyter-widgets/controls",
            "_model_module_version": "1.5.0",
            "value": "BR(DPH): 100%",
            "_view_count": null,
            "_view_module_version": "1.5.0",
            "description_tooltip": null,
            "_model_module": "@jupyter-widgets/controls",
            "layout": "IPY_MODEL_84a1d927db8a4f26bdb57f22e4f73520"
          }
        },
        "1dadf4f0bbfb4676bd887caee5b50003": {
          "model_module": "@jupyter-widgets/controls",
          "model_name": "FloatProgressModel",
          "model_module_version": "1.5.0",
          "state": {
            "_view_name": "ProgressView",
            "style": "IPY_MODEL_75575053bf0f4a46a8588b355dfd6ce9",
            "_dom_classes": [],
            "description": "",
            "_model_name": "FloatProgressModel",
            "bar_style": "success",
            "max": 10,
            "_view_module": "@jupyter-widgets/controls",
            "_model_module_version": "1.5.0",
            "value": 10,
            "_view_count": null,
            "_view_module_version": "1.5.0",
            "orientation": "horizontal",
            "min": 0,
            "description_tooltip": null,
            "_model_module": "@jupyter-widgets/controls",
            "layout": "IPY_MODEL_101a15147853464398fe8d0ebe6251f2"
          }
        },
        "25994520696d455fb6508c3f68d8413b": {
          "model_module": "@jupyter-widgets/controls",
          "model_name": "HTMLModel",
          "model_module_version": "1.5.0",
          "state": {
            "_view_name": "HTMLView",
            "style": "IPY_MODEL_989af8d9e98a459296b0ab3646a5d327",
            "_dom_classes": [],
            "description": "",
            "_model_name": "HTMLModel",
            "placeholder": "​",
            "_view_module": "@jupyter-widgets/controls",
            "_model_module_version": "1.5.0",
            "value": " 10/10 [00:01&lt;00:00,  7.09q/s]",
            "_view_count": null,
            "_view_module_version": "1.5.0",
            "description_tooltip": null,
            "_model_module": "@jupyter-widgets/controls",
            "layout": "IPY_MODEL_9f56448af54a4b3aaf35a4481a9350cb"
          }
        },
        "53782d312b7b4ffe85259c751320bf4b": {
          "model_module": "@jupyter-widgets/controls",
          "model_name": "DescriptionStyleModel",
          "model_module_version": "1.5.0",
          "state": {
            "_view_name": "StyleView",
            "_model_name": "DescriptionStyleModel",
            "description_width": "",
            "_view_module": "@jupyter-widgets/base",
            "_model_module_version": "1.5.0",
            "_view_count": null,
            "_view_module_version": "1.2.0",
            "_model_module": "@jupyter-widgets/controls"
          }
        },
        "84a1d927db8a4f26bdb57f22e4f73520": {
          "model_module": "@jupyter-widgets/base",
          "model_name": "LayoutModel",
          "model_module_version": "1.2.0",
          "state": {
            "_view_name": "LayoutView",
            "grid_template_rows": null,
            "right": null,
            "justify_content": null,
            "_view_module": "@jupyter-widgets/base",
            "overflow": null,
            "_model_module_version": "1.2.0",
            "_view_count": null,
            "flex_flow": null,
            "width": null,
            "min_width": null,
            "border": null,
            "align_items": null,
            "bottom": null,
            "_model_module": "@jupyter-widgets/base",
            "top": null,
            "grid_column": null,
            "overflow_y": null,
            "overflow_x": null,
            "grid_auto_flow": null,
            "grid_area": null,
            "grid_template_columns": null,
            "flex": null,
            "_model_name": "LayoutModel",
            "justify_items": null,
            "grid_row": null,
            "max_height": null,
            "align_content": null,
            "visibility": null,
            "align_self": null,
            "height": null,
            "min_height": null,
            "padding": null,
            "grid_auto_rows": null,
            "grid_gap": null,
            "max_width": null,
            "order": null,
            "_view_module_version": "1.2.0",
            "grid_template_areas": null,
            "object_position": null,
            "object_fit": null,
            "grid_auto_columns": null,
            "margin": null,
            "display": null,
            "left": null
          }
        },
        "75575053bf0f4a46a8588b355dfd6ce9": {
          "model_module": "@jupyter-widgets/controls",
          "model_name": "ProgressStyleModel",
          "model_module_version": "1.5.0",
          "state": {
            "_view_name": "StyleView",
            "_model_name": "ProgressStyleModel",
            "description_width": "",
            "_view_module": "@jupyter-widgets/base",
            "_model_module_version": "1.5.0",
            "_view_count": null,
            "_view_module_version": "1.2.0",
            "bar_color": null,
            "_model_module": "@jupyter-widgets/controls"
          }
        },
        "101a15147853464398fe8d0ebe6251f2": {
          "model_module": "@jupyter-widgets/base",
          "model_name": "LayoutModel",
          "model_module_version": "1.2.0",
          "state": {
            "_view_name": "LayoutView",
            "grid_template_rows": null,
            "right": null,
            "justify_content": null,
            "_view_module": "@jupyter-widgets/base",
            "overflow": null,
            "_model_module_version": "1.2.0",
            "_view_count": null,
            "flex_flow": null,
            "width": null,
            "min_width": null,
            "border": null,
            "align_items": null,
            "bottom": null,
            "_model_module": "@jupyter-widgets/base",
            "top": null,
            "grid_column": null,
            "overflow_y": null,
            "overflow_x": null,
            "grid_auto_flow": null,
            "grid_area": null,
            "grid_template_columns": null,
            "flex": null,
            "_model_name": "LayoutModel",
            "justify_items": null,
            "grid_row": null,
            "max_height": null,
            "align_content": null,
            "visibility": null,
            "align_self": null,
            "height": null,
            "min_height": null,
            "padding": null,
            "grid_auto_rows": null,
            "grid_gap": null,
            "max_width": null,
            "order": null,
            "_view_module_version": "1.2.0",
            "grid_template_areas": null,
            "object_position": null,
            "object_fit": null,
            "grid_auto_columns": null,
            "margin": null,
            "display": null,
            "left": null
          }
        },
        "989af8d9e98a459296b0ab3646a5d327": {
          "model_module": "@jupyter-widgets/controls",
          "model_name": "DescriptionStyleModel",
          "model_module_version": "1.5.0",
          "state": {
            "_view_name": "StyleView",
            "_model_name": "DescriptionStyleModel",
            "description_width": "",
            "_view_module": "@jupyter-widgets/base",
            "_model_module_version": "1.5.0",
            "_view_count": null,
            "_view_module_version": "1.2.0",
            "_model_module": "@jupyter-widgets/controls"
          }
        },
        "9f56448af54a4b3aaf35a4481a9350cb": {
          "model_module": "@jupyter-widgets/base",
          "model_name": "LayoutModel",
          "model_module_version": "1.2.0",
          "state": {
            "_view_name": "LayoutView",
            "grid_template_rows": null,
            "right": null,
            "justify_content": null,
            "_view_module": "@jupyter-widgets/base",
            "overflow": null,
            "_model_module_version": "1.2.0",
            "_view_count": null,
            "flex_flow": null,
            "width": null,
            "min_width": null,
            "border": null,
            "align_items": null,
            "bottom": null,
            "_model_module": "@jupyter-widgets/base",
            "top": null,
            "grid_column": null,
            "overflow_y": null,
            "overflow_x": null,
            "grid_auto_flow": null,
            "grid_area": null,
            "grid_template_columns": null,
            "flex": null,
            "_model_name": "LayoutModel",
            "justify_items": null,
            "grid_row": null,
            "max_height": null,
            "align_content": null,
            "visibility": null,
            "align_self": null,
            "height": null,
            "min_height": null,
            "padding": null,
            "grid_auto_rows": null,
            "grid_gap": null,
            "max_width": null,
            "order": null,
            "_view_module_version": "1.2.0",
            "grid_template_areas": null,
            "object_position": null,
            "object_fit": null,
            "grid_auto_columns": null,
            "margin": null,
            "display": null,
            "left": null
          }
        },
        "17c1cabe207d48fe9533db92237d415d": {
          "model_module": "@jupyter-widgets/controls",
          "model_name": "HBoxModel",
          "model_module_version": "1.5.0",
          "state": {
            "_view_name": "HBoxView",
            "_dom_classes": [],
            "_model_name": "HBoxModel",
            "_view_module": "@jupyter-widgets/controls",
            "_model_module_version": "1.5.0",
            "_view_count": null,
            "_view_module_version": "1.5.0",
            "box_style": "",
            "layout": "IPY_MODEL_5801f8c170174940b346b12605597722",
            "_model_module": "@jupyter-widgets/controls",
            "children": [
              "IPY_MODEL_30b86619b3eb4265b4073f7fb4666866",
              "IPY_MODEL_dce194931ca94a40a0c3de54bc09d8b0",
              "IPY_MODEL_19a16bb36ed54136bdef0f5f312bbe8e"
            ]
          }
        },
        "5801f8c170174940b346b12605597722": {
          "model_module": "@jupyter-widgets/base",
          "model_name": "LayoutModel",
          "model_module_version": "1.2.0",
          "state": {
            "_view_name": "LayoutView",
            "grid_template_rows": null,
            "right": null,
            "justify_content": null,
            "_view_module": "@jupyter-widgets/base",
            "overflow": null,
            "_model_module_version": "1.2.0",
            "_view_count": null,
            "flex_flow": null,
            "width": null,
            "min_width": null,
            "border": null,
            "align_items": null,
            "bottom": null,
            "_model_module": "@jupyter-widgets/base",
            "top": null,
            "grid_column": null,
            "overflow_y": null,
            "overflow_x": null,
            "grid_auto_flow": null,
            "grid_area": null,
            "grid_template_columns": null,
            "flex": null,
            "_model_name": "LayoutModel",
            "justify_items": null,
            "grid_row": null,
            "max_height": null,
            "align_content": null,
            "visibility": null,
            "align_self": null,
            "height": null,
            "min_height": null,
            "padding": null,
            "grid_auto_rows": null,
            "grid_gap": null,
            "max_width": null,
            "order": null,
            "_view_module_version": "1.2.0",
            "grid_template_areas": null,
            "object_position": null,
            "object_fit": null,
            "grid_auto_columns": null,
            "margin": null,
            "display": null,
            "left": null
          }
        },
        "30b86619b3eb4265b4073f7fb4666866": {
          "model_module": "@jupyter-widgets/controls",
          "model_name": "HTMLModel",
          "model_module_version": "1.5.0",
          "state": {
            "_view_name": "HTMLView",
            "style": "IPY_MODEL_844db4306f7e4b77901388f9ca1322df",
            "_dom_classes": [],
            "description": "",
            "_model_name": "HTMLModel",
            "placeholder": "​",
            "_view_module": "@jupyter-widgets/controls",
            "_model_module_version": "1.5.0",
            "value": "BR(DPH): 100%",
            "_view_count": null,
            "_view_module_version": "1.5.0",
            "description_tooltip": null,
            "_model_module": "@jupyter-widgets/controls",
            "layout": "IPY_MODEL_ce2f4cc9c81c4110a233cc95352221f7"
          }
        },
        "dce194931ca94a40a0c3de54bc09d8b0": {
          "model_module": "@jupyter-widgets/controls",
          "model_name": "FloatProgressModel",
          "model_module_version": "1.5.0",
          "state": {
            "_view_name": "ProgressView",
            "style": "IPY_MODEL_aab2402331354862abd8ebb283394a17",
            "_dom_classes": [],
            "description": "",
            "_model_name": "FloatProgressModel",
            "bar_style": "success",
            "max": 4,
            "_view_module": "@jupyter-widgets/controls",
            "_model_module_version": "1.5.0",
            "value": 4,
            "_view_count": null,
            "_view_module_version": "1.5.0",
            "orientation": "horizontal",
            "min": 0,
            "description_tooltip": null,
            "_model_module": "@jupyter-widgets/controls",
            "layout": "IPY_MODEL_17680e8a790a4ea285be1455e6c26572"
          }
        },
        "19a16bb36ed54136bdef0f5f312bbe8e": {
          "model_module": "@jupyter-widgets/controls",
          "model_name": "HTMLModel",
          "model_module_version": "1.5.0",
          "state": {
            "_view_name": "HTMLView",
            "style": "IPY_MODEL_3c2e13ab803e42ab83b0bf6c910f70cc",
            "_dom_classes": [],
            "description": "",
            "_model_name": "HTMLModel",
            "placeholder": "​",
            "_view_module": "@jupyter-widgets/controls",
            "_model_module_version": "1.5.0",
            "value": " 4/4 [00:00&lt;00:00,  5.69q/s]",
            "_view_count": null,
            "_view_module_version": "1.5.0",
            "description_tooltip": null,
            "_model_module": "@jupyter-widgets/controls",
            "layout": "IPY_MODEL_7b54861fb2254f71843791a65727a695"
          }
        },
        "844db4306f7e4b77901388f9ca1322df": {
          "model_module": "@jupyter-widgets/controls",
          "model_name": "DescriptionStyleModel",
          "model_module_version": "1.5.0",
          "state": {
            "_view_name": "StyleView",
            "_model_name": "DescriptionStyleModel",
            "description_width": "",
            "_view_module": "@jupyter-widgets/base",
            "_model_module_version": "1.5.0",
            "_view_count": null,
            "_view_module_version": "1.2.0",
            "_model_module": "@jupyter-widgets/controls"
          }
        },
        "ce2f4cc9c81c4110a233cc95352221f7": {
          "model_module": "@jupyter-widgets/base",
          "model_name": "LayoutModel",
          "model_module_version": "1.2.0",
          "state": {
            "_view_name": "LayoutView",
            "grid_template_rows": null,
            "right": null,
            "justify_content": null,
            "_view_module": "@jupyter-widgets/base",
            "overflow": null,
            "_model_module_version": "1.2.0",
            "_view_count": null,
            "flex_flow": null,
            "width": null,
            "min_width": null,
            "border": null,
            "align_items": null,
            "bottom": null,
            "_model_module": "@jupyter-widgets/base",
            "top": null,
            "grid_column": null,
            "overflow_y": null,
            "overflow_x": null,
            "grid_auto_flow": null,
            "grid_area": null,
            "grid_template_columns": null,
            "flex": null,
            "_model_name": "LayoutModel",
            "justify_items": null,
            "grid_row": null,
            "max_height": null,
            "align_content": null,
            "visibility": null,
            "align_self": null,
            "height": null,
            "min_height": null,
            "padding": null,
            "grid_auto_rows": null,
            "grid_gap": null,
            "max_width": null,
            "order": null,
            "_view_module_version": "1.2.0",
            "grid_template_areas": null,
            "object_position": null,
            "object_fit": null,
            "grid_auto_columns": null,
            "margin": null,
            "display": null,
            "left": null
          }
        },
        "aab2402331354862abd8ebb283394a17": {
          "model_module": "@jupyter-widgets/controls",
          "model_name": "ProgressStyleModel",
          "model_module_version": "1.5.0",
          "state": {
            "_view_name": "StyleView",
            "_model_name": "ProgressStyleModel",
            "description_width": "",
            "_view_module": "@jupyter-widgets/base",
            "_model_module_version": "1.5.0",
            "_view_count": null,
            "_view_module_version": "1.2.0",
            "bar_color": null,
            "_model_module": "@jupyter-widgets/controls"
          }
        },
        "17680e8a790a4ea285be1455e6c26572": {
          "model_module": "@jupyter-widgets/base",
          "model_name": "LayoutModel",
          "model_module_version": "1.2.0",
          "state": {
            "_view_name": "LayoutView",
            "grid_template_rows": null,
            "right": null,
            "justify_content": null,
            "_view_module": "@jupyter-widgets/base",
            "overflow": null,
            "_model_module_version": "1.2.0",
            "_view_count": null,
            "flex_flow": null,
            "width": null,
            "min_width": null,
            "border": null,
            "align_items": null,
            "bottom": null,
            "_model_module": "@jupyter-widgets/base",
            "top": null,
            "grid_column": null,
            "overflow_y": null,
            "overflow_x": null,
            "grid_auto_flow": null,
            "grid_area": null,
            "grid_template_columns": null,
            "flex": null,
            "_model_name": "LayoutModel",
            "justify_items": null,
            "grid_row": null,
            "max_height": null,
            "align_content": null,
            "visibility": null,
            "align_self": null,
            "height": null,
            "min_height": null,
            "padding": null,
            "grid_auto_rows": null,
            "grid_gap": null,
            "max_width": null,
            "order": null,
            "_view_module_version": "1.2.0",
            "grid_template_areas": null,
            "object_position": null,
            "object_fit": null,
            "grid_auto_columns": null,
            "margin": null,
            "display": null,
            "left": null
          }
        },
        "3c2e13ab803e42ab83b0bf6c910f70cc": {
          "model_module": "@jupyter-widgets/controls",
          "model_name": "DescriptionStyleModel",
          "model_module_version": "1.5.0",
          "state": {
            "_view_name": "StyleView",
            "_model_name": "DescriptionStyleModel",
            "description_width": "",
            "_view_module": "@jupyter-widgets/base",
            "_model_module_version": "1.5.0",
            "_view_count": null,
            "_view_module_version": "1.2.0",
            "_model_module": "@jupyter-widgets/controls"
          }
        },
        "7b54861fb2254f71843791a65727a695": {
          "model_module": "@jupyter-widgets/base",
          "model_name": "LayoutModel",
          "model_module_version": "1.2.0",
          "state": {
            "_view_name": "LayoutView",
            "grid_template_rows": null,
            "right": null,
            "justify_content": null,
            "_view_module": "@jupyter-widgets/base",
            "overflow": null,
            "_model_module_version": "1.2.0",
            "_view_count": null,
            "flex_flow": null,
            "width": null,
            "min_width": null,
            "border": null,
            "align_items": null,
            "bottom": null,
            "_model_module": "@jupyter-widgets/base",
            "top": null,
            "grid_column": null,
            "overflow_y": null,
            "overflow_x": null,
            "grid_auto_flow": null,
            "grid_area": null,
            "grid_template_columns": null,
            "flex": null,
            "_model_name": "LayoutModel",
            "justify_items": null,
            "grid_row": null,
            "max_height": null,
            "align_content": null,
            "visibility": null,
            "align_self": null,
            "height": null,
            "min_height": null,
            "padding": null,
            "grid_auto_rows": null,
            "grid_gap": null,
            "max_width": null,
            "order": null,
            "_view_module_version": "1.2.0",
            "grid_template_areas": null,
            "object_position": null,
            "object_fit": null,
            "grid_auto_columns": null,
            "margin": null,
            "display": null,
            "left": null
          }
        }
      }
    }
  },
  "cells": [
    {
      "cell_type": "markdown",
      "metadata": {
        "id": "view-in-github",
        "colab_type": "text"
      },
      "source": [
        "<a href=\"https://colab.research.google.com/github/hammadkhann/Effective-Dense-Retrieval/blob/main/Neural_Reranking.ipynb\" target=\"_parent\"><img src=\"https://colab.research.google.com/assets/colab-badge.svg\" alt=\"Open In Colab\"/></a>"
      ]
    },
    {
      "cell_type": "markdown",
      "metadata": {
        "id": "Q_6677d0ji32"
      },
      "source": [
        "# **Pyterrier Setup**"
      ]
    },
    {
      "cell_type": "code",
      "metadata": {
        "colab": {
          "base_uri": "https://localhost:8080/"
        },
        "id": "VVgSzHhkjZpP",
        "outputId": "4918e8fb-5125-40b4-ca3c-8db16ef27eba"
      },
      "source": [
        "!pip -q install python-terrier\n",
        "import pyterrier as pt\n",
        "pt.init()"
      ],
      "execution_count": 2,
      "outputs": [
        {
          "output_type": "stream",
          "name": "stdout",
          "text": [
            "PyTerrier 0.7.1 has loaded Terrier 5.6 (built by craigmacdonald on 2021-09-17 13:27)\n"
          ]
        }
      ]
    },
    {
      "cell_type": "markdown",
      "metadata": {
        "id": "9mSAzClYjuSz"
      },
      "source": [
        "## **Importing useful libraries**\n",
        "\n"
      ]
    },
    {
      "cell_type": "code",
      "metadata": {
        "id": "5EE-pS8Djrbe"
      },
      "source": [
        "import numpy as np\n",
        "import pandas as pd\n",
        "import matplotlib.pyplot as plt\n",
        "\n",
        "import pickle\n",
        "from google.colab import drive\n",
        "from pyterrier.measures import *\n",
        "\n",
        "pd.options.display.max_rows = None\n",
        "pd.options.display.max_columns = None"
      ],
      "execution_count": 5,
      "outputs": []
    },
    {
      "cell_type": "markdown",
      "metadata": {
        "id": "h2iVnU9joX4-"
      },
      "source": [
        "## **Connect Google Drive**\n"
      ]
    },
    {
      "cell_type": "code",
      "metadata": {
        "colab": {
          "base_uri": "https://localhost:8080/"
        },
        "id": "u2McjTzIoe81",
        "outputId": "35826014-6e82-4bdd-dde8-44023dbff504"
      },
      "source": [
        "drive.mount('/content/drive')"
      ],
      "execution_count": 6,
      "outputs": [
        {
          "output_type": "stream",
          "name": "stdout",
          "text": [
            "Drive already mounted at /content/drive; to attempt to forcibly remount, call drive.mount(\"/content/drive\", force_remount=True).\n"
          ]
        }
      ]
    },
    {
      "cell_type": "markdown",
      "metadata": {
        "id": "y_c_4dCXj9OB"
      },
      "source": [
        "# **Preparing testing dataset**"
      ]
    },
    {
      "cell_type": "markdown",
      "metadata": {
        "id": "FYjnsct8ncnP"
      },
      "source": [
        "## **DPH(Sparse Retrieval)**"
      ]
    },
    {
      "cell_type": "markdown",
      "metadata": {
        "id": "dp_7n5p-kYYB"
      },
      "source": [
        "## TREC-2019"
      ]
    },
    {
      "cell_type": "code",
      "metadata": {
        "colab": {
          "base_uri": "https://localhost:8080/"
        },
        "id": "r-mOsFz5kEl8",
        "outputId": "6d709c94-a28f-49c0-a2d2-0a133d3e6fc6"
      },
      "source": [
        "br = pt.BatchRetrieve.from_dataset('msmarco_passage', 'terrier_stemmed_text', num_results=100, metadata = ['docno', 'text'], verbose=True)"
      ],
      "execution_count": 9,
      "outputs": [
        {
          "output_type": "stream",
          "name": "stdout",
          "text": [
            "22:10:09.058 [main] WARN org.terrier.structures.BaseCompressingMetaIndex - Structure meta reading data file directly from disk (SLOW) - try index.meta.data-source=fileinmem in the index properties file. 1.9 GiB of memory would be required.\n"
          ]
        }
      ]
    },
    {
      "cell_type": "code",
      "metadata": {
        "colab": {
          "base_uri": "https://localhost:8080/",
          "height": 0,
          "referenced_widgets": [
            "b17e6dfc90d74fc4be8875160870872a",
            "855dcb60b10a4914bed20ea28d2fe84d",
            "08d1a4542bc74ea68309f314a6e821db",
            "cdd3b77e588e43ac975975ec1a841c69",
            "649b5491370f4b02aa49a8267a5f7daf",
            "ff0b7f04f1354a72acd108b951e9ff3f",
            "d50ad5a7f39c40d9838863ab2b45a3cb",
            "0c5bd053177d4315b08b6d2527885f8c",
            "a5005e20b1a14e57b55e97d0a6ec564b",
            "e536eb890406467db93d4aef6994fec6",
            "8f2d65db1f094f8aa169ce0d09d3c35b",
            "2368602dc6dc46e898acea84a1d9037b",
            "71e4fcb31ed646649cc6ec6c2dd80329",
            "fee3ef35c3e44c1e863ebe989daaf9d6",
            "f8ceecd773dd45f39f24653bb23c6e73",
            "9fe78cbde9f8479688d6ca04261b0c93",
            "9401880c15a143ba84a6f62532b41ab3",
            "cdca96e2716a425c8f73e90f74de2334",
            "b2c5784712494cf28343d44859fa1cdd",
            "2c2342cfb00c461499e6b78ce24de851",
            "8d4218bf80774c29953e4d7f9994e30f",
            "25197e53d1e14a5e8e962ef91174f7ed",
            "57873e71b2db45a59da667af124b7bc7",
            "8200966fb4be485eabcd9f15b7dc43b2",
            "9cdd21fe94fd4140a4d670d34fa8458e",
            "895106ceae9840e6ad8ec99ee4941b9a",
            "bc6ee265add848db93388452751f177d",
            "3ee92807fd7a47f4ac859f2d236316ed",
            "925429e43caa47838a68449c6e183fd9",
            "02f3b5af4bd64cae8fc8253fa93ef20a",
            "a279edbac98b486a9dc5a9d1fcaaff67",
            "213589b7af9147588b2edcb0e6d65b1c",
            "292f1c0f13dd490a86ab71e4394682ae",
            "83abc33a8c754c72b07b9732d38d12fe",
            "65a4818a8f444084910592f082bf49f3",
            "4050bed22368441a9e0aa822c6269715",
            "eb95d255a3f243f68fde4a2211446cf1",
            "8f60b38cd9a949fb93c11b2617040eab",
            "b2bdfb5562fb4fcfb275974db66df71c",
            "8e21d2ecca844bf58860f9c763e10807",
            "a64b2efd183a4dec9c4e7cf04ceea4e7",
            "19a97aeb152047378d99d586b45847cf",
            "22c9a568a53f4e78afefd1672fa8afa6",
            "a989aea4a87a4aa0910dca80ae345a2f",
            "95a7b8da9f754d03aeec65d321ec878a",
            "81900f3a26c84fd4b70afef6c69aa06f",
            "7d5eca39e6ab40d2aedea1121d01a16e",
            "0a61bf6a7fbc4e9388a927efaca6d9f1",
            "fdd1d7e7f73f4055926575fd77371315",
            "2967c34bbb8e4058acd50533200dd72b",
            "d0839f1be3d94f1e8be6d16973eccd65",
            "be8deb59097e43888e434de801365be0",
            "4720a63bcce64e0caa090e799a5cdc48",
            "70c3a3e1fa7e4b0e9fe992fa4da76e70",
            "15bd38b053d54009b85d33eedf5cbea8"
          ]
        },
        "id": "xEZ1gsnvkL-S",
        "outputId": "efcbad43-7ed9-43b4-8af3-a05f01caa901"
      },
      "source": [
        "dph_2019 = pd.DataFrame()\n",
        "topics = pt.get_dataset('msmarco_passage').get_topics('test-2019')\n",
        "topics = pt.get_dataset('msmarco_passage').get_qrels('test-2019')[[\"qid\"]].drop_duplicates().merge(topics, on=['qid'])\n",
        "for res in br.transform_gen(topics, batch_size=10):\n",
        "  dph_2019 = dph_2019.append(res)\n",
        "print(\"Number of topics: \", len(topics))"
      ],
      "execution_count": 10,
      "outputs": [
        {
          "output_type": "display_data",
          "data": {
            "application/vnd.jupyter.widget-view+json": {
              "model_id": "b17e6dfc90d74fc4be8875160870872a",
              "version_minor": 0,
              "version_major": 2
            },
            "text/plain": [
              "BR(DPH):   0%|          | 0/10 [00:00<?, ?q/s]"
            ]
          },
          "metadata": {}
        },
        {
          "output_type": "display_data",
          "data": {
            "application/vnd.jupyter.widget-view+json": {
              "model_id": "2368602dc6dc46e898acea84a1d9037b",
              "version_minor": 0,
              "version_major": 2
            },
            "text/plain": [
              "BR(DPH):   0%|          | 0/10 [00:00<?, ?q/s]"
            ]
          },
          "metadata": {}
        },
        {
          "output_type": "display_data",
          "data": {
            "application/vnd.jupyter.widget-view+json": {
              "model_id": "57873e71b2db45a59da667af124b7bc7",
              "version_minor": 0,
              "version_major": 2
            },
            "text/plain": [
              "BR(DPH):   0%|          | 0/10 [00:00<?, ?q/s]"
            ]
          },
          "metadata": {}
        },
        {
          "output_type": "display_data",
          "data": {
            "application/vnd.jupyter.widget-view+json": {
              "model_id": "83abc33a8c754c72b07b9732d38d12fe",
              "version_minor": 0,
              "version_major": 2
            },
            "text/plain": [
              "BR(DPH):   0%|          | 0/10 [00:00<?, ?q/s]"
            ]
          },
          "metadata": {}
        },
        {
          "output_type": "display_data",
          "data": {
            "application/vnd.jupyter.widget-view+json": {
              "model_id": "95a7b8da9f754d03aeec65d321ec878a",
              "version_minor": 0,
              "version_major": 2
            },
            "text/plain": [
              "BR(DPH):   0%|          | 0/3 [00:00<?, ?q/s]"
            ]
          },
          "metadata": {}
        },
        {
          "output_type": "stream",
          "name": "stdout",
          "text": [
            "Number of topics:  43\n"
          ]
        }
      ]
    },
    {
      "cell_type": "code",
      "metadata": {
        "colab": {
          "base_uri": "https://localhost:8080/"
        },
        "id": "r5vA3TFFk0xW",
        "outputId": "b85b12fb-89f3-4488-a4b2-8e9d933a180e"
      },
      "source": [
        "dph_2019.shape"
      ],
      "execution_count": 11,
      "outputs": [
        {
          "output_type": "execute_result",
          "data": {
            "text/plain": [
              "(4205, 7)"
            ]
          },
          "metadata": {},
          "execution_count": 11
        }
      ]
    },
    {
      "cell_type": "markdown",
      "metadata": {
        "id": "4qjnsknfmvix"
      },
      "source": [
        "## TREC-2020"
      ]
    },
    {
      "cell_type": "code",
      "metadata": {
        "colab": {
          "base_uri": "https://localhost:8080/",
          "height": 225,
          "referenced_widgets": [
            "eb32dec40fb14f168a5f7d87a594ad4f",
            "cb803784f6ea48f7b43c5824e0bbdf01",
            "1df5fe7cbe6046269f7f543ef98a63a9",
            "901a49994cb447c79af96d40832a4ce3",
            "85251e9c3ffa4ce6985694c90420945e",
            "3b2ad512a47148f9a02ad9d7e25eb80e",
            "ac7bfd2d89514712bafd3ea6e944fb9c",
            "8102eeeb836b49ada45bbf367ee1a217",
            "57c777f1cd0c44ec8e0212051633458d",
            "3f412fbc901b48a7a6319e7e208be4f4",
            "a0bfe153c80a4d358b035b79f5b85ff5",
            "5830b90bfa46492a95dc1fb9e94f2b2b",
            "6b802df71e754f0d8a4a430e65c9ff69",
            "7dd312f9a2e042238e2a3c6c3f8aaa33",
            "361bbf3678bc4918841840b018024b44",
            "3632f3b50ca541ebbaadca2ae85464f2",
            "e159dcea3f604285838f2c911e0b784b",
            "e670d60a9600441084b1f1e9fbe404f0",
            "b5f99367b17649cfb5297876bfa1a3d3",
            "95dff8249f8341d490787c4ce9817582",
            "06b4d62d1cad453ebd0b7b8e152440fb",
            "a8f44c0c560f4afeb5ad95f620df10e0",
            "3ed666f8ca914c2face826b7f0cf3971",
            "b3fe3f9d84234d339510781e589377fd",
            "71761153e00342bc8f8211260280392e",
            "52ef787337ac4a9a9ac53a0f0148eee1",
            "eeef0c10e0c34889ae6e534fcad7f181",
            "28dd926b37494a5d91e0bb01c5bd975f",
            "99a18d71ad1a42a1a4cedf49dd78e946",
            "c495ef8593344ac9ae4778124ba3245b",
            "d85f2b3729ae4960ba7978dc7e298efb",
            "24edb42bfd6c4396bf16fd09c1c8c496",
            "45b4fe9618834a9c8c9209f760c18f21",
            "636d6bb97444432f9ebc09020058201a",
            "c0b215261dcf43259781caba0a171c31",
            "455ac8c6b2f24209b09cafe9f251349f",
            "6099267c15a248559ae40ab8bf140273",
            "262b383256484d57b2dbbf6efe8cc32d",
            "f451e49929fe4474a2cda2225ca96b90",
            "d83473c872594816bed6fc51c3756bae",
            "913230b8f5bc4e7ea269c8c0df3907de",
            "09476e6583d34e94b511abf0820bfd78",
            "9599bf156bf14c828ff03323e9cc5a14",
            "136aea8f1d1848eebb7158e469ff5fcc",
            "f7fe137407f744c3b3d25d30b5780ed6",
            "ca8e547124e74e97b3be5539ebf2005c",
            "976f2a2001de441497ff1a7f956467b4",
            "1dadf4f0bbfb4676bd887caee5b50003",
            "25994520696d455fb6508c3f68d8413b",
            "53782d312b7b4ffe85259c751320bf4b",
            "84a1d927db8a4f26bdb57f22e4f73520",
            "75575053bf0f4a46a8588b355dfd6ce9",
            "101a15147853464398fe8d0ebe6251f2",
            "989af8d9e98a459296b0ab3646a5d327",
            "9f56448af54a4b3aaf35a4481a9350cb",
            "17c1cabe207d48fe9533db92237d415d",
            "5801f8c170174940b346b12605597722",
            "30b86619b3eb4265b4073f7fb4666866",
            "dce194931ca94a40a0c3de54bc09d8b0",
            "19a16bb36ed54136bdef0f5f312bbe8e",
            "844db4306f7e4b77901388f9ca1322df",
            "ce2f4cc9c81c4110a233cc95352221f7",
            "aab2402331354862abd8ebb283394a17",
            "17680e8a790a4ea285be1455e6c26572",
            "3c2e13ab803e42ab83b0bf6c910f70cc",
            "7b54861fb2254f71843791a65727a695"
          ]
        },
        "id": "BscWAteXmrjz",
        "outputId": "91692250-4c99-4410-e148-046eb45dae06"
      },
      "source": [
        "dph_2020 = pd.DataFrame()\n",
        "topics = pt.get_dataset('msmarco_passage').get_topics('test-2020')\n",
        "topics = pt.get_dataset('msmarco_passage').get_qrels('test-2020')[[\"qid\"]].drop_duplicates().merge(topics, on=['qid'])\n",
        "for res in br.transform_gen(topics, batch_size=10):\n",
        "  dph_2020 = dph_2020.append(res)\n",
        "  \n",
        "print(\"Number of topics: \", len(topics))"
      ],
      "execution_count": 12,
      "outputs": [
        {
          "output_type": "display_data",
          "data": {
            "application/vnd.jupyter.widget-view+json": {
              "model_id": "eb32dec40fb14f168a5f7d87a594ad4f",
              "version_minor": 0,
              "version_major": 2
            },
            "text/plain": [
              "BR(DPH):   0%|          | 0/10 [00:00<?, ?q/s]"
            ]
          },
          "metadata": {}
        },
        {
          "output_type": "display_data",
          "data": {
            "application/vnd.jupyter.widget-view+json": {
              "model_id": "5830b90bfa46492a95dc1fb9e94f2b2b",
              "version_minor": 0,
              "version_major": 2
            },
            "text/plain": [
              "BR(DPH):   0%|          | 0/10 [00:00<?, ?q/s]"
            ]
          },
          "metadata": {}
        },
        {
          "output_type": "display_data",
          "data": {
            "application/vnd.jupyter.widget-view+json": {
              "model_id": "3ed666f8ca914c2face826b7f0cf3971",
              "version_minor": 0,
              "version_major": 2
            },
            "text/plain": [
              "BR(DPH):   0%|          | 0/10 [00:00<?, ?q/s]"
            ]
          },
          "metadata": {}
        },
        {
          "output_type": "display_data",
          "data": {
            "application/vnd.jupyter.widget-view+json": {
              "model_id": "636d6bb97444432f9ebc09020058201a",
              "version_minor": 0,
              "version_major": 2
            },
            "text/plain": [
              "BR(DPH):   0%|          | 0/10 [00:00<?, ?q/s]"
            ]
          },
          "metadata": {}
        },
        {
          "output_type": "display_data",
          "data": {
            "application/vnd.jupyter.widget-view+json": {
              "model_id": "f7fe137407f744c3b3d25d30b5780ed6",
              "version_minor": 0,
              "version_major": 2
            },
            "text/plain": [
              "BR(DPH):   0%|          | 0/10 [00:00<?, ?q/s]"
            ]
          },
          "metadata": {}
        },
        {
          "output_type": "display_data",
          "data": {
            "application/vnd.jupyter.widget-view+json": {
              "model_id": "17c1cabe207d48fe9533db92237d415d",
              "version_minor": 0,
              "version_major": 2
            },
            "text/plain": [
              "BR(DPH):   0%|          | 0/4 [00:00<?, ?q/s]"
            ]
          },
          "metadata": {}
        },
        {
          "output_type": "stream",
          "name": "stdout",
          "text": [
            "Number of topics:  54\n"
          ]
        }
      ]
    },
    {
      "cell_type": "code",
      "metadata": {
        "colab": {
          "base_uri": "https://localhost:8080/"
        },
        "id": "ajbX7PRVnMPW",
        "outputId": "2060c1f3-f036-4d87-81fe-c32480a78582"
      },
      "source": [
        "dph_2020.shape"
      ],
      "execution_count": 13,
      "outputs": [
        {
          "output_type": "execute_result",
          "data": {
            "text/plain": [
              "(5329, 7)"
            ]
          },
          "metadata": {},
          "execution_count": 13
        }
      ]
    },
    {
      "cell_type": "markdown",
      "metadata": {
        "id": "j0Z8t-0UnrO2"
      },
      "source": [
        "## **ColBERT(Dense Retrieval)**"
      ]
    },
    {
      "cell_type": "markdown",
      "metadata": {
        "id": "fedgx8LPnzBZ"
      },
      "source": [
        "## TREC-2019"
      ]
    },
    {
      "cell_type": "code",
      "metadata": {
        "colab": {
          "base_uri": "https://localhost:8080/"
        },
        "id": "6yyStXRyn298",
        "outputId": "0ad6844b-872d-4340-cbb9-5d04d2f6c37a"
      },
      "source": [
        "index = pt.IndexFactory.of(pt.get_dataset(\"msmarco_passage\").get_index(\"terrier_stemmed_text\"))\n",
        "print(index.getCollectionStatistics())"
      ],
      "execution_count": 14,
      "outputs": [
        {
          "output_type": "stream",
          "name": "stdout",
          "text": [
            "22:10:27.358 [main] WARN org.terrier.structures.BaseCompressingMetaIndex - Structure meta reading data file directly from disk (SLOW) - try index.meta.data-source=fileinmem in the index properties file. 1.9 GiB of memory would be required.\n",
            "Number of documents: 8841823\n",
            "Number of terms: 1170682\n",
            "Number of postings: 215238456\n",
            "Number of fields: 1\n",
            "Number of tokens: 288759529\n",
            "Field names: [text]\n",
            "Positions:   false\n",
            "\n"
          ]
        }
      ]
    },
    {
      "cell_type": "code",
      "metadata": {
        "colab": {
          "base_uri": "https://localhost:8080/"
        },
        "id": "mjq0wZ-AoAqj",
        "outputId": "b4a290f3-41e3-4a9c-edc8-8692df6e6416"
      },
      "source": [
        "colbert_2019 = pt.io.read_results(\"/content/drive/MyDrive/E2E.2019.res\")\n",
        "# get document text for each docid\n",
        "meta = index.getMetaIndex()\n",
        "text = []\n",
        "for index, row in colbert_2019.iterrows():\n",
        "    text.append(meta.getItem('text', int(row['docno'])))\n",
        "colbert_2019['text'] = text\n",
        "\n",
        "# get query for each qid\n",
        "topics_2019 = pt.get_dataset('msmarco_passage').get_topics('test-2019')\n",
        "colbert_2019 = pd.merge(colbert_2019, topics_2019, on='qid', how='left')\n",
        "\n",
        "# filter queries on 43 topics\n",
        "colbert_2019 = colbert_2019[colbert_2019['qid'].isin(dph_2019['qid'].unique())]\n",
        "# filter data on top100 results for each 43 topics\n",
        "colbert_2019 = colbert_2019.groupby('qid').apply(lambda x : x.sort_values(by = 'score', ascending = False).head(100).reset_index(drop = True))\n",
        "# reset index\n",
        "colbert_2019.reset_index(drop=True, inplace=True)\n",
        "colbert_2019.shape"
      ],
      "execution_count": 15,
      "outputs": [
        {
          "output_type": "execute_result",
          "data": {
            "text/plain": [
              "(4300, 7)"
            ]
          },
          "metadata": {},
          "execution_count": 15
        }
      ]
    },
    {
      "cell_type": "markdown",
      "metadata": {
        "id": "0H0u38QIn1cS"
      },
      "source": [
        "## TREC-2020"
      ]
    },
    {
      "cell_type": "code",
      "metadata": {
        "colab": {
          "base_uri": "https://localhost:8080/"
        },
        "id": "5A6MDGY_n_mk",
        "outputId": "6e1b7817-d600-4b35-898b-20591f7bc324"
      },
      "source": [
        "colbert_2020 = pt.io.read_results(\"/content/drive/MyDrive/E2E.2020.res\")\n",
        "index = pt.IndexFactory.of(pt.get_dataset(\"msmarco_passage\").get_index(\"terrier_stemmed_text\"))\n",
        "\n",
        "# get document text for each docid\n",
        "meta = index.getMetaIndex()\n",
        "text = []\n",
        "for index, row in colbert_2020.iterrows():\n",
        "    text.append(meta.getItem('text', int(row['docno'])))\n",
        "colbert_2020['text'] = text\n",
        "\n",
        "# get query for each qid\n",
        "topics_2020 = pt.get_dataset('msmarco_passage').get_topics('test-2020')\n",
        "colbert_2020 = pd.merge(colbert_2020, topics_2020, on='qid', how='left')\n",
        "\n",
        "# filter queries on 43 topics\n",
        "colbert_2020 = colbert_2020[colbert_2020['qid'].isin(dph_2020['qid'].unique())]\n",
        "# filter data on top100 results for each 43 topics\n",
        "colbert_2020 = colbert_2020.groupby('qid').apply(lambda x : x.sort_values(by = 'score', ascending = False).head(100).reset_index(drop = True))\n",
        "# reset index\n",
        "colbert_2020.reset_index(drop=True, inplace=True)\n",
        "colbert_2020.shape"
      ],
      "execution_count": 16,
      "outputs": [
        {
          "output_type": "stream",
          "name": "stdout",
          "text": [
            "22:13:19.654 [main] WARN org.terrier.structures.BaseCompressingMetaIndex - Structure meta reading data file directly from disk (SLOW) - try index.meta.data-source=fileinmem in the index properties file. 1.9 GiB of memory would be required.\n"
          ]
        },
        {
          "output_type": "execute_result",
          "data": {
            "text/plain": [
              "(5400, 7)"
            ]
          },
          "metadata": {},
          "execution_count": 16
        }
      ]
    },
    {
      "cell_type": "markdown",
      "metadata": {
        "id": "zmjMaPT9pp2M"
      },
      "source": [
        "# **Pyterrier-ColBERT Setup**"
      ]
    },
    {
      "cell_type": "code",
      "metadata": {
        "colab": {
          "base_uri": "https://localhost:8080/"
        },
        "id": "koXMqnMXp4HL",
        "outputId": "ce79ddcd-d897-463d-da23-80607777d6ce"
      },
      "source": [
        "!pip install --upgrade git+https://github.com/terrierteam/pyterrier_colbert.git"
      ],
      "execution_count": 17,
      "outputs": [
        {
          "output_type": "stream",
          "name": "stdout",
          "text": [
            "Collecting git+https://github.com/terrierteam/pyterrier_colbert.git\n",
            "  Cloning https://github.com/terrierteam/pyterrier_colbert.git to /tmp/pip-req-build-ca_8jtdc\n",
            "  Running command git clone -q https://github.com/terrierteam/pyterrier_colbert.git /tmp/pip-req-build-ca_8jtdc\n",
            "Collecting ColBERT@ git+https://github.com/cmacdonald/ColBERT.git@v0.2#egg=ColBERT\n",
            "  Cloning https://github.com/cmacdonald/ColBERT.git (to revision v0.2) to /tmp/pip-install-755nypjp/colbert_6725adb8421e45ee86a2dfa8d71c6afb\n",
            "  Running command git clone -q https://github.com/cmacdonald/ColBERT.git /tmp/pip-install-755nypjp/colbert_6725adb8421e45ee86a2dfa8d71c6afb\n",
            "  Running command git checkout -b v0.2 --track origin/v0.2\n",
            "  Switched to a new branch 'v0.2'\n",
            "  Branch 'v0.2' set up to track remote branch 'v0.2' from 'origin'.\n",
            "Requirement already satisfied: python-terrier>=0.5.0 in /usr/local/lib/python3.7/dist-packages (from pyterrier-colbert==0.0.1) (0.7.1)\n",
            "Requirement already satisfied: pandas in /usr/local/lib/python3.7/dist-packages (from pyterrier-colbert==0.0.1) (1.1.5)\n",
            "Requirement already satisfied: transformers==3.0.2 in /usr/local/lib/python3.7/dist-packages (from ColBERT@ git+https://github.com/cmacdonald/ColBERT.git@v0.2#egg=ColBERT->pyterrier-colbert==0.0.1) (3.0.2)\n",
            "Requirement already satisfied: ujson in /usr/local/lib/python3.7/dist-packages (from ColBERT@ git+https://github.com/cmacdonald/ColBERT.git@v0.2#egg=ColBERT->pyterrier-colbert==0.0.1) (4.3.0)\n",
            "Requirement already satisfied: mlflow in /usr/local/lib/python3.7/dist-packages (from ColBERT@ git+https://github.com/cmacdonald/ColBERT.git@v0.2#egg=ColBERT->pyterrier-colbert==0.0.1) (1.22.0)\n",
            "Requirement already satisfied: tensorboard in /usr/local/lib/python3.7/dist-packages (from ColBERT@ git+https://github.com/cmacdonald/ColBERT.git@v0.2#egg=ColBERT->pyterrier-colbert==0.0.1) (2.7.0)\n",
            "Requirement already satisfied: tqdm in /usr/local/lib/python3.7/dist-packages (from ColBERT@ git+https://github.com/cmacdonald/ColBERT.git@v0.2#egg=ColBERT->pyterrier-colbert==0.0.1) (4.62.3)\n",
            "Requirement already satisfied: torch in /usr/local/lib/python3.7/dist-packages (from ColBERT@ git+https://github.com/cmacdonald/ColBERT.git@v0.2#egg=ColBERT->pyterrier-colbert==0.0.1) (1.10.0+cu111)\n",
            "Requirement already satisfied: tokenizers==0.8.1.rc1 in /usr/local/lib/python3.7/dist-packages (from transformers==3.0.2->ColBERT@ git+https://github.com/cmacdonald/ColBERT.git@v0.2#egg=ColBERT->pyterrier-colbert==0.0.1) (0.8.1rc1)\n",
            "Requirement already satisfied: numpy in /usr/local/lib/python3.7/dist-packages (from transformers==3.0.2->ColBERT@ git+https://github.com/cmacdonald/ColBERT.git@v0.2#egg=ColBERT->pyterrier-colbert==0.0.1) (1.19.5)\n",
            "Requirement already satisfied: requests in /usr/local/lib/python3.7/dist-packages (from transformers==3.0.2->ColBERT@ git+https://github.com/cmacdonald/ColBERT.git@v0.2#egg=ColBERT->pyterrier-colbert==0.0.1) (2.23.0)\n",
            "Requirement already satisfied: filelock in /usr/local/lib/python3.7/dist-packages (from transformers==3.0.2->ColBERT@ git+https://github.com/cmacdonald/ColBERT.git@v0.2#egg=ColBERT->pyterrier-colbert==0.0.1) (3.4.0)\n",
            "Requirement already satisfied: sacremoses in /usr/local/lib/python3.7/dist-packages (from transformers==3.0.2->ColBERT@ git+https://github.com/cmacdonald/ColBERT.git@v0.2#egg=ColBERT->pyterrier-colbert==0.0.1) (0.0.46)\n",
            "Requirement already satisfied: packaging in /usr/local/lib/python3.7/dist-packages (from transformers==3.0.2->ColBERT@ git+https://github.com/cmacdonald/ColBERT.git@v0.2#egg=ColBERT->pyterrier-colbert==0.0.1) (21.3)\n",
            "Requirement already satisfied: regex!=2019.12.17 in /usr/local/lib/python3.7/dist-packages (from transformers==3.0.2->ColBERT@ git+https://github.com/cmacdonald/ColBERT.git@v0.2#egg=ColBERT->pyterrier-colbert==0.0.1) (2019.12.20)\n",
            "Requirement already satisfied: sentencepiece!=0.1.92 in /usr/local/lib/python3.7/dist-packages (from transformers==3.0.2->ColBERT@ git+https://github.com/cmacdonald/ColBERT.git@v0.2#egg=ColBERT->pyterrier-colbert==0.0.1) (0.1.96)\n",
            "Requirement already satisfied: ir-measures>=0.2.0 in /usr/local/lib/python3.7/dist-packages (from python-terrier>=0.5.0->pyterrier-colbert==0.0.1) (0.2.1)\n",
            "Requirement already satisfied: deprecation in /usr/local/lib/python3.7/dist-packages (from python-terrier>=0.5.0->pyterrier-colbert==0.0.1) (2.1.0)\n",
            "Requirement already satisfied: wget in /usr/local/lib/python3.7/dist-packages (from python-terrier>=0.5.0->pyterrier-colbert==0.0.1) (3.2)\n",
            "Requirement already satisfied: more-itertools in /usr/local/lib/python3.7/dist-packages (from python-terrier>=0.5.0->pyterrier-colbert==0.0.1) (8.12.0)\n",
            "Requirement already satisfied: nptyping in /usr/local/lib/python3.7/dist-packages (from python-terrier>=0.5.0->pyterrier-colbert==0.0.1) (1.4.4)\n",
            "Requirement already satisfied: ir-datasets>=0.3.2 in /usr/local/lib/python3.7/dist-packages (from python-terrier>=0.5.0->pyterrier-colbert==0.0.1) (0.5.0)\n",
            "Requirement already satisfied: joblib in /usr/local/lib/python3.7/dist-packages (from python-terrier>=0.5.0->pyterrier-colbert==0.0.1) (1.1.0)\n",
            "Requirement already satisfied: matchpy in /usr/local/lib/python3.7/dist-packages (from python-terrier>=0.5.0->pyterrier-colbert==0.0.1) (0.5.5)\n",
            "Requirement already satisfied: sklearn in /usr/local/lib/python3.7/dist-packages (from python-terrier>=0.5.0->pyterrier-colbert==0.0.1) (0.0)\n",
            "Requirement already satisfied: pyjnius~=1.3.0 in /usr/local/lib/python3.7/dist-packages (from python-terrier>=0.5.0->pyterrier-colbert==0.0.1) (1.3.0)\n",
            "Requirement already satisfied: dill in /usr/local/lib/python3.7/dist-packages (from python-terrier>=0.5.0->pyterrier-colbert==0.0.1) (0.3.4)\n",
            "Requirement already satisfied: statsmodels in /usr/local/lib/python3.7/dist-packages (from python-terrier>=0.5.0->pyterrier-colbert==0.0.1) (0.10.2)\n",
            "Requirement already satisfied: jinja2 in /usr/local/lib/python3.7/dist-packages (from python-terrier>=0.5.0->pyterrier-colbert==0.0.1) (2.11.3)\n",
            "Requirement already satisfied: chest in /usr/local/lib/python3.7/dist-packages (from python-terrier>=0.5.0->pyterrier-colbert==0.0.1) (0.2.3)\n",
            "Requirement already satisfied: scipy in /usr/local/lib/python3.7/dist-packages (from python-terrier>=0.5.0->pyterrier-colbert==0.0.1) (1.4.1)\n",
            "Requirement already satisfied: zlib-state>=0.1.3 in /usr/local/lib/python3.7/dist-packages (from ir-datasets>=0.3.2->python-terrier>=0.5.0->pyterrier-colbert==0.0.1) (0.1.3)\n",
            "Requirement already satisfied: lxml>=4.5.2 in /usr/local/lib/python3.7/dist-packages (from ir-datasets>=0.3.2->python-terrier>=0.5.0->pyterrier-colbert==0.0.1) (4.6.4)\n",
            "Requirement already satisfied: ijson>=3.1.3 in /usr/local/lib/python3.7/dist-packages (from ir-datasets>=0.3.2->python-terrier>=0.5.0->pyterrier-colbert==0.0.1) (3.1.4)\n",
            "Requirement already satisfied: trec-car-tools>=2.5.4 in /usr/local/lib/python3.7/dist-packages (from ir-datasets>=0.3.2->python-terrier>=0.5.0->pyterrier-colbert==0.0.1) (2.5.4)\n",
            "Requirement already satisfied: pyautocorpus>=0.1.1 in /usr/local/lib/python3.7/dist-packages (from ir-datasets>=0.3.2->python-terrier>=0.5.0->pyterrier-colbert==0.0.1) (0.1.6)\n",
            "Requirement already satisfied: pyyaml>=5.3.1 in /usr/local/lib/python3.7/dist-packages (from ir-datasets>=0.3.2->python-terrier>=0.5.0->pyterrier-colbert==0.0.1) (6.0)\n",
            "Requirement already satisfied: warc3-wet>=0.2.3 in /usr/local/lib/python3.7/dist-packages (from ir-datasets>=0.3.2->python-terrier>=0.5.0->pyterrier-colbert==0.0.1) (0.2.3)\n",
            "Requirement already satisfied: warc3-wet-clueweb09>=0.2.5 in /usr/local/lib/python3.7/dist-packages (from ir-datasets>=0.3.2->python-terrier>=0.5.0->pyterrier-colbert==0.0.1) (0.2.5)\n",
            "Requirement already satisfied: beautifulsoup4>=4.4.1 in /usr/local/lib/python3.7/dist-packages (from ir-datasets>=0.3.2->python-terrier>=0.5.0->pyterrier-colbert==0.0.1) (4.6.3)\n",
            "Requirement already satisfied: lz4>=3.1.1 in /usr/local/lib/python3.7/dist-packages (from ir-datasets>=0.3.2->python-terrier>=0.5.0->pyterrier-colbert==0.0.1) (3.1.10)\n",
            "Requirement already satisfied: cwl-eval>=1.0.10 in /usr/local/lib/python3.7/dist-packages (from ir-measures>=0.2.0->python-terrier>=0.5.0->pyterrier-colbert==0.0.1) (1.0.10)\n",
            "Requirement already satisfied: pytrec-eval-terrier==0.5.1 in /usr/local/lib/python3.7/dist-packages (from ir-measures>=0.2.0->python-terrier>=0.5.0->pyterrier-colbert==0.0.1) (0.5.1)\n",
            "Requirement already satisfied: six>=1.7.0 in /usr/local/lib/python3.7/dist-packages (from pyjnius~=1.3.0->python-terrier>=0.5.0->pyterrier-colbert==0.0.1) (1.15.0)\n",
            "Requirement already satisfied: cython in /usr/local/lib/python3.7/dist-packages (from pyjnius~=1.3.0->python-terrier>=0.5.0->pyterrier-colbert==0.0.1) (0.29.24)\n",
            "Requirement already satisfied: urllib3!=1.25.0,!=1.25.1,<1.26,>=1.21.1 in /usr/local/lib/python3.7/dist-packages (from requests->transformers==3.0.2->ColBERT@ git+https://github.com/cmacdonald/ColBERT.git@v0.2#egg=ColBERT->pyterrier-colbert==0.0.1) (1.24.3)\n",
            "Requirement already satisfied: certifi>=2017.4.17 in /usr/local/lib/python3.7/dist-packages (from requests->transformers==3.0.2->ColBERT@ git+https://github.com/cmacdonald/ColBERT.git@v0.2#egg=ColBERT->pyterrier-colbert==0.0.1) (2021.10.8)\n",
            "Requirement already satisfied: idna<3,>=2.5 in /usr/local/lib/python3.7/dist-packages (from requests->transformers==3.0.2->ColBERT@ git+https://github.com/cmacdonald/ColBERT.git@v0.2#egg=ColBERT->pyterrier-colbert==0.0.1) (2.10)\n",
            "Requirement already satisfied: chardet<4,>=3.0.2 in /usr/local/lib/python3.7/dist-packages (from requests->transformers==3.0.2->ColBERT@ git+https://github.com/cmacdonald/ColBERT.git@v0.2#egg=ColBERT->pyterrier-colbert==0.0.1) (3.0.4)\n",
            "Requirement already satisfied: cbor>=1.0.0 in /usr/local/lib/python3.7/dist-packages (from trec-car-tools>=2.5.4->ir-datasets>=0.3.2->python-terrier>=0.5.0->pyterrier-colbert==0.0.1) (1.0.0)\n",
            "Requirement already satisfied: heapdict in /usr/local/lib/python3.7/dist-packages (from chest->python-terrier>=0.5.0->pyterrier-colbert==0.0.1) (1.0.1)\n",
            "Requirement already satisfied: MarkupSafe>=0.23 in /usr/local/lib/python3.7/dist-packages (from jinja2->python-terrier>=0.5.0->pyterrier-colbert==0.0.1) (2.0.1)\n",
            "Requirement already satisfied: multiset<3.0,>=2.0 in /usr/local/lib/python3.7/dist-packages (from matchpy->python-terrier>=0.5.0->pyterrier-colbert==0.0.1) (2.1.1)\n",
            "Requirement already satisfied: sqlparse>=0.3.1 in /usr/local/lib/python3.7/dist-packages (from mlflow->ColBERT@ git+https://github.com/cmacdonald/ColBERT.git@v0.2#egg=ColBERT->pyterrier-colbert==0.0.1) (0.4.2)\n",
            "Requirement already satisfied: databricks-cli>=0.8.7 in /usr/local/lib/python3.7/dist-packages (from mlflow->ColBERT@ git+https://github.com/cmacdonald/ColBERT.git@v0.2#egg=ColBERT->pyterrier-colbert==0.0.1) (0.16.2)\n",
            "Requirement already satisfied: pytz in /usr/local/lib/python3.7/dist-packages (from mlflow->ColBERT@ git+https://github.com/cmacdonald/ColBERT.git@v0.2#egg=ColBERT->pyterrier-colbert==0.0.1) (2018.9)\n",
            "Requirement already satisfied: cloudpickle in /usr/local/lib/python3.7/dist-packages (from mlflow->ColBERT@ git+https://github.com/cmacdonald/ColBERT.git@v0.2#egg=ColBERT->pyterrier-colbert==0.0.1) (1.3.0)\n",
            "Requirement already satisfied: importlib-metadata!=4.7.0,>=3.7.0 in /usr/local/lib/python3.7/dist-packages (from mlflow->ColBERT@ git+https://github.com/cmacdonald/ColBERT.git@v0.2#egg=ColBERT->pyterrier-colbert==0.0.1) (4.8.2)\n",
            "Requirement already satisfied: sqlalchemy in /usr/local/lib/python3.7/dist-packages (from mlflow->ColBERT@ git+https://github.com/cmacdonald/ColBERT.git@v0.2#egg=ColBERT->pyterrier-colbert==0.0.1) (1.4.27)\n",
            "Requirement already satisfied: click>=7.0 in /usr/local/lib/python3.7/dist-packages (from mlflow->ColBERT@ git+https://github.com/cmacdonald/ColBERT.git@v0.2#egg=ColBERT->pyterrier-colbert==0.0.1) (7.1.2)\n",
            "Requirement already satisfied: alembic<=1.4.1 in /usr/local/lib/python3.7/dist-packages (from mlflow->ColBERT@ git+https://github.com/cmacdonald/ColBERT.git@v0.2#egg=ColBERT->pyterrier-colbert==0.0.1) (1.4.1)\n",
            "Requirement already satisfied: docker>=4.0.0 in /usr/local/lib/python3.7/dist-packages (from mlflow->ColBERT@ git+https://github.com/cmacdonald/ColBERT.git@v0.2#egg=ColBERT->pyterrier-colbert==0.0.1) (5.0.3)\n",
            "Requirement already satisfied: gunicorn in /usr/local/lib/python3.7/dist-packages (from mlflow->ColBERT@ git+https://github.com/cmacdonald/ColBERT.git@v0.2#egg=ColBERT->pyterrier-colbert==0.0.1) (20.1.0)\n",
            "Requirement already satisfied: querystring-parser in /usr/local/lib/python3.7/dist-packages (from mlflow->ColBERT@ git+https://github.com/cmacdonald/ColBERT.git@v0.2#egg=ColBERT->pyterrier-colbert==0.0.1) (1.2.4)\n",
            "Requirement already satisfied: entrypoints in /usr/local/lib/python3.7/dist-packages (from mlflow->ColBERT@ git+https://github.com/cmacdonald/ColBERT.git@v0.2#egg=ColBERT->pyterrier-colbert==0.0.1) (0.3)\n",
            "Requirement already satisfied: protobuf>=3.7.0 in /usr/local/lib/python3.7/dist-packages (from mlflow->ColBERT@ git+https://github.com/cmacdonald/ColBERT.git@v0.2#egg=ColBERT->pyterrier-colbert==0.0.1) (3.17.3)\n",
            "Requirement already satisfied: gitpython>=2.1.0 in /usr/local/lib/python3.7/dist-packages (from mlflow->ColBERT@ git+https://github.com/cmacdonald/ColBERT.git@v0.2#egg=ColBERT->pyterrier-colbert==0.0.1) (3.1.24)\n",
            "Requirement already satisfied: prometheus-flask-exporter in /usr/local/lib/python3.7/dist-packages (from mlflow->ColBERT@ git+https://github.com/cmacdonald/ColBERT.git@v0.2#egg=ColBERT->pyterrier-colbert==0.0.1) (0.18.6)\n",
            "Requirement already satisfied: Flask in /usr/local/lib/python3.7/dist-packages (from mlflow->ColBERT@ git+https://github.com/cmacdonald/ColBERT.git@v0.2#egg=ColBERT->pyterrier-colbert==0.0.1) (1.1.4)\n",
            "Requirement already satisfied: python-editor>=0.3 in /usr/local/lib/python3.7/dist-packages (from alembic<=1.4.1->mlflow->ColBERT@ git+https://github.com/cmacdonald/ColBERT.git@v0.2#egg=ColBERT->pyterrier-colbert==0.0.1) (1.0.4)\n",
            "Requirement already satisfied: Mako in /usr/local/lib/python3.7/dist-packages (from alembic<=1.4.1->mlflow->ColBERT@ git+https://github.com/cmacdonald/ColBERT.git@v0.2#egg=ColBERT->pyterrier-colbert==0.0.1) (1.1.6)\n",
            "Requirement already satisfied: python-dateutil in /usr/local/lib/python3.7/dist-packages (from alembic<=1.4.1->mlflow->ColBERT@ git+https://github.com/cmacdonald/ColBERT.git@v0.2#egg=ColBERT->pyterrier-colbert==0.0.1) (2.8.2)\n",
            "Requirement already satisfied: tabulate>=0.7.7 in /usr/local/lib/python3.7/dist-packages (from databricks-cli>=0.8.7->mlflow->ColBERT@ git+https://github.com/cmacdonald/ColBERT.git@v0.2#egg=ColBERT->pyterrier-colbert==0.0.1) (0.8.9)\n",
            "Requirement already satisfied: websocket-client>=0.32.0 in /usr/local/lib/python3.7/dist-packages (from docker>=4.0.0->mlflow->ColBERT@ git+https://github.com/cmacdonald/ColBERT.git@v0.2#egg=ColBERT->pyterrier-colbert==0.0.1) (1.2.1)\n",
            "Requirement already satisfied: typing-extensions>=3.7.4.3 in /usr/local/lib/python3.7/dist-packages (from gitpython>=2.1.0->mlflow->ColBERT@ git+https://github.com/cmacdonald/ColBERT.git@v0.2#egg=ColBERT->pyterrier-colbert==0.0.1) (3.10.0.2)\n",
            "Requirement already satisfied: gitdb<5,>=4.0.1 in /usr/local/lib/python3.7/dist-packages (from gitpython>=2.1.0->mlflow->ColBERT@ git+https://github.com/cmacdonald/ColBERT.git@v0.2#egg=ColBERT->pyterrier-colbert==0.0.1) (4.0.9)\n",
            "Requirement already satisfied: smmap<6,>=3.0.1 in /usr/local/lib/python3.7/dist-packages (from gitdb<5,>=4.0.1->gitpython>=2.1.0->mlflow->ColBERT@ git+https://github.com/cmacdonald/ColBERT.git@v0.2#egg=ColBERT->pyterrier-colbert==0.0.1) (5.0.0)\n",
            "Requirement already satisfied: zipp>=0.5 in /usr/local/lib/python3.7/dist-packages (from importlib-metadata!=4.7.0,>=3.7.0->mlflow->ColBERT@ git+https://github.com/cmacdonald/ColBERT.git@v0.2#egg=ColBERT->pyterrier-colbert==0.0.1) (3.6.0)\n",
            "Requirement already satisfied: greenlet!=0.4.17 in /usr/local/lib/python3.7/dist-packages (from sqlalchemy->mlflow->ColBERT@ git+https://github.com/cmacdonald/ColBERT.git@v0.2#egg=ColBERT->pyterrier-colbert==0.0.1) (1.1.2)\n",
            "Requirement already satisfied: itsdangerous<2.0,>=0.24 in /usr/local/lib/python3.7/dist-packages (from Flask->mlflow->ColBERT@ git+https://github.com/cmacdonald/ColBERT.git@v0.2#egg=ColBERT->pyterrier-colbert==0.0.1) (1.1.0)\n",
            "Requirement already satisfied: Werkzeug<2.0,>=0.15 in /usr/local/lib/python3.7/dist-packages (from Flask->mlflow->ColBERT@ git+https://github.com/cmacdonald/ColBERT.git@v0.2#egg=ColBERT->pyterrier-colbert==0.0.1) (1.0.1)\n",
            "Requirement already satisfied: setuptools>=3.0 in /usr/local/lib/python3.7/dist-packages (from gunicorn->mlflow->ColBERT@ git+https://github.com/cmacdonald/ColBERT.git@v0.2#egg=ColBERT->pyterrier-colbert==0.0.1) (57.4.0)\n",
            "Requirement already satisfied: typish>=1.7.0 in /usr/local/lib/python3.7/dist-packages (from nptyping->python-terrier>=0.5.0->pyterrier-colbert==0.0.1) (1.9.3)\n",
            "Requirement already satisfied: pyparsing!=3.0.5,>=2.0.2 in /usr/local/lib/python3.7/dist-packages (from packaging->transformers==3.0.2->ColBERT@ git+https://github.com/cmacdonald/ColBERT.git@v0.2#egg=ColBERT->pyterrier-colbert==0.0.1) (3.0.6)\n",
            "Requirement already satisfied: prometheus-client in /usr/local/lib/python3.7/dist-packages (from prometheus-flask-exporter->mlflow->ColBERT@ git+https://github.com/cmacdonald/ColBERT.git@v0.2#egg=ColBERT->pyterrier-colbert==0.0.1) (0.12.0)\n",
            "Requirement already satisfied: scikit-learn in /usr/local/lib/python3.7/dist-packages (from sklearn->python-terrier>=0.5.0->pyterrier-colbert==0.0.1) (1.0.1)\n",
            "Requirement already satisfied: threadpoolctl>=2.0.0 in /usr/local/lib/python3.7/dist-packages (from scikit-learn->sklearn->python-terrier>=0.5.0->pyterrier-colbert==0.0.1) (3.0.0)\n",
            "Requirement already satisfied: patsy>=0.4.0 in /usr/local/lib/python3.7/dist-packages (from statsmodels->python-terrier>=0.5.0->pyterrier-colbert==0.0.1) (0.5.2)\n",
            "Requirement already satisfied: wheel>=0.26 in /usr/local/lib/python3.7/dist-packages (from tensorboard->ColBERT@ git+https://github.com/cmacdonald/ColBERT.git@v0.2#egg=ColBERT->pyterrier-colbert==0.0.1) (0.37.0)\n",
            "Requirement already satisfied: tensorboard-data-server<0.7.0,>=0.6.0 in /usr/local/lib/python3.7/dist-packages (from tensorboard->ColBERT@ git+https://github.com/cmacdonald/ColBERT.git@v0.2#egg=ColBERT->pyterrier-colbert==0.0.1) (0.6.1)\n",
            "Requirement already satisfied: tensorboard-plugin-wit>=1.6.0 in /usr/local/lib/python3.7/dist-packages (from tensorboard->ColBERT@ git+https://github.com/cmacdonald/ColBERT.git@v0.2#egg=ColBERT->pyterrier-colbert==0.0.1) (1.8.0)\n",
            "Requirement already satisfied: markdown>=2.6.8 in /usr/local/lib/python3.7/dist-packages (from tensorboard->ColBERT@ git+https://github.com/cmacdonald/ColBERT.git@v0.2#egg=ColBERT->pyterrier-colbert==0.0.1) (3.3.6)\n",
            "Requirement already satisfied: grpcio>=1.24.3 in /usr/local/lib/python3.7/dist-packages (from tensorboard->ColBERT@ git+https://github.com/cmacdonald/ColBERT.git@v0.2#egg=ColBERT->pyterrier-colbert==0.0.1) (1.42.0)\n",
            "Requirement already satisfied: google-auth<3,>=1.6.3 in /usr/local/lib/python3.7/dist-packages (from tensorboard->ColBERT@ git+https://github.com/cmacdonald/ColBERT.git@v0.2#egg=ColBERT->pyterrier-colbert==0.0.1) (1.35.0)\n",
            "Requirement already satisfied: absl-py>=0.4 in /usr/local/lib/python3.7/dist-packages (from tensorboard->ColBERT@ git+https://github.com/cmacdonald/ColBERT.git@v0.2#egg=ColBERT->pyterrier-colbert==0.0.1) (0.12.0)\n",
            "Requirement already satisfied: google-auth-oauthlib<0.5,>=0.4.1 in /usr/local/lib/python3.7/dist-packages (from tensorboard->ColBERT@ git+https://github.com/cmacdonald/ColBERT.git@v0.2#egg=ColBERT->pyterrier-colbert==0.0.1) (0.4.6)\n",
            "Requirement already satisfied: pyasn1-modules>=0.2.1 in /usr/local/lib/python3.7/dist-packages (from google-auth<3,>=1.6.3->tensorboard->ColBERT@ git+https://github.com/cmacdonald/ColBERT.git@v0.2#egg=ColBERT->pyterrier-colbert==0.0.1) (0.2.8)\n",
            "Requirement already satisfied: rsa<5,>=3.1.4 in /usr/local/lib/python3.7/dist-packages (from google-auth<3,>=1.6.3->tensorboard->ColBERT@ git+https://github.com/cmacdonald/ColBERT.git@v0.2#egg=ColBERT->pyterrier-colbert==0.0.1) (4.8)\n",
            "Requirement already satisfied: cachetools<5.0,>=2.0.0 in /usr/local/lib/python3.7/dist-packages (from google-auth<3,>=1.6.3->tensorboard->ColBERT@ git+https://github.com/cmacdonald/ColBERT.git@v0.2#egg=ColBERT->pyterrier-colbert==0.0.1) (4.2.4)\n",
            "Requirement already satisfied: requests-oauthlib>=0.7.0 in /usr/local/lib/python3.7/dist-packages (from google-auth-oauthlib<0.5,>=0.4.1->tensorboard->ColBERT@ git+https://github.com/cmacdonald/ColBERT.git@v0.2#egg=ColBERT->pyterrier-colbert==0.0.1) (1.3.0)\n",
            "Requirement already satisfied: pyasn1<0.5.0,>=0.4.6 in /usr/local/lib/python3.7/dist-packages (from pyasn1-modules>=0.2.1->google-auth<3,>=1.6.3->tensorboard->ColBERT@ git+https://github.com/cmacdonald/ColBERT.git@v0.2#egg=ColBERT->pyterrier-colbert==0.0.1) (0.4.8)\n",
            "Requirement already satisfied: oauthlib>=3.0.0 in /usr/local/lib/python3.7/dist-packages (from requests-oauthlib>=0.7.0->google-auth-oauthlib<0.5,>=0.4.1->tensorboard->ColBERT@ git+https://github.com/cmacdonald/ColBERT.git@v0.2#egg=ColBERT->pyterrier-colbert==0.0.1) (3.1.1)\n"
          ]
        }
      ]
    },
    {
      "cell_type": "code",
      "metadata": {
        "id": "bpoJ7W3Arzys"
      },
      "source": [
        "from pyterrier_colbert.ranking import ColBERTFactory"
      ],
      "execution_count": 18,
      "outputs": []
    },
    {
      "cell_type": "markdown",
      "metadata": {
        "id": "5j0YpgN7rfro"
      },
      "source": [
        "## Updating pyterrier-ColBERT load methods to support latest version of transformers library."
      ]
    },
    {
      "cell_type": "code",
      "metadata": {
        "colab": {
          "base_uri": "https://localhost:8080/"
        },
        "id": "smIU_taMp7-a",
        "outputId": "206aa6f4-e370-4442-ee1f-291c0d57e791"
      },
      "source": [
        "!curl -s https://packagecloud.io/install/repositories/github/git-lfs/script.deb.sh | sudo bash\n",
        "!sudo apt-get install git-lfs\n",
        "!git lfs install\n",
        "!git clone https://huggingface.co/Luyu/condenser"
      ],
      "execution_count": 19,
      "outputs": [
        {
          "output_type": "stream",
          "name": "stdout",
          "text": [
            "Detected operating system as Ubuntu/bionic.\n",
            "Checking for curl...\n",
            "Detected curl...\n",
            "Checking for gpg...\n",
            "Detected gpg...\n",
            "Running apt-get update... done.\n",
            "Installing apt-transport-https... done.\n",
            "Installing /etc/apt/sources.list.d/github_git-lfs.list...done.\n",
            "Importing packagecloud gpg key... done.\n",
            "Running apt-get update... done.\n",
            "\n",
            "The repository is setup! You can now install packages.\n",
            "Reading package lists... Done\n",
            "Building dependency tree       \n",
            "Reading state information... Done\n",
            "git-lfs is already the newest version (3.0.2).\n",
            "0 upgraded, 0 newly installed, 0 to remove and 43 not upgraded.\n",
            "Git LFS initialized.\n",
            "fatal: destination path 'condenser' already exists and is not an empty directory.\n"
          ]
        }
      ]
    },
    {
      "cell_type": "code",
      "metadata": {
        "id": "_W1b_wEGrQiB"
      },
      "source": [
        "import os\n",
        "import ujson\n",
        "import torch\n",
        "import random\n",
        "\n",
        "from collections import defaultdict, OrderedDict\n",
        "\n",
        "from colbert.parameters import DEVICE\n",
        "import colbert.utils.utils\n",
        "from colbert.utils.utils import print_message\n",
        "\n",
        "\n",
        "def _load_checkpoint(path, model, optimizer=None, do_print=True):\n",
        "    if do_print:\n",
        "        print_message(\"#> Loading checkpoint\", path)\n",
        "\n",
        "    checkpoint = torch.load(path, map_location='cpu')\n",
        "\n",
        "    state_dict = checkpoint['model_state_dict']\n",
        "    new_state_dict = OrderedDict()\n",
        "    for k, v in state_dict.items():\n",
        "        name = k\n",
        "        if k[:7] == 'module.':\n",
        "            name = k[7:]\n",
        "        new_state_dict[name] = v\n",
        "\n",
        "    checkpoint['model_state_dict'] = new_state_dict\n",
        "\n",
        "    model.load_state_dict(checkpoint['model_state_dict'], strict=False)\n",
        "\n",
        "    if optimizer:\n",
        "        optimizer.load_state_dict(checkpoint['optimizer_state_dict'], strict=False)\n",
        "\n",
        "    if do_print:\n",
        "        print_message(\"#> checkpoint['epoch'] =\", checkpoint['epoch'])\n",
        "        print_message(\"#> checkpoint['batch'] =\", checkpoint['batch'])\n",
        "\n",
        "    return checkpoint\n",
        "\n",
        "colbert.utils.utils.load_checkpoint = _load_checkpoint\n",
        "colbert.utils.utils.load_checkpoint.__globals__['load_checkpoint'] = _load_checkpoint\n",
        "from colbert.modeling.colbert import ColBERT\n",
        "\n",
        "def _load_model(args, do_print=True):\n",
        "    colbert = ColBERT.from_pretrained('/content/condenser/',\n",
        "                                      query_maxlen=args.query_maxlen,\n",
        "                                      doc_maxlen=args.doc_maxlen,\n",
        "                                      dim=args.dim,\n",
        "                                      similarity_metric=args.similarity,\n",
        "                                      mask_punctuation=args.mask_punctuation)\n",
        "    colbert = colbert.to(DEVICE)\n",
        "\n",
        "    print_message(\"#> Loading model checkpoint.\", condition=do_print)\n",
        "\n",
        "    checkpoint = load_checkpoint(args.checkpoint, colbert, do_print=do_print)\n",
        "\n",
        "    colbert.eval()\n",
        "\n",
        "    return colbert, checkpoint"
      ],
      "execution_count": 20,
      "outputs": []
    },
    {
      "cell_type": "code",
      "metadata": {
        "id": "ob0BvqDYrTkE"
      },
      "source": [
        "import colbert.evaluation.load_model\n",
        "import pyterrier_colbert.ranking\n",
        "colbert.evaluation.load_model.load_model = _load_model\n",
        "pyterrier_colbert.ranking.load_model = _load_model"
      ],
      "execution_count": 21,
      "outputs": []
    },
    {
      "cell_type": "markdown",
      "metadata": {
        "id": "jTD6T45Is6co"
      },
      "source": [
        "# **Evaluation on TREC 2019**"
      ]
    },
    {
      "cell_type": "markdown",
      "metadata": {
        "id": "9prPIE-CtCT0"
      },
      "source": [
        "## **Loading model checkpoints**"
      ]
    },
    {
      "cell_type": "markdown",
      "metadata": {
        "id": "h9ShoLRWzPTd"
      },
      "source": [
        "### Baseline"
      ]
    },
    {
      "cell_type": "code",
      "metadata": {
        "colab": {
          "base_uri": "https://localhost:8080/"
        },
        "id": "I6Ao0YUFzVOy",
        "outputId": "d0026531-a26d-4286-f4fb-6bae2718cd98"
      },
      "source": [
        "colbert_checkpoint=\"/content/drive/MyDrive/colbert-baseline-50000.dnn\" \n",
        "colbert_factory = ColBERTFactory(colbert_checkpoint, None, None)\n",
        "colbert_pipeline_ann = pt.transformer.SourceTransformer(colbert_2019) >>  colbert_factory.text_scorer()\n",
        "colbert_pipeline = pt.transformer.SourceTransformer(dph_2019) >>  colbert_factory.text_scorer()"
      ],
      "execution_count": 23,
      "outputs": [
        {
          "output_type": "stream",
          "name": "stderr",
          "text": [
            "/usr/local/lib/python3.7/dist-packages/pyterrier_colbert/ranking.py:233: UserWarning: No index_root and index_name specified - no index ranking possible\n",
            "  warn(\"No index_root and index_name specified - no index ranking possible\")\n",
            "/usr/local/lib/python3.7/dist-packages/pyterrier_colbert/ranking.py:249: UserWarning: Faiss not installed. You cannot do retrieval\n",
            "  warn(\"Faiss not installed. You cannot do retrieval\")\n",
            "Some weights of the model checkpoint at /content/condenser/ were not used when initializing ColBERT: ['cls.predictions.bias', 'cls.predictions.transform.dense.weight', 'cls.predictions.transform.dense.bias', 'cls.predictions.transform.LayerNorm.weight', 'cls.predictions.transform.LayerNorm.bias', 'cls.predictions.decoder.weight', 'cls.predictions.decoder.bias', 'bert.embeddings.position_ids']\n",
            "- This IS expected if you are initializing ColBERT from the checkpoint of a model trained on another task or with another architecture (e.g. initializing a BertForSequenceClassification model from a BertForPretraining model).\n",
            "- This IS NOT expected if you are initializing ColBERT from the checkpoint of a model that you expect to be exactly identical (initializing a BertForSequenceClassification model from a BertForSequenceClassification model).\n",
            "Some weights of ColBERT were not initialized from the model checkpoint at /content/condenser/ and are newly initialized: ['bert.pooler.dense.weight', 'bert.pooler.dense.bias', 'linear.weight']\n",
            "You should probably TRAIN this model on a down-stream task to be able to use it for predictions and inference.\n"
          ]
        },
        {
          "output_type": "stream",
          "name": "stdout",
          "text": [
            "[Dec 01, 22:20:27] #> Loading model checkpoint.\n",
            "[Dec 01, 22:20:27] #> Loading checkpoint /content/drive/MyDrive/colbert-baseline-50000.dnn\n",
            "[Dec 01, 22:20:48] #> checkpoint['epoch'] = 0\n",
            "[Dec 01, 22:20:48] #> checkpoint['batch'] = 50000\n"
          ]
        }
      ]
    },
    {
      "cell_type": "markdown",
      "metadata": {
        "id": "mD84J7DmzFBk"
      },
      "source": [
        "### RD1: Additional signal during ColBERT training"
      ]
    },
    {
      "cell_type": "code",
      "metadata": {
        "colab": {
          "base_uri": "https://localhost:8080/"
        },
        "id": "SYNE6HVFzu5T",
        "outputId": "96fc11c4-2faf-4e65-cc0b-63df33c6bc9e"
      },
      "source": [
        "cls_similarity_checkpoint=\"/content/drive/MyDrive/colbert-increase-similarity.dnn\" \n",
        "cls_similarity_factory = ColBERTFactory(cls_similarity_checkpoint, None, None)\n",
        "cls_similarity_pipeline_ann = pt.transformer.SourceTransformer(colbert_2019) >>  cls_similarity_factory.text_scorer()\n",
        "cls_similarity_pipeline = pt.transformer.SourceTransformer(dph_2019) >>  cls_similarity_factory.text_scorer()"
      ],
      "execution_count": 26,
      "outputs": [
        {
          "output_type": "stream",
          "name": "stderr",
          "text": [
            "/usr/local/lib/python3.7/dist-packages/pyterrier_colbert/ranking.py:233: UserWarning: No index_root and index_name specified - no index ranking possible\n",
            "  warn(\"No index_root and index_name specified - no index ranking possible\")\n",
            "/usr/local/lib/python3.7/dist-packages/pyterrier_colbert/ranking.py:249: UserWarning: Faiss not installed. You cannot do retrieval\n",
            "  warn(\"Faiss not installed. You cannot do retrieval\")\n",
            "Some weights of the model checkpoint at /content/condenser/ were not used when initializing ColBERT: ['cls.predictions.bias', 'cls.predictions.transform.dense.weight', 'cls.predictions.transform.dense.bias', 'cls.predictions.transform.LayerNorm.weight', 'cls.predictions.transform.LayerNorm.bias', 'cls.predictions.decoder.weight', 'cls.predictions.decoder.bias', 'bert.embeddings.position_ids']\n",
            "- This IS expected if you are initializing ColBERT from the checkpoint of a model trained on another task or with another architecture (e.g. initializing a BertForSequenceClassification model from a BertForPretraining model).\n",
            "- This IS NOT expected if you are initializing ColBERT from the checkpoint of a model that you expect to be exactly identical (initializing a BertForSequenceClassification model from a BertForSequenceClassification model).\n",
            "Some weights of ColBERT were not initialized from the model checkpoint at /content/condenser/ and are newly initialized: ['bert.pooler.dense.weight', 'bert.pooler.dense.bias', 'linear.weight']\n",
            "You should probably TRAIN this model on a down-stream task to be able to use it for predictions and inference.\n"
          ]
        },
        {
          "output_type": "stream",
          "name": "stdout",
          "text": [
            "[Dec 01, 22:25:07] #> Loading model checkpoint.\n",
            "[Dec 01, 22:25:07] #> Loading checkpoint /content/drive/MyDrive/colbert-increase-similarity.dnn\n",
            "[Dec 01, 22:25:29] #> checkpoint['epoch'] = 0\n",
            "[Dec 01, 22:25:29] #> checkpoint['batch'] = 50000\n"
          ]
        }
      ]
    },
    {
      "cell_type": "code",
      "metadata": {
        "colab": {
          "base_uri": "https://localhost:8080/"
        },
        "id": "dlTaGsfvzvTw",
        "outputId": "744b189e-9171-402b-9e24-02595c7c1936"
      },
      "source": [
        "token_overlap_checkpoint=\"/content/drive/MyDrive/colbert-token-overlap-50000.dnn\" \n",
        "token_overlap_factory = ColBERTFactory(token_overlap_checkpoint, None, None)\n",
        "token_overlap_pipeline_ann = pt.transformer.SourceTransformer(colbert_2019) >>  token_overlap_factory.text_scorer()\n",
        "token_overlap_pipeline = pt.transformer.SourceTransformer(dph_2019) >>  token_overlap_factory.text_scorer()"
      ],
      "execution_count": 27,
      "outputs": [
        {
          "output_type": "stream",
          "name": "stderr",
          "text": [
            "/usr/local/lib/python3.7/dist-packages/pyterrier_colbert/ranking.py:233: UserWarning: No index_root and index_name specified - no index ranking possible\n",
            "  warn(\"No index_root and index_name specified - no index ranking possible\")\n",
            "/usr/local/lib/python3.7/dist-packages/pyterrier_colbert/ranking.py:249: UserWarning: Faiss not installed. You cannot do retrieval\n",
            "  warn(\"Faiss not installed. You cannot do retrieval\")\n",
            "Some weights of the model checkpoint at /content/condenser/ were not used when initializing ColBERT: ['cls.predictions.bias', 'cls.predictions.transform.dense.weight', 'cls.predictions.transform.dense.bias', 'cls.predictions.transform.LayerNorm.weight', 'cls.predictions.transform.LayerNorm.bias', 'cls.predictions.decoder.weight', 'cls.predictions.decoder.bias', 'bert.embeddings.position_ids']\n",
            "- This IS expected if you are initializing ColBERT from the checkpoint of a model trained on another task or with another architecture (e.g. initializing a BertForSequenceClassification model from a BertForPretraining model).\n",
            "- This IS NOT expected if you are initializing ColBERT from the checkpoint of a model that you expect to be exactly identical (initializing a BertForSequenceClassification model from a BertForSequenceClassification model).\n",
            "Some weights of ColBERT were not initialized from the model checkpoint at /content/condenser/ and are newly initialized: ['bert.pooler.dense.weight', 'bert.pooler.dense.bias', 'linear.weight']\n",
            "You should probably TRAIN this model on a down-stream task to be able to use it for predictions and inference.\n"
          ]
        },
        {
          "output_type": "stream",
          "name": "stdout",
          "text": [
            "[Dec 01, 22:25:33] #> Loading model checkpoint.\n",
            "[Dec 01, 22:25:33] #> Loading checkpoint /content/drive/MyDrive/colbert-token-overlap-50000.dnn\n",
            "[Dec 01, 22:25:54] #> checkpoint['epoch'] = 0\n",
            "[Dec 01, 22:25:54] #> checkpoint['batch'] = 50000\n"
          ]
        }
      ]
    },
    {
      "cell_type": "markdown",
      "metadata": {
        "id": "yCqsXOdIy3sM"
      },
      "source": [
        "### RD2: Changing Underlying Pre-trained Model "
      ]
    },
    {
      "cell_type": "code",
      "metadata": {
        "colab": {
          "base_uri": "https://localhost:8080/"
        },
        "id": "Gz4I5XfCy2hj",
        "outputId": "6b3bbdad-ddc6-470b-8d69-6e0fffeecd75"
      },
      "source": [
        "coltacl_checkpoint=\"/content/drive/MyDrive/colTaCL-50000.dnn\" \n",
        "coltacl_factory = ColBERTFactory(coltacl_checkpoint, None, None)\n",
        "coltacl_pipeline_ann = pt.transformer.SourceTransformer(colbert_2019) >>  coltacl_factory.text_scorer()\n",
        "coltacl_pipeline = pt.transformer.SourceTransformer(dph_2019) >>  coltacl_factory.text_scorer()"
      ],
      "execution_count": 28,
      "outputs": [
        {
          "output_type": "stream",
          "name": "stderr",
          "text": [
            "/usr/local/lib/python3.7/dist-packages/pyterrier_colbert/ranking.py:233: UserWarning: No index_root and index_name specified - no index ranking possible\n",
            "  warn(\"No index_root and index_name specified - no index ranking possible\")\n",
            "/usr/local/lib/python3.7/dist-packages/pyterrier_colbert/ranking.py:249: UserWarning: Faiss not installed. You cannot do retrieval\n",
            "  warn(\"Faiss not installed. You cannot do retrieval\")\n",
            "Some weights of the model checkpoint at /content/condenser/ were not used when initializing ColBERT: ['cls.predictions.bias', 'cls.predictions.transform.dense.weight', 'cls.predictions.transform.dense.bias', 'cls.predictions.transform.LayerNorm.weight', 'cls.predictions.transform.LayerNorm.bias', 'cls.predictions.decoder.weight', 'cls.predictions.decoder.bias', 'bert.embeddings.position_ids']\n",
            "- This IS expected if you are initializing ColBERT from the checkpoint of a model trained on another task or with another architecture (e.g. initializing a BertForSequenceClassification model from a BertForPretraining model).\n",
            "- This IS NOT expected if you are initializing ColBERT from the checkpoint of a model that you expect to be exactly identical (initializing a BertForSequenceClassification model from a BertForSequenceClassification model).\n",
            "Some weights of ColBERT were not initialized from the model checkpoint at /content/condenser/ and are newly initialized: ['bert.pooler.dense.weight', 'bert.pooler.dense.bias', 'linear.weight']\n",
            "You should probably TRAIN this model on a down-stream task to be able to use it for predictions and inference.\n"
          ]
        },
        {
          "output_type": "stream",
          "name": "stdout",
          "text": [
            "[Dec 01, 22:25:58] #> Loading model checkpoint.\n",
            "[Dec 01, 22:25:58] #> Loading checkpoint /content/drive/MyDrive/colTaCL-50000.dnn\n",
            "[Dec 01, 22:26:31] #> checkpoint['epoch'] = 0\n",
            "[Dec 01, 22:26:31] #> checkpoint['batch'] = 50000\n"
          ]
        }
      ]
    },
    {
      "cell_type": "code",
      "metadata": {
        "colab": {
          "base_uri": "https://localhost:8080/"
        },
        "id": "V4WawKGDrZKc",
        "outputId": "31b40293-8373-4f37-bc1d-a6a0da46fe5f"
      },
      "source": [
        "colCondenser_checkpoint=\"/content/drive/MyDrive/colCondenser-50000.dnn\" \n",
        "colCondenser_factory = ColBERTFactory(colCondenser_checkpoint, None, None)\n",
        "colCondenser_pipeline_ann = pt.transformer.SourceTransformer(colbert_2019) >>  colCondenser_factory.text_scorer()\n",
        "colCondenser_pipeline = pt.transformer.SourceTransformer(dph_2019) >>  colCondenser_factory.text_scorer()"
      ],
      "execution_count": 29,
      "outputs": [
        {
          "output_type": "stream",
          "name": "stderr",
          "text": [
            "/usr/local/lib/python3.7/dist-packages/pyterrier_colbert/ranking.py:233: UserWarning: No index_root and index_name specified - no index ranking possible\n",
            "  warn(\"No index_root and index_name specified - no index ranking possible\")\n",
            "/usr/local/lib/python3.7/dist-packages/pyterrier_colbert/ranking.py:249: UserWarning: Faiss not installed. You cannot do retrieval\n",
            "  warn(\"Faiss not installed. You cannot do retrieval\")\n",
            "Some weights of the model checkpoint at /content/condenser/ were not used when initializing ColBERT: ['cls.predictions.bias', 'cls.predictions.transform.dense.weight', 'cls.predictions.transform.dense.bias', 'cls.predictions.transform.LayerNorm.weight', 'cls.predictions.transform.LayerNorm.bias', 'cls.predictions.decoder.weight', 'cls.predictions.decoder.bias', 'bert.embeddings.position_ids']\n",
            "- This IS expected if you are initializing ColBERT from the checkpoint of a model trained on another task or with another architecture (e.g. initializing a BertForSequenceClassification model from a BertForPretraining model).\n",
            "- This IS NOT expected if you are initializing ColBERT from the checkpoint of a model that you expect to be exactly identical (initializing a BertForSequenceClassification model from a BertForSequenceClassification model).\n",
            "Some weights of ColBERT were not initialized from the model checkpoint at /content/condenser/ and are newly initialized: ['bert.pooler.dense.weight', 'bert.pooler.dense.bias', 'linear.weight']\n",
            "You should probably TRAIN this model on a down-stream task to be able to use it for predictions and inference.\n"
          ]
        },
        {
          "output_type": "stream",
          "name": "stdout",
          "text": [
            "[Dec 01, 22:26:35] #> Loading model checkpoint.\n",
            "[Dec 01, 22:26:35] #> Loading checkpoint /content/drive/MyDrive/colCondenser-50000.dnn\n",
            "[Dec 01, 22:27:10] #> checkpoint['epoch'] = 0\n",
            "[Dec 01, 22:27:10] #> checkpoint['batch'] = 50000\n"
          ]
        }
      ]
    },
    {
      "cell_type": "markdown",
      "metadata": {
        "id": "lrxZUoNzzH-d"
      },
      "source": [
        "### RD3: Multi-Task Learning (MTL)   "
      ]
    },
    {
      "cell_type": "code",
      "metadata": {
        "colab": {
          "base_uri": "https://localhost:8080/"
        },
        "id": "ad5i2Kk3_3p4",
        "outputId": "84760fe9-a79d-45d6-ede9-fb91a023f1a2"
      },
      "source": [
        "mtl_checkpoint=\"/content/drive/MyDrive/mtl_v2_cls+tok_losses-50000.dnn\" \n",
        "mtl_factory = ColBERTFactory(mtl_checkpoint, None, None)\n",
        "mtl_pipeline_ann = pt.transformer.SourceTransformer(colbert_2019) >>  mtl_factory.text_scorer()\n",
        "mtl_pipeline = pt.transformer.SourceTransformer(dph_2019) >>  mtl_factory.text_scorer()"
      ],
      "execution_count": 30,
      "outputs": [
        {
          "output_type": "stream",
          "name": "stderr",
          "text": [
            "/usr/local/lib/python3.7/dist-packages/pyterrier_colbert/ranking.py:233: UserWarning: No index_root and index_name specified - no index ranking possible\n",
            "  warn(\"No index_root and index_name specified - no index ranking possible\")\n",
            "/usr/local/lib/python3.7/dist-packages/pyterrier_colbert/ranking.py:249: UserWarning: Faiss not installed. You cannot do retrieval\n",
            "  warn(\"Faiss not installed. You cannot do retrieval\")\n",
            "Some weights of the model checkpoint at /content/condenser/ were not used when initializing ColBERT: ['cls.predictions.bias', 'cls.predictions.transform.dense.weight', 'cls.predictions.transform.dense.bias', 'cls.predictions.transform.LayerNorm.weight', 'cls.predictions.transform.LayerNorm.bias', 'cls.predictions.decoder.weight', 'cls.predictions.decoder.bias', 'bert.embeddings.position_ids']\n",
            "- This IS expected if you are initializing ColBERT from the checkpoint of a model trained on another task or with another architecture (e.g. initializing a BertForSequenceClassification model from a BertForPretraining model).\n",
            "- This IS NOT expected if you are initializing ColBERT from the checkpoint of a model that you expect to be exactly identical (initializing a BertForSequenceClassification model from a BertForSequenceClassification model).\n",
            "Some weights of ColBERT were not initialized from the model checkpoint at /content/condenser/ and are newly initialized: ['bert.pooler.dense.weight', 'bert.pooler.dense.bias', 'linear.weight']\n",
            "You should probably TRAIN this model on a down-stream task to be able to use it for predictions and inference.\n"
          ]
        },
        {
          "output_type": "stream",
          "name": "stdout",
          "text": [
            "[Dec 01, 22:27:14] #> Loading model checkpoint.\n",
            "[Dec 01, 22:27:14] #> Loading checkpoint /content/drive/MyDrive/mtl_v2_cls+tok_losses-50000.dnn\n",
            "[Dec 01, 22:27:47] #> checkpoint['epoch'] = 0\n",
            "[Dec 01, 22:27:47] #> checkpoint['batch'] = 50000\n"
          ]
        }
      ]
    },
    {
      "cell_type": "markdown",
      "metadata": {
        "id": "GPGa3hqZAhUY"
      },
      "source": [
        "## **Experiment**"
      ]
    },
    {
      "cell_type": "markdown",
      "metadata": {
        "id": "CiLRcNzaKJpF"
      },
      "source": [
        "### DPH(Sparse Retrieval) Re-ranking"
      ]
    },
    {
      "cell_type": "code",
      "metadata": {
        "colab": {
          "base_uri": "https://localhost:8080/",
          "height": 237
        },
        "id": "6wqQV6L5Ak-O",
        "outputId": "9f3bdb65-9b04-4f12-b5e6-d8057f364821"
      },
      "source": [
        "pt.Experiment(\n",
        "    [colbert_pipeline, cls_similarity_pipeline, token_overlap_pipeline, colCondenser_pipeline, coltacl_pipeline, mtl_pipeline],\n",
        "    pt.get_dataset('msmarco_passage').get_topics('test-2019'),\n",
        "    pt.get_dataset('msmarco_passage').get_qrels('test-2019'),\n",
        "    filter_by_qrels=True,\n",
        "    names=['DPH >> ColBERT', 'DPH >> ColBERT-increase-cls-similarity', 'DPH >> ColBERT-add-token-overlap', 'DPH >> ColCondenser', 'DPH >> ColTaCL', 'DPH >> ColBERT-mtl-objective'],\n",
        "    eval_metrics= [nDCG@10, AP(rel=2)@100, RR(rel=2)@10]\n",
        ")"
      ],
      "execution_count": 25,
      "outputs": [
        {
          "output_type": "execute_result",
          "data": {
            "text/html": [
              "<div>\n",
              "<style scoped>\n",
              "    .dataframe tbody tr th:only-of-type {\n",
              "        vertical-align: middle;\n",
              "    }\n",
              "\n",
              "    .dataframe tbody tr th {\n",
              "        vertical-align: top;\n",
              "    }\n",
              "\n",
              "    .dataframe thead th {\n",
              "        text-align: right;\n",
              "    }\n",
              "</style>\n",
              "<table border=\"1\" class=\"dataframe\">\n",
              "  <thead>\n",
              "    <tr style=\"text-align: right;\">\n",
              "      <th></th>\n",
              "      <th>name</th>\n",
              "      <th>nDCG@10</th>\n",
              "      <th>AP(rel=2)@100</th>\n",
              "      <th>RR(rel=2)@10</th>\n",
              "    </tr>\n",
              "  </thead>\n",
              "  <tbody>\n",
              "    <tr>\n",
              "      <th>0</th>\n",
              "      <td>DPH &gt;&gt; ColBERT</td>\n",
              "      <td>0.655238</td>\n",
              "      <td>0.337195</td>\n",
              "      <td>0.834884</td>\n",
              "    </tr>\n",
              "    <tr>\n",
              "      <th>1</th>\n",
              "      <td>DPH &gt;&gt; ColBERT-increase-cls-similarity</td>\n",
              "      <td>0.669187</td>\n",
              "      <td>0.340263</td>\n",
              "      <td>0.865725</td>\n",
              "    </tr>\n",
              "    <tr>\n",
              "      <th>2</th>\n",
              "      <td>DPH &gt;&gt; ColBERT-add-token-overlap</td>\n",
              "      <td>0.666822</td>\n",
              "      <td>0.340682</td>\n",
              "      <td>0.810299</td>\n",
              "    </tr>\n",
              "    <tr>\n",
              "      <th>3</th>\n",
              "      <td>DPH &gt;&gt; ColCondenser</td>\n",
              "      <td>0.662346</td>\n",
              "      <td>0.345593</td>\n",
              "      <td>0.824612</td>\n",
              "    </tr>\n",
              "    <tr>\n",
              "      <th>4</th>\n",
              "      <td>DPH &gt;&gt; ColTaCL</td>\n",
              "      <td>0.660369</td>\n",
              "      <td>0.334005</td>\n",
              "      <td>0.851550</td>\n",
              "    </tr>\n",
              "    <tr>\n",
              "      <th>5</th>\n",
              "      <td>DPH &gt;&gt; ColBERT-mtl-objective</td>\n",
              "      <td>0.640291</td>\n",
              "      <td>0.335387</td>\n",
              "      <td>0.868605</td>\n",
              "    </tr>\n",
              "  </tbody>\n",
              "</table>\n",
              "</div>"
            ],
            "text/plain": [
              "                                     name   nDCG@10  AP(rel=2)@100  \\\n",
              "0                          DPH >> ColBERT  0.655238       0.337195   \n",
              "1  DPH >> ColBERT-increase-cls-similarity  0.669187       0.340263   \n",
              "2        DPH >> ColBERT-add-token-overlap  0.666822       0.340682   \n",
              "3                     DPH >> ColCondenser  0.662346       0.345593   \n",
              "4                          DPH >> ColTaCL  0.660369       0.334005   \n",
              "5            DPH >> ColBERT-mtl-objective  0.640291       0.335387   \n",
              "\n",
              "   RR(rel=2)@10  \n",
              "0      0.834884  \n",
              "1      0.865725  \n",
              "2      0.810299  \n",
              "3      0.824612  \n",
              "4      0.851550  \n",
              "5      0.868605  "
            ]
          },
          "metadata": {},
          "execution_count": 25
        }
      ]
    },
    {
      "cell_type": "markdown",
      "metadata": {
        "id": "NGJtA6c1KT2C"
      },
      "source": [
        "### ColBERT(Dense Retrieval) Re-ranking"
      ]
    },
    {
      "cell_type": "code",
      "metadata": {
        "colab": {
          "base_uri": "https://localhost:8080/",
          "height": 237
        },
        "id": "w0cca_e8BjfD",
        "outputId": "af427391-f3bd-4e7f-8701-fd337475ebde"
      },
      "source": [
        "pt.Experiment(\n",
        "    [colbert_pipeline_ann, cls_similarity_pipeline_ann, token_overlap_pipeline_ann, colCondenser_pipeline_ann, coltacl_pipeline_ann, mtl_pipeline_ann],\n",
        "    pt.get_dataset('msmarco_passage').get_topics('test-2019'),\n",
        "    pt.get_dataset('msmarco_passage').get_qrels('test-2019'),\n",
        "    filter_by_qrels=True,\n",
        "    names=['ANN-ColBERT >> ColBERT', 'ANN-ColBERT >> ColBERT-increase-cls-similarity', 'ANN-ColBERT >> ColBERT-add-token-overlap', 'ANN-ColBERT >> ColCondenser', 'ANN-ColBERT >> ColTaCL', 'ANN-ColBERT >> ColBERT-mtl-objective'],\n",
        "    eval_metrics= [nDCG@10, AP(rel=2)@100, RR(rel=2)@10]\n",
        ")"
      ],
      "execution_count": 26,
      "outputs": [
        {
          "output_type": "execute_result",
          "data": {
            "text/html": [
              "<div>\n",
              "<style scoped>\n",
              "    .dataframe tbody tr th:only-of-type {\n",
              "        vertical-align: middle;\n",
              "    }\n",
              "\n",
              "    .dataframe tbody tr th {\n",
              "        vertical-align: top;\n",
              "    }\n",
              "\n",
              "    .dataframe thead th {\n",
              "        text-align: right;\n",
              "    }\n",
              "</style>\n",
              "<table border=\"1\" class=\"dataframe\">\n",
              "  <thead>\n",
              "    <tr style=\"text-align: right;\">\n",
              "      <th></th>\n",
              "      <th>name</th>\n",
              "      <th>nDCG@10</th>\n",
              "      <th>AP(rel=2)@100</th>\n",
              "      <th>RR(rel=2)@10</th>\n",
              "    </tr>\n",
              "  </thead>\n",
              "  <tbody>\n",
              "    <tr>\n",
              "      <th>0</th>\n",
              "      <td>ANN-ColBERT &gt;&gt; ColBERT</td>\n",
              "      <td>0.691909</td>\n",
              "      <td>0.391189</td>\n",
              "      <td>0.858527</td>\n",
              "    </tr>\n",
              "    <tr>\n",
              "      <th>1</th>\n",
              "      <td>ANN-ColBERT &gt;&gt; ColBERT-increase-cls-similarity</td>\n",
              "      <td>0.705811</td>\n",
              "      <td>0.400619</td>\n",
              "      <td>0.889535</td>\n",
              "    </tr>\n",
              "    <tr>\n",
              "      <th>2</th>\n",
              "      <td>ANN-ColBERT &gt;&gt; ColBERT-add-token-overlap</td>\n",
              "      <td>0.671373</td>\n",
              "      <td>0.383359</td>\n",
              "      <td>0.825581</td>\n",
              "    </tr>\n",
              "    <tr>\n",
              "      <th>3</th>\n",
              "      <td>ANN-ColBERT &gt;&gt; ColCondenser</td>\n",
              "      <td>0.680013</td>\n",
              "      <td>0.397421</td>\n",
              "      <td>0.837209</td>\n",
              "    </tr>\n",
              "    <tr>\n",
              "      <th>4</th>\n",
              "      <td>ANN-ColBERT &gt;&gt; ColTaCL</td>\n",
              "      <td>0.683721</td>\n",
              "      <td>0.379544</td>\n",
              "      <td>0.854651</td>\n",
              "    </tr>\n",
              "    <tr>\n",
              "      <th>5</th>\n",
              "      <td>ANN-ColBERT &gt;&gt; ColBERT-mtl-objective</td>\n",
              "      <td>0.640436</td>\n",
              "      <td>0.354623</td>\n",
              "      <td>0.862403</td>\n",
              "    </tr>\n",
              "  </tbody>\n",
              "</table>\n",
              "</div>"
            ],
            "text/plain": [
              "                                             name   nDCG@10  AP(rel=2)@100  \\\n",
              "0                          ANN-ColBERT >> ColBERT  0.691909       0.391189   \n",
              "1  ANN-ColBERT >> ColBERT-increase-cls-similarity  0.705811       0.400619   \n",
              "2        ANN-ColBERT >> ColBERT-add-token-overlap  0.671373       0.383359   \n",
              "3                     ANN-ColBERT >> ColCondenser  0.680013       0.397421   \n",
              "4                          ANN-ColBERT >> ColTaCL  0.683721       0.379544   \n",
              "5            ANN-ColBERT >> ColBERT-mtl-objective  0.640436       0.354623   \n",
              "\n",
              "   RR(rel=2)@10  \n",
              "0      0.858527  \n",
              "1      0.889535  \n",
              "2      0.825581  \n",
              "3      0.837209  \n",
              "4      0.854651  \n",
              "5      0.862403  "
            ]
          },
          "metadata": {},
          "execution_count": 26
        }
      ]
    },
    {
      "cell_type": "markdown",
      "metadata": {
        "id": "PtdtSweFs-s2"
      },
      "source": [
        "# **Evaluation on TREC 2020**"
      ]
    },
    {
      "cell_type": "markdown",
      "metadata": {
        "id": "YXI5-Jd4Kfkg"
      },
      "source": [
        "## **Loading model checkpoints**"
      ]
    },
    {
      "cell_type": "markdown",
      "metadata": {
        "id": "7Mvty0BKIb5c"
      },
      "source": [
        "### Baseline "
      ]
    },
    {
      "cell_type": "code",
      "metadata": {
        "id": "k-jfht70IbTd"
      },
      "source": [
        "colbert_pipeline_ann_2020 = pt.transformer.SourceTransformer(colbert_2020) >>  colbert_factory.text_scorer()\n",
        "colbert_pipeline_2020 = pt.transformer.SourceTransformer(dph_2020) >>  colbert_factory.text_scorer()"
      ],
      "execution_count": 24,
      "outputs": []
    },
    {
      "cell_type": "markdown",
      "metadata": {
        "id": "M8YtV1-XI9w7"
      },
      "source": [
        "### RD1: Additional signal during ColBERT training"
      ]
    },
    {
      "cell_type": "code",
      "metadata": {
        "id": "r2RvkUpkJMPS"
      },
      "source": [
        "cls_similarity_pipeline_ann_2020 = pt.transformer.SourceTransformer(colbert_2020) >>  cls_similarity_factory.text_scorer()\n",
        "cls_similarity_pipeline_2020 = pt.transformer.SourceTransformer(dph_2020) >>  cls_similarity_factory.text_scorer()"
      ],
      "execution_count": 32,
      "outputs": []
    },
    {
      "cell_type": "code",
      "metadata": {
        "id": "EjFVxDIKJQju"
      },
      "source": [
        "token_overlap_pipeline_ann_2020 = pt.transformer.SourceTransformer(colbert_2020) >>  token_overlap_factory.text_scorer()\n",
        "token_overlap_pipeline_2020 = pt.transformer.SourceTransformer(dph_2020) >>  token_overlap_factory.text_scorer()"
      ],
      "execution_count": 33,
      "outputs": []
    },
    {
      "cell_type": "markdown",
      "metadata": {
        "id": "As4SuGatI98w"
      },
      "source": [
        "### RD2: Changing Underlying Pre-trained Model "
      ]
    },
    {
      "cell_type": "code",
      "metadata": {
        "id": "fjol8XrmJMpp"
      },
      "source": [
        "coltacl_pipeline_ann_2020 = pt.transformer.SourceTransformer(colbert_2020) >>  coltacl_factory.text_scorer()\n",
        "coltacl_pipeline_2020 = pt.transformer.SourceTransformer(dph_2020) >>  coltacl_factory.text_scorer()"
      ],
      "execution_count": 34,
      "outputs": []
    },
    {
      "cell_type": "code",
      "metadata": {
        "id": "CDXmytbGJVKO"
      },
      "source": [
        "colCondenser_pipeline_ann_2020 = pt.transformer.SourceTransformer(colbert_2020) >>  colCondenser_factory.text_scorer()\n",
        "colCondenser_pipeline_2020 = pt.transformer.SourceTransformer(dph_2020) >>  colCondenser_factory.text_scorer()"
      ],
      "execution_count": 35,
      "outputs": []
    },
    {
      "cell_type": "markdown",
      "metadata": {
        "id": "yiBXtVzSI-EB"
      },
      "source": [
        "### RD3: Multi-Task Learning (MTL)   "
      ]
    },
    {
      "cell_type": "code",
      "metadata": {
        "id": "jQsXjiHCJNC9"
      },
      "source": [
        "mtl_pipeline_ann_2020 = pt.transformer.SourceTransformer(colbert_2020) >>  mtl_factory.text_scorer()\n",
        "mtl_pipeline_2020 = pt.transformer.SourceTransformer(dph_2020) >>  mtl_factory.text_scorer()"
      ],
      "execution_count": 36,
      "outputs": []
    },
    {
      "cell_type": "code",
      "metadata": {
        "id": "ZQveMLkWMxmw"
      },
      "source": [
        "pt.Experiment(\n",
        "    [mtl_pipeline_2020],\n",
        "    pt.get_dataset('msmarco_passage').get_topics('test-2020'),\n",
        "    pt.get_dataset('msmarco_passage').get_qrels('test-2020'),\n",
        "    filter_by_qrels=True,\n",
        "    names=['DPH >> ColBERT'],\n",
        "    eval_metrics= [nDCG@10, AP(rel=2)@100, RR(rel=2)@10]\n",
        ")"
      ],
      "execution_count": null,
      "outputs": []
    },
    {
      "cell_type": "markdown",
      "metadata": {
        "id": "v44OrE19Jbpj"
      },
      "source": [
        "## **Experiment**"
      ]
    },
    {
      "cell_type": "markdown",
      "metadata": {
        "id": "v2D5ktvsKlJk"
      },
      "source": [
        "### DPH(Sparse Retrieval) Re-ranking"
      ]
    },
    {
      "cell_type": "code",
      "metadata": {
        "colab": {
          "base_uri": "https://localhost:8080/",
          "height": 237
        },
        "id": "O0ZC7XgYJeDL",
        "outputId": "3e8dd478-a2c3-4449-f62b-5689cc3e20e8"
      },
      "source": [
        "pt.Experiment(\n",
        "    [colbert_pipeline_2020, cls_similarity_pipeline_2020, token_overlap_pipeline_2020, colCondenser_pipeline_2020, coltacl_pipeline_2020, mtl_pipeline_2020],\n",
        "    pt.get_dataset('msmarco_passage').get_topics('test-2020'),\n",
        "    pt.get_dataset('msmarco_passage').get_qrels('test-2020'),\n",
        "    filter_by_qrels=True,\n",
        "    names=['DPH >> ColBERT', 'DPH >> ColBERT-increase-cls-similarity', 'DPH >> ColBERT-add-token-overlap', 'DPH >> ColCondenser', 'DPH >> ColTaCL', 'DPH >> ColBERT-mtl-objective'],\n",
        "    eval_metrics= [nDCG@10, AP(rel=2)@100, RR(rel=2)@10]\n",
        ")"
      ],
      "execution_count": 40,
      "outputs": [
        {
          "output_type": "execute_result",
          "data": {
            "text/html": [
              "<div>\n",
              "<style scoped>\n",
              "    .dataframe tbody tr th:only-of-type {\n",
              "        vertical-align: middle;\n",
              "    }\n",
              "\n",
              "    .dataframe tbody tr th {\n",
              "        vertical-align: top;\n",
              "    }\n",
              "\n",
              "    .dataframe thead th {\n",
              "        text-align: right;\n",
              "    }\n",
              "</style>\n",
              "<table border=\"1\" class=\"dataframe\">\n",
              "  <thead>\n",
              "    <tr style=\"text-align: right;\">\n",
              "      <th></th>\n",
              "      <th>name</th>\n",
              "      <th>nDCG@10</th>\n",
              "      <th>AP(rel=2)@100</th>\n",
              "      <th>RR(rel=2)@10</th>\n",
              "    </tr>\n",
              "  </thead>\n",
              "  <tbody>\n",
              "    <tr>\n",
              "      <th>0</th>\n",
              "      <td>DPH &gt;&gt; ColBERT</td>\n",
              "      <td>0.657733</td>\n",
              "      <td>0.395494</td>\n",
              "      <td>0.835979</td>\n",
              "    </tr>\n",
              "    <tr>\n",
              "      <th>1</th>\n",
              "      <td>DPH &gt;&gt; ColBERT-increase-cls-similarity</td>\n",
              "      <td>0.668525</td>\n",
              "      <td>0.402908</td>\n",
              "      <td>0.853395</td>\n",
              "    </tr>\n",
              "    <tr>\n",
              "      <th>2</th>\n",
              "      <td>DPH &gt;&gt; ColBERT-add-token-overlap</td>\n",
              "      <td>0.655973</td>\n",
              "      <td>0.401742</td>\n",
              "      <td>0.833848</td>\n",
              "    </tr>\n",
              "    <tr>\n",
              "      <th>3</th>\n",
              "      <td>DPH &gt;&gt; ColCondenser</td>\n",
              "      <td>0.658674</td>\n",
              "      <td>0.393606</td>\n",
              "      <td>0.820216</td>\n",
              "    </tr>\n",
              "    <tr>\n",
              "      <th>4</th>\n",
              "      <td>DPH &gt;&gt; ColTaCL</td>\n",
              "      <td>0.663475</td>\n",
              "      <td>0.402527</td>\n",
              "      <td>0.822531</td>\n",
              "    </tr>\n",
              "    <tr>\n",
              "      <th>5</th>\n",
              "      <td>DPH &gt;&gt; ColBERT-mtl-objective</td>\n",
              "      <td>0.659804</td>\n",
              "      <td>0.382391</td>\n",
              "      <td>0.847737</td>\n",
              "    </tr>\n",
              "  </tbody>\n",
              "</table>\n",
              "</div>"
            ],
            "text/plain": [
              "                                     name   nDCG@10  AP(rel=2)@100  \\\n",
              "0                          DPH >> ColBERT  0.657733       0.395494   \n",
              "1  DPH >> ColBERT-increase-cls-similarity  0.668525       0.402908   \n",
              "2        DPH >> ColBERT-add-token-overlap  0.655973       0.401742   \n",
              "3                     DPH >> ColCondenser  0.658674       0.393606   \n",
              "4                          DPH >> ColTaCL  0.663475       0.402527   \n",
              "5            DPH >> ColBERT-mtl-objective  0.659804       0.382391   \n",
              "\n",
              "   RR(rel=2)@10  \n",
              "0      0.835979  \n",
              "1      0.853395  \n",
              "2      0.833848  \n",
              "3      0.820216  \n",
              "4      0.822531  \n",
              "5      0.847737  "
            ]
          },
          "metadata": {},
          "execution_count": 40
        }
      ]
    },
    {
      "cell_type": "markdown",
      "metadata": {
        "id": "B_oCakb1Knqz"
      },
      "source": [
        "### ColBERT(Dense Retrieval) Re-ranking"
      ]
    },
    {
      "cell_type": "code",
      "metadata": {
        "colab": {
          "base_uri": "https://localhost:8080/",
          "height": 237
        },
        "id": "ZPXjyQFJJf-t",
        "outputId": "fa6cc45f-8785-46a9-e564-b7e0b751dac7"
      },
      "source": [
        "pt.Experiment(\n",
        "    [colbert_pipeline_ann_2020, cls_similarity_pipeline_ann_2020, token_overlap_pipeline_ann_2020, colCondenser_pipeline_ann_2020, coltacl_pipeline_ann_2020, mtl_pipeline_ann_2020],\n",
        "    pt.get_dataset('msmarco_passage').get_topics('test-2020'),\n",
        "    pt.get_dataset('msmarco_passage').get_qrels('test-2020'),\n",
        "    filter_by_qrels=True,\n",
        "    names=['ANN-ColBERT >> ColBERT', 'ANN-ColBERT >> ColBERT-increase-cls-similarity', 'ANN-ColBERT >> ColBERT-add-token-overlap', 'ANN-ColBERT >> ColCondenser', 'ANN-ColBERT >> ColTaCL', 'ANN-ColBERT >> ColBERT-mtl-objective'],\n",
        "    eval_metrics= [nDCG@10, AP(rel=2)@100, RR(rel=2)@10]\n",
        ")"
      ],
      "execution_count": 41,
      "outputs": [
        {
          "output_type": "execute_result",
          "data": {
            "text/html": [
              "<div>\n",
              "<style scoped>\n",
              "    .dataframe tbody tr th:only-of-type {\n",
              "        vertical-align: middle;\n",
              "    }\n",
              "\n",
              "    .dataframe tbody tr th {\n",
              "        vertical-align: top;\n",
              "    }\n",
              "\n",
              "    .dataframe thead th {\n",
              "        text-align: right;\n",
              "    }\n",
              "</style>\n",
              "<table border=\"1\" class=\"dataframe\">\n",
              "  <thead>\n",
              "    <tr style=\"text-align: right;\">\n",
              "      <th></th>\n",
              "      <th>name</th>\n",
              "      <th>nDCG@10</th>\n",
              "      <th>AP(rel=2)@100</th>\n",
              "      <th>RR(rel=2)@10</th>\n",
              "    </tr>\n",
              "  </thead>\n",
              "  <tbody>\n",
              "    <tr>\n",
              "      <th>0</th>\n",
              "      <td>ANN-ColBERT &gt;&gt; ColBERT</td>\n",
              "      <td>0.693783</td>\n",
              "      <td>0.446686</td>\n",
              "      <td>0.842953</td>\n",
              "    </tr>\n",
              "    <tr>\n",
              "      <th>1</th>\n",
              "      <td>ANN-ColBERT &gt;&gt; ColBERT-increase-cls-similarity</td>\n",
              "      <td>0.702668</td>\n",
              "      <td>0.455801</td>\n",
              "      <td>0.856481</td>\n",
              "    </tr>\n",
              "    <tr>\n",
              "      <th>2</th>\n",
              "      <td>ANN-ColBERT &gt;&gt; ColBERT-add-token-overlap</td>\n",
              "      <td>0.671862</td>\n",
              "      <td>0.439425</td>\n",
              "      <td>0.803417</td>\n",
              "    </tr>\n",
              "    <tr>\n",
              "      <th>3</th>\n",
              "      <td>ANN-ColBERT &gt;&gt; ColCondenser</td>\n",
              "      <td>0.659519</td>\n",
              "      <td>0.434365</td>\n",
              "      <td>0.798148</td>\n",
              "    </tr>\n",
              "    <tr>\n",
              "      <th>4</th>\n",
              "      <td>ANN-ColBERT &gt;&gt; ColTaCL</td>\n",
              "      <td>0.669823</td>\n",
              "      <td>0.448219</td>\n",
              "      <td>0.836420</td>\n",
              "    </tr>\n",
              "    <tr>\n",
              "      <th>5</th>\n",
              "      <td>ANN-ColBERT &gt;&gt; ColBERT-mtl-objective</td>\n",
              "      <td>0.631162</td>\n",
              "      <td>0.396310</td>\n",
              "      <td>0.833848</td>\n",
              "    </tr>\n",
              "  </tbody>\n",
              "</table>\n",
              "</div>"
            ],
            "text/plain": [
              "                                             name   nDCG@10  AP(rel=2)@100  \\\n",
              "0                          ANN-ColBERT >> ColBERT  0.693783       0.446686   \n",
              "1  ANN-ColBERT >> ColBERT-increase-cls-similarity  0.702668       0.455801   \n",
              "2        ANN-ColBERT >> ColBERT-add-token-overlap  0.671862       0.439425   \n",
              "3                     ANN-ColBERT >> ColCondenser  0.659519       0.434365   \n",
              "4                          ANN-ColBERT >> ColTaCL  0.669823       0.448219   \n",
              "5            ANN-ColBERT >> ColBERT-mtl-objective  0.631162       0.396310   \n",
              "\n",
              "   RR(rel=2)@10  \n",
              "0      0.842953  \n",
              "1      0.856481  \n",
              "2      0.803417  \n",
              "3      0.798148  \n",
              "4      0.836420  \n",
              "5      0.833848  "
            ]
          },
          "metadata": {},
          "execution_count": 41
        }
      ]
    }
  ]
}