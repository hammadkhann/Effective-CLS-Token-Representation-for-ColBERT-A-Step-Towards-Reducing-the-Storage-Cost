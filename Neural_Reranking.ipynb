{
  "nbformat": 4,
  "nbformat_minor": 0,
  "metadata": {
    "colab": {
      "name": "Neural_Reranking.ipynb",
      "provenance": [],
      "toc_visible": true,
      "authorship_tag": "ABX9TyMpDx1APR3Ah+TFV1lPQpOB",
      "include_colab_link": true
    },
    "kernelspec": {
      "name": "python3",
      "display_name": "Python 3"
    },
    "language_info": {
      "name": "python"
    },
    "accelerator": "GPU",
    "widgets": {
      "application/vnd.jupyter.widget-state+json": {
        "d859c0ede3e54ebdbda4dc4a9fd4fb59": {
          "model_module": "@jupyter-widgets/controls",
          "model_name": "HBoxModel",
          "model_module_version": "1.5.0",
          "state": {
            "_view_name": "HBoxView",
            "_dom_classes": [],
            "_model_name": "HBoxModel",
            "_view_module": "@jupyter-widgets/controls",
            "_model_module_version": "1.5.0",
            "_view_count": null,
            "_view_module_version": "1.5.0",
            "box_style": "",
            "layout": "IPY_MODEL_1561d04341dc4913b27e833ffb5eb908",
            "_model_module": "@jupyter-widgets/controls",
            "children": [
              "IPY_MODEL_241e3f08cd014ca3af8732b774e1ef40",
              "IPY_MODEL_6b6e31fe37b749aca315635c8cd20178",
              "IPY_MODEL_43bcbd7b0ee44287b9e6a0c716d1c108"
            ]
          }
        },
        "1561d04341dc4913b27e833ffb5eb908": {
          "model_module": "@jupyter-widgets/base",
          "model_name": "LayoutModel",
          "model_module_version": "1.2.0",
          "state": {
            "_view_name": "LayoutView",
            "grid_template_rows": null,
            "right": null,
            "justify_content": null,
            "_view_module": "@jupyter-widgets/base",
            "overflow": null,
            "_model_module_version": "1.2.0",
            "_view_count": null,
            "flex_flow": null,
            "width": null,
            "min_width": null,
            "border": null,
            "align_items": null,
            "bottom": null,
            "_model_module": "@jupyter-widgets/base",
            "top": null,
            "grid_column": null,
            "overflow_y": null,
            "overflow_x": null,
            "grid_auto_flow": null,
            "grid_area": null,
            "grid_template_columns": null,
            "flex": null,
            "_model_name": "LayoutModel",
            "justify_items": null,
            "grid_row": null,
            "max_height": null,
            "align_content": null,
            "visibility": null,
            "align_self": null,
            "height": null,
            "min_height": null,
            "padding": null,
            "grid_auto_rows": null,
            "grid_gap": null,
            "max_width": null,
            "order": null,
            "_view_module_version": "1.2.0",
            "grid_template_areas": null,
            "object_position": null,
            "object_fit": null,
            "grid_auto_columns": null,
            "margin": null,
            "display": null,
            "left": null
          }
        },
        "241e3f08cd014ca3af8732b774e1ef40": {
          "model_module": "@jupyter-widgets/controls",
          "model_name": "HTMLModel",
          "model_module_version": "1.5.0",
          "state": {
            "_view_name": "HTMLView",
            "style": "IPY_MODEL_a1ffa14b3e9e4439b6f482982e7cc4c8",
            "_dom_classes": [],
            "description": "",
            "_model_name": "HTMLModel",
            "placeholder": "​",
            "_view_module": "@jupyter-widgets/controls",
            "_model_module_version": "1.5.0",
            "value": "data.direct.bf: 100%",
            "_view_count": null,
            "_view_module_version": "1.5.0",
            "description_tooltip": null,
            "_model_module": "@jupyter-widgets/controls",
            "layout": "IPY_MODEL_cbfd10b04367482f88d9aaab56e6d91a"
          }
        },
        "6b6e31fe37b749aca315635c8cd20178": {
          "model_module": "@jupyter-widgets/controls",
          "model_name": "FloatProgressModel",
          "model_module_version": "1.5.0",
          "state": {
            "_view_name": "ProgressView",
            "style": "IPY_MODEL_f61abc70021542479d23c0832dee065d",
            "_dom_classes": [],
            "description": "",
            "_model_name": "FloatProgressModel",
            "bar_style": "success",
            "max": 509597655,
            "_view_module": "@jupyter-widgets/controls",
            "_model_module_version": "1.5.0",
            "value": 509597655,
            "_view_count": null,
            "_view_module_version": "1.5.0",
            "orientation": "horizontal",
            "min": 0,
            "description_tooltip": null,
            "_model_module": "@jupyter-widgets/controls",
            "layout": "IPY_MODEL_fb900dd92f6b4eb8830551cb70877cb6"
          }
        },
        "43bcbd7b0ee44287b9e6a0c716d1c108": {
          "model_module": "@jupyter-widgets/controls",
          "model_name": "HTMLModel",
          "model_module_version": "1.5.0",
          "state": {
            "_view_name": "HTMLView",
            "style": "IPY_MODEL_bad4de2ff4a84c83838fc05f2f3ccb1b",
            "_dom_classes": [],
            "description": "",
            "_model_name": "HTMLModel",
            "placeholder": "​",
            "_view_module": "@jupyter-widgets/controls",
            "_model_module_version": "1.5.0",
            "value": " 486M/486M [00:21&lt;00:00, 16.6MiB/s]",
            "_view_count": null,
            "_view_module_version": "1.5.0",
            "description_tooltip": null,
            "_model_module": "@jupyter-widgets/controls",
            "layout": "IPY_MODEL_1042b3700984499da42e70888b236e9f"
          }
        },
        "a1ffa14b3e9e4439b6f482982e7cc4c8": {
          "model_module": "@jupyter-widgets/controls",
          "model_name": "DescriptionStyleModel",
          "model_module_version": "1.5.0",
          "state": {
            "_view_name": "StyleView",
            "_model_name": "DescriptionStyleModel",
            "description_width": "",
            "_view_module": "@jupyter-widgets/base",
            "_model_module_version": "1.5.0",
            "_view_count": null,
            "_view_module_version": "1.2.0",
            "_model_module": "@jupyter-widgets/controls"
          }
        },
        "cbfd10b04367482f88d9aaab56e6d91a": {
          "model_module": "@jupyter-widgets/base",
          "model_name": "LayoutModel",
          "model_module_version": "1.2.0",
          "state": {
            "_view_name": "LayoutView",
            "grid_template_rows": null,
            "right": null,
            "justify_content": null,
            "_view_module": "@jupyter-widgets/base",
            "overflow": null,
            "_model_module_version": "1.2.0",
            "_view_count": null,
            "flex_flow": null,
            "width": null,
            "min_width": null,
            "border": null,
            "align_items": null,
            "bottom": null,
            "_model_module": "@jupyter-widgets/base",
            "top": null,
            "grid_column": null,
            "overflow_y": null,
            "overflow_x": null,
            "grid_auto_flow": null,
            "grid_area": null,
            "grid_template_columns": null,
            "flex": null,
            "_model_name": "LayoutModel",
            "justify_items": null,
            "grid_row": null,
            "max_height": null,
            "align_content": null,
            "visibility": null,
            "align_self": null,
            "height": null,
            "min_height": null,
            "padding": null,
            "grid_auto_rows": null,
            "grid_gap": null,
            "max_width": null,
            "order": null,
            "_view_module_version": "1.2.0",
            "grid_template_areas": null,
            "object_position": null,
            "object_fit": null,
            "grid_auto_columns": null,
            "margin": null,
            "display": null,
            "left": null
          }
        },
        "f61abc70021542479d23c0832dee065d": {
          "model_module": "@jupyter-widgets/controls",
          "model_name": "ProgressStyleModel",
          "model_module_version": "1.5.0",
          "state": {
            "_view_name": "StyleView",
            "_model_name": "ProgressStyleModel",
            "description_width": "",
            "_view_module": "@jupyter-widgets/base",
            "_model_module_version": "1.5.0",
            "_view_count": null,
            "_view_module_version": "1.2.0",
            "bar_color": null,
            "_model_module": "@jupyter-widgets/controls"
          }
        },
        "fb900dd92f6b4eb8830551cb70877cb6": {
          "model_module": "@jupyter-widgets/base",
          "model_name": "LayoutModel",
          "model_module_version": "1.2.0",
          "state": {
            "_view_name": "LayoutView",
            "grid_template_rows": null,
            "right": null,
            "justify_content": null,
            "_view_module": "@jupyter-widgets/base",
            "overflow": null,
            "_model_module_version": "1.2.0",
            "_view_count": null,
            "flex_flow": null,
            "width": null,
            "min_width": null,
            "border": null,
            "align_items": null,
            "bottom": null,
            "_model_module": "@jupyter-widgets/base",
            "top": null,
            "grid_column": null,
            "overflow_y": null,
            "overflow_x": null,
            "grid_auto_flow": null,
            "grid_area": null,
            "grid_template_columns": null,
            "flex": null,
            "_model_name": "LayoutModel",
            "justify_items": null,
            "grid_row": null,
            "max_height": null,
            "align_content": null,
            "visibility": null,
            "align_self": null,
            "height": null,
            "min_height": null,
            "padding": null,
            "grid_auto_rows": null,
            "grid_gap": null,
            "max_width": null,
            "order": null,
            "_view_module_version": "1.2.0",
            "grid_template_areas": null,
            "object_position": null,
            "object_fit": null,
            "grid_auto_columns": null,
            "margin": null,
            "display": null,
            "left": null
          }
        },
        "bad4de2ff4a84c83838fc05f2f3ccb1b": {
          "model_module": "@jupyter-widgets/controls",
          "model_name": "DescriptionStyleModel",
          "model_module_version": "1.5.0",
          "state": {
            "_view_name": "StyleView",
            "_model_name": "DescriptionStyleModel",
            "description_width": "",
            "_view_module": "@jupyter-widgets/base",
            "_model_module_version": "1.5.0",
            "_view_count": null,
            "_view_module_version": "1.2.0",
            "_model_module": "@jupyter-widgets/controls"
          }
        },
        "1042b3700984499da42e70888b236e9f": {
          "model_module": "@jupyter-widgets/base",
          "model_name": "LayoutModel",
          "model_module_version": "1.2.0",
          "state": {
            "_view_name": "LayoutView",
            "grid_template_rows": null,
            "right": null,
            "justify_content": null,
            "_view_module": "@jupyter-widgets/base",
            "overflow": null,
            "_model_module_version": "1.2.0",
            "_view_count": null,
            "flex_flow": null,
            "width": null,
            "min_width": null,
            "border": null,
            "align_items": null,
            "bottom": null,
            "_model_module": "@jupyter-widgets/base",
            "top": null,
            "grid_column": null,
            "overflow_y": null,
            "overflow_x": null,
            "grid_auto_flow": null,
            "grid_area": null,
            "grid_template_columns": null,
            "flex": null,
            "_model_name": "LayoutModel",
            "justify_items": null,
            "grid_row": null,
            "max_height": null,
            "align_content": null,
            "visibility": null,
            "align_self": null,
            "height": null,
            "min_height": null,
            "padding": null,
            "grid_auto_rows": null,
            "grid_gap": null,
            "max_width": null,
            "order": null,
            "_view_module_version": "1.2.0",
            "grid_template_areas": null,
            "object_position": null,
            "object_fit": null,
            "grid_auto_columns": null,
            "margin": null,
            "display": null,
            "left": null
          }
        },
        "341606c84a88434caf7e8e1e7a5f1c1d": {
          "model_module": "@jupyter-widgets/controls",
          "model_name": "HBoxModel",
          "model_module_version": "1.5.0",
          "state": {
            "_view_name": "HBoxView",
            "_dom_classes": [],
            "_model_name": "HBoxModel",
            "_view_module": "@jupyter-widgets/controls",
            "_model_module_version": "1.5.0",
            "_view_count": null,
            "_view_module_version": "1.5.0",
            "box_style": "",
            "layout": "IPY_MODEL_fabc18f8341b469b9f051418285f8f1f",
            "_model_module": "@jupyter-widgets/controls",
            "children": [
              "IPY_MODEL_12d7b8a6c9d64e60a8584ba9bc24cca7",
              "IPY_MODEL_f40e3a812e4f4dd398ec6aa9b72a2a0d",
              "IPY_MODEL_6fce797c962944a8aa9cc2e235b71be2"
            ]
          }
        },
        "fabc18f8341b469b9f051418285f8f1f": {
          "model_module": "@jupyter-widgets/base",
          "model_name": "LayoutModel",
          "model_module_version": "1.2.0",
          "state": {
            "_view_name": "LayoutView",
            "grid_template_rows": null,
            "right": null,
            "justify_content": null,
            "_view_module": "@jupyter-widgets/base",
            "overflow": null,
            "_model_module_version": "1.2.0",
            "_view_count": null,
            "flex_flow": null,
            "width": null,
            "min_width": null,
            "border": null,
            "align_items": null,
            "bottom": null,
            "_model_module": "@jupyter-widgets/base",
            "top": null,
            "grid_column": null,
            "overflow_y": null,
            "overflow_x": null,
            "grid_auto_flow": null,
            "grid_area": null,
            "grid_template_columns": null,
            "flex": null,
            "_model_name": "LayoutModel",
            "justify_items": null,
            "grid_row": null,
            "max_height": null,
            "align_content": null,
            "visibility": null,
            "align_self": null,
            "height": null,
            "min_height": null,
            "padding": null,
            "grid_auto_rows": null,
            "grid_gap": null,
            "max_width": null,
            "order": null,
            "_view_module_version": "1.2.0",
            "grid_template_areas": null,
            "object_position": null,
            "object_fit": null,
            "grid_auto_columns": null,
            "margin": null,
            "display": null,
            "left": null
          }
        },
        "12d7b8a6c9d64e60a8584ba9bc24cca7": {
          "model_module": "@jupyter-widgets/controls",
          "model_name": "HTMLModel",
          "model_module_version": "1.5.0",
          "state": {
            "_view_name": "HTMLView",
            "style": "IPY_MODEL_a56b9aa9f56640268cf2aa3a365168f0",
            "_dom_classes": [],
            "description": "",
            "_model_name": "HTMLModel",
            "placeholder": "​",
            "_view_module": "@jupyter-widgets/controls",
            "_model_module_version": "1.5.0",
            "value": "data.document.fsarrayfile:  32%",
            "_view_count": null,
            "_view_module_version": "1.5.0",
            "description_tooltip": null,
            "_model_module": "@jupyter-widgets/controls",
            "layout": "IPY_MODEL_ac78d7565267481c80fd23fd1efd32cb"
          }
        },
        "f40e3a812e4f4dd398ec6aa9b72a2a0d": {
          "model_module": "@jupyter-widgets/controls",
          "model_name": "FloatProgressModel",
          "model_module_version": "1.5.0",
          "state": {
            "_view_name": "ProgressView",
            "style": "IPY_MODEL_ddb202f44c3d4ae6a44d498f75274c4a",
            "_dom_classes": [],
            "description": "",
            "_model_name": "FloatProgressModel",
            "bar_style": "",
            "max": 185678283,
            "_view_module": "@jupyter-widgets/controls",
            "_model_module_version": "1.5.0",
            "value": 60090368,
            "_view_count": null,
            "_view_module_version": "1.5.0",
            "orientation": "horizontal",
            "min": 0,
            "description_tooltip": null,
            "_model_module": "@jupyter-widgets/controls",
            "layout": "IPY_MODEL_1aa07a732fc9491c8259dd7af66a5fba"
          }
        },
        "6fce797c962944a8aa9cc2e235b71be2": {
          "model_module": "@jupyter-widgets/controls",
          "model_name": "HTMLModel",
          "model_module_version": "1.5.0",
          "state": {
            "_view_name": "HTMLView",
            "style": "IPY_MODEL_6109622d6c414984bf60e2e609d10ac6",
            "_dom_classes": [],
            "description": "",
            "_model_name": "HTMLModel",
            "placeholder": "​",
            "_view_module": "@jupyter-widgets/controls",
            "_model_module_version": "1.5.0",
            "value": " 57.3M/177M [00:03&lt;00:05, 23.8MiB/s]",
            "_view_count": null,
            "_view_module_version": "1.5.0",
            "description_tooltip": null,
            "_model_module": "@jupyter-widgets/controls",
            "layout": "IPY_MODEL_4b8af5ad525e4b07a5c6bb6efc23f91c"
          }
        },
        "a56b9aa9f56640268cf2aa3a365168f0": {
          "model_module": "@jupyter-widgets/controls",
          "model_name": "DescriptionStyleModel",
          "model_module_version": "1.5.0",
          "state": {
            "_view_name": "StyleView",
            "_model_name": "DescriptionStyleModel",
            "description_width": "",
            "_view_module": "@jupyter-widgets/base",
            "_model_module_version": "1.5.0",
            "_view_count": null,
            "_view_module_version": "1.2.0",
            "_model_module": "@jupyter-widgets/controls"
          }
        },
        "ac78d7565267481c80fd23fd1efd32cb": {
          "model_module": "@jupyter-widgets/base",
          "model_name": "LayoutModel",
          "model_module_version": "1.2.0",
          "state": {
            "_view_name": "LayoutView",
            "grid_template_rows": null,
            "right": null,
            "justify_content": null,
            "_view_module": "@jupyter-widgets/base",
            "overflow": null,
            "_model_module_version": "1.2.0",
            "_view_count": null,
            "flex_flow": null,
            "width": null,
            "min_width": null,
            "border": null,
            "align_items": null,
            "bottom": null,
            "_model_module": "@jupyter-widgets/base",
            "top": null,
            "grid_column": null,
            "overflow_y": null,
            "overflow_x": null,
            "grid_auto_flow": null,
            "grid_area": null,
            "grid_template_columns": null,
            "flex": null,
            "_model_name": "LayoutModel",
            "justify_items": null,
            "grid_row": null,
            "max_height": null,
            "align_content": null,
            "visibility": null,
            "align_self": null,
            "height": null,
            "min_height": null,
            "padding": null,
            "grid_auto_rows": null,
            "grid_gap": null,
            "max_width": null,
            "order": null,
            "_view_module_version": "1.2.0",
            "grid_template_areas": null,
            "object_position": null,
            "object_fit": null,
            "grid_auto_columns": null,
            "margin": null,
            "display": null,
            "left": null
          }
        },
        "ddb202f44c3d4ae6a44d498f75274c4a": {
          "model_module": "@jupyter-widgets/controls",
          "model_name": "ProgressStyleModel",
          "model_module_version": "1.5.0",
          "state": {
            "_view_name": "StyleView",
            "_model_name": "ProgressStyleModel",
            "description_width": "",
            "_view_module": "@jupyter-widgets/base",
            "_model_module_version": "1.5.0",
            "_view_count": null,
            "_view_module_version": "1.2.0",
            "bar_color": null,
            "_model_module": "@jupyter-widgets/controls"
          }
        },
        "1aa07a732fc9491c8259dd7af66a5fba": {
          "model_module": "@jupyter-widgets/base",
          "model_name": "LayoutModel",
          "model_module_version": "1.2.0",
          "state": {
            "_view_name": "LayoutView",
            "grid_template_rows": null,
            "right": null,
            "justify_content": null,
            "_view_module": "@jupyter-widgets/base",
            "overflow": null,
            "_model_module_version": "1.2.0",
            "_view_count": null,
            "flex_flow": null,
            "width": null,
            "min_width": null,
            "border": null,
            "align_items": null,
            "bottom": null,
            "_model_module": "@jupyter-widgets/base",
            "top": null,
            "grid_column": null,
            "overflow_y": null,
            "overflow_x": null,
            "grid_auto_flow": null,
            "grid_area": null,
            "grid_template_columns": null,
            "flex": null,
            "_model_name": "LayoutModel",
            "justify_items": null,
            "grid_row": null,
            "max_height": null,
            "align_content": null,
            "visibility": null,
            "align_self": null,
            "height": null,
            "min_height": null,
            "padding": null,
            "grid_auto_rows": null,
            "grid_gap": null,
            "max_width": null,
            "order": null,
            "_view_module_version": "1.2.0",
            "grid_template_areas": null,
            "object_position": null,
            "object_fit": null,
            "grid_auto_columns": null,
            "margin": null,
            "display": null,
            "left": null
          }
        },
        "6109622d6c414984bf60e2e609d10ac6": {
          "model_module": "@jupyter-widgets/controls",
          "model_name": "DescriptionStyleModel",
          "model_module_version": "1.5.0",
          "state": {
            "_view_name": "StyleView",
            "_model_name": "DescriptionStyleModel",
            "description_width": "",
            "_view_module": "@jupyter-widgets/base",
            "_model_module_version": "1.5.0",
            "_view_count": null,
            "_view_module_version": "1.2.0",
            "_model_module": "@jupyter-widgets/controls"
          }
        },
        "4b8af5ad525e4b07a5c6bb6efc23f91c": {
          "model_module": "@jupyter-widgets/base",
          "model_name": "LayoutModel",
          "model_module_version": "1.2.0",
          "state": {
            "_view_name": "LayoutView",
            "grid_template_rows": null,
            "right": null,
            "justify_content": null,
            "_view_module": "@jupyter-widgets/base",
            "overflow": null,
            "_model_module_version": "1.2.0",
            "_view_count": null,
            "flex_flow": null,
            "width": null,
            "min_width": null,
            "border": null,
            "align_items": null,
            "bottom": null,
            "_model_module": "@jupyter-widgets/base",
            "top": null,
            "grid_column": null,
            "overflow_y": null,
            "overflow_x": null,
            "grid_auto_flow": null,
            "grid_area": null,
            "grid_template_columns": null,
            "flex": null,
            "_model_name": "LayoutModel",
            "justify_items": null,
            "grid_row": null,
            "max_height": null,
            "align_content": null,
            "visibility": null,
            "align_self": null,
            "height": null,
            "min_height": null,
            "padding": null,
            "grid_auto_rows": null,
            "grid_gap": null,
            "max_width": null,
            "order": null,
            "_view_module_version": "1.2.0",
            "grid_template_areas": null,
            "object_position": null,
            "object_fit": null,
            "grid_auto_columns": null,
            "margin": null,
            "display": null,
            "left": null
          }
        }
      }
    }
  },
  "cells": [
    {
      "cell_type": "markdown",
      "metadata": {
        "id": "view-in-github",
        "colab_type": "text"
      },
      "source": [
        "<a href=\"https://colab.research.google.com/github/hammadkhann/Effective-Dense-Retrieval/blob/main/Neural_Reranking.ipynb\" target=\"_parent\"><img src=\"https://colab.research.google.com/assets/colab-badge.svg\" alt=\"Open In Colab\"/></a>"
      ]
    },
    {
      "cell_type": "markdown",
      "metadata": {
        "id": "Q_6677d0ji32"
      },
      "source": [
        "# **Install Pyterrier**"
      ]
    },
    {
      "cell_type": "code",
      "metadata": {
        "colab": {
          "base_uri": "https://localhost:8080/"
        },
        "id": "VVgSzHhkjZpP",
        "outputId": "c2740d34-ac37-4183-9692-4a056c9ccf81"
      },
      "source": [
        "!pip -q install python-terrier\n",
        "import pyterrier as pt\n",
        "pt.init()"
      ],
      "execution_count": 2,
      "outputs": [
        {
          "output_type": "stream",
          "name": "stdout",
          "text": [
            "\u001b[K     |████████████████████████████████| 95 kB 2.7 MB/s \n",
            "\u001b[K     |████████████████████████████████| 1.1 MB 33.3 MB/s \n",
            "\u001b[K     |████████████████████████████████| 69 kB 7.0 MB/s \n",
            "\u001b[K     |████████████████████████████████| 255 kB 43.7 MB/s \n",
            "\u001b[K     |████████████████████████████████| 72 kB 1.6 MB/s \n",
            "\u001b[K     |████████████████████████████████| 126 kB 50.9 MB/s \n",
            "\u001b[K     |████████████████████████████████| 596 kB 23.2 MB/s \n",
            "\u001b[K     |████████████████████████████████| 294 kB 52.1 MB/s \n",
            "\u001b[K     |████████████████████████████████| 1.8 MB 32.7 MB/s \n",
            "\u001b[K     |████████████████████████████████| 6.3 MB 34.2 MB/s \n",
            "\u001b[K     |████████████████████████████████| 291 kB 48.3 MB/s \n",
            "\u001b[K     |████████████████████████████████| 45 kB 3.0 MB/s \n",
            "\u001b[?25h  Building wheel for python-terrier (setup.py) ... \u001b[?25l\u001b[?25hdone\n",
            "  Building wheel for ir-measures (setup.py) ... \u001b[?25l\u001b[?25hdone\n",
            "  Building wheel for cwl-eval (setup.py) ... \u001b[?25l\u001b[?25hdone\n",
            "  Building wheel for cbor (setup.py) ... \u001b[?25l\u001b[?25hdone\n",
            "  Building wheel for warc3-wet-clueweb09 (setup.py) ... \u001b[?25l\u001b[?25hdone\n",
            "  Building wheel for chest (setup.py) ... \u001b[?25l\u001b[?25hdone\n",
            "  Building wheel for wget (setup.py) ... \u001b[?25l\u001b[?25hdone\n",
            "terrier-assemblies 5.6 jar-with-dependencies not found, downloading to /root/.pyterrier...\n",
            "Done\n",
            "terrier-python-helper 0.0.6 jar not found, downloading to /root/.pyterrier...\n",
            "Done\n",
            "PyTerrier 0.7.1 has loaded Terrier 5.6 (built by craigmacdonald on 2021-09-17 13:27)\n"
          ]
        }
      ]
    },
    {
      "cell_type": "markdown",
      "metadata": {
        "id": "9mSAzClYjuSz"
      },
      "source": [
        "## **Importing useful libraries**\n",
        "\n"
      ]
    },
    {
      "cell_type": "code",
      "metadata": {
        "id": "5EE-pS8Djrbe"
      },
      "source": [
        "import numpy as np\n",
        "import pandas as pd\n",
        "import matplotlib.pyplot as plt\n",
        "\n",
        "import pickle\n",
        "from google.colab import drive\n",
        "from pyterrier.measures import *\n",
        "\n",
        "pd.options.display.max_rows = None\n",
        "pd.options.display.max_columns = None"
      ],
      "execution_count": 3,
      "outputs": []
    },
    {
      "cell_type": "markdown",
      "metadata": {
        "id": "h2iVnU9joX4-"
      },
      "source": [
        "## **Connect Google Drive**\n"
      ]
    },
    {
      "cell_type": "code",
      "metadata": {
        "colab": {
          "base_uri": "https://localhost:8080/"
        },
        "id": "u2McjTzIoe81",
        "outputId": "70dd5d3c-4cc2-4ccb-d9f5-65f1e594e6ab"
      },
      "source": [
        "drive.mount('/content/drive')"
      ],
      "execution_count": 4,
      "outputs": [
        {
          "output_type": "stream",
          "name": "stdout",
          "text": [
            "Mounted at /content/drive\n"
          ]
        }
      ]
    },
    {
      "cell_type": "markdown",
      "metadata": {
        "id": "y_c_4dCXj9OB"
      },
      "source": [
        "# **Preparing testing dataset**"
      ]
    },
    {
      "cell_type": "markdown",
      "metadata": {
        "id": "FYjnsct8ncnP"
      },
      "source": [
        "## **DPH(Sparse Retrieval)**"
      ]
    },
    {
      "cell_type": "markdown",
      "metadata": {
        "id": "dp_7n5p-kYYB"
      },
      "source": [
        "## TREC-2019"
      ]
    },
    {
      "cell_type": "code",
      "metadata": {
        "colab": {
          "base_uri": "https://localhost:8080/",
          "height": 0,
          "referenced_widgets": [
            "d859c0ede3e54ebdbda4dc4a9fd4fb59",
            "1561d04341dc4913b27e833ffb5eb908",
            "241e3f08cd014ca3af8732b774e1ef40",
            "6b6e31fe37b749aca315635c8cd20178",
            "43bcbd7b0ee44287b9e6a0c716d1c108",
            "a1ffa14b3e9e4439b6f482982e7cc4c8",
            "cbfd10b04367482f88d9aaab56e6d91a",
            "f61abc70021542479d23c0832dee065d",
            "fb900dd92f6b4eb8830551cb70877cb6",
            "bad4de2ff4a84c83838fc05f2f3ccb1b",
            "1042b3700984499da42e70888b236e9f",
            "341606c84a88434caf7e8e1e7a5f1c1d",
            "fabc18f8341b469b9f051418285f8f1f",
            "12d7b8a6c9d64e60a8584ba9bc24cca7",
            "f40e3a812e4f4dd398ec6aa9b72a2a0d",
            "6fce797c962944a8aa9cc2e235b71be2",
            "a56b9aa9f56640268cf2aa3a365168f0",
            "ac78d7565267481c80fd23fd1efd32cb",
            "ddb202f44c3d4ae6a44d498f75274c4a",
            "1aa07a732fc9491c8259dd7af66a5fba",
            "6109622d6c414984bf60e2e609d10ac6",
            "4b8af5ad525e4b07a5c6bb6efc23f91c"
          ]
        },
        "id": "r-mOsFz5kEl8",
        "outputId": "5328d5d5-8eb1-4a75-f9f7-4849ca69126b"
      },
      "source": [
        "br = pt.BatchRetrieve.from_dataset('msmarco_passage', 'terrier_stemmed_text', num_results=100, metadata = ['docno', 'text'], verbose=True)"
      ],
      "execution_count": null,
      "outputs": [
        {
          "output_type": "stream",
          "name": "stdout",
          "text": [
            "Downloading msmarco_passage index to /root/.pyterrier/corpora/msmarco_passage/index/terrier_stemmed_text\n"
          ]
        },
        {
          "output_type": "stream",
          "name": "stderr",
          "text": [
            "/usr/local/lib/python3.7/dist-packages/pyterrier/datasets.py:273: UserWarning: Downloading index of > 2GB.\n",
            "  warn(\"Downloading index of > 2GB.\")\n"
          ]
        },
        {
          "output_type": "display_data",
          "data": {
            "application/vnd.jupyter.widget-view+json": {
              "model_id": "d859c0ede3e54ebdbda4dc4a9fd4fb59",
              "version_minor": 0,
              "version_major": 2
            },
            "text/plain": [
              "data.direct.bf:   0%|          | 0.00/486M [00:00<?, ?iB/s]"
            ]
          },
          "metadata": {}
        },
        {
          "output_type": "display_data",
          "data": {
            "application/vnd.jupyter.widget-view+json": {
              "model_id": "341606c84a88434caf7e8e1e7a5f1c1d",
              "version_minor": 0,
              "version_major": 2
            },
            "text/plain": [
              "data.document.fsarrayfile:   0%|          | 0.00/177M [00:00<?, ?iB/s]"
            ]
          },
          "metadata": {}
        }
      ]
    },
    {
      "cell_type": "code",
      "metadata": {
        "id": "xEZ1gsnvkL-S"
      },
      "source": [
        "dph_2019 = pd.DataFrame()\n",
        "topics = pt.get_dataset('msmarco_passage').get_topics('test-2019')\n",
        "topics = pt.get_dataset('msmarco_passage').get_qrels('test-2019')[[\"qid\"]].drop_duplicates().merge(topics, on=['qid'])\n",
        "for res in br.transform_gen(topics, batch_size=10):\n",
        "  dph_2019 = dph_2019.append(res)\n",
        "print(\"Number of topics: \", len(topics))"
      ],
      "execution_count": null,
      "outputs": []
    },
    {
      "cell_type": "code",
      "metadata": {
        "id": "r5vA3TFFk0xW"
      },
      "source": [
        "dph_2019.shape"
      ],
      "execution_count": null,
      "outputs": []
    },
    {
      "cell_type": "markdown",
      "metadata": {
        "id": "4qjnsknfmvix"
      },
      "source": [
        "## TREC-2020"
      ]
    },
    {
      "cell_type": "code",
      "metadata": {
        "id": "BscWAteXmrjz"
      },
      "source": [
        "dph_2020 = pd.DataFrame()\n",
        "topics = pt.get_dataset('msmarco_passage').get_topics('test-2020')\n",
        "topics = pt.get_dataset('msmarco_passage').get_qrels('test-2020')[[\"qid\"]].drop_duplicates().merge(topics, on=['qid'])\n",
        "for res in br.transform_gen(topics, batch_size=10):\n",
        "  dph_2020 = dph_2020.append(res)\n",
        "  \n",
        "print(\"Number of topics: \", len(topics))"
      ],
      "execution_count": null,
      "outputs": []
    },
    {
      "cell_type": "code",
      "metadata": {
        "id": "ajbX7PRVnMPW"
      },
      "source": [
        "dph_2020.shape"
      ],
      "execution_count": null,
      "outputs": []
    },
    {
      "cell_type": "markdown",
      "metadata": {
        "id": "j0Z8t-0UnrO2"
      },
      "source": [
        "## **ColBERT(Dense Retrieval)**"
      ]
    },
    {
      "cell_type": "markdown",
      "metadata": {
        "id": "fedgx8LPnzBZ"
      },
      "source": [
        "## TREC-2019"
      ]
    },
    {
      "cell_type": "code",
      "metadata": {
        "id": "6yyStXRyn298"
      },
      "source": [
        "index = pt.IndexFactory.of(pt.get_dataset(\"msmarco_passage\").get_index(\"terrier_stemmed_text\"))\n",
        "print(index.getCollectionStatistics())"
      ],
      "execution_count": null,
      "outputs": []
    },
    {
      "cell_type": "code",
      "metadata": {
        "id": "mjq0wZ-AoAqj"
      },
      "source": [
        "colbert_2019 = pt.io.read_results(\"/content/drive/MyDrive/E2E.2019.res\")\n",
        "# get document text for each docid\n",
        "meta = index.getMetaIndex()\n",
        "text = []\n",
        "for index, row in colbert_2019.iterrows():\n",
        "    text.append(meta.getItem('text', int(row['docno'])))\n",
        "colbert_2019['text'] = text\n",
        "\n",
        "# get query for each qid\n",
        "topics_2019 = pt.get_dataset('msmarco_passage').get_topics('test-2019')\n",
        "colbert_2019 = pd.merge(colbert_2019, topics_2019, on='qid', how='left')\n",
        "\n",
        "# filter queries on 43 topics\n",
        "colbert_2019 = colbert_2019[colbert_2019['qid'].isin(dph_2019['qid'].unique())]\n",
        "# filter data on top100 results for each 43 topics\n",
        "colbert_2019 = colbert_2019.groupby('qid').apply(lambda x : x.sort_values(by = 'score', ascending = False).head(100).reset_index(drop = True))\n",
        "# reset index\n",
        "colbert_2019.reset_index(drop=True, inplace=True)\n",
        "colbert_2019.shape"
      ],
      "execution_count": null,
      "outputs": []
    },
    {
      "cell_type": "markdown",
      "metadata": {
        "id": "0H0u38QIn1cS"
      },
      "source": [
        "## TREC-2020"
      ]
    },
    {
      "cell_type": "code",
      "metadata": {
        "id": "5A6MDGY_n_mk"
      },
      "source": [
        "colbert_2020 = pt.io.read_results(\"/content/drive/MyDrive/E2E.2020.res\")\n",
        "index = pt.IndexFactory.of(pt.get_dataset(\"msmarco_passage\").get_index(\"terrier_stemmed_text\"))\n",
        "\n",
        "# get document text for each docid\n",
        "meta = index.getMetaIndex()\n",
        "text = []\n",
        "for index, row in colbert_2020.iterrows():\n",
        "    text.append(meta.getItem('text', int(row['docno'])))\n",
        "colbert_2020['text'] = text\n",
        "\n",
        "# get query for each qid\n",
        "topics_2020 = pt.get_dataset('msmarco_passage').get_topics('test-2020')\n",
        "colbert_2020 = pd.merge(colbert_2020, topics_2020, on='qid', how='left')\n",
        "\n",
        "# filter queries on 43 topics\n",
        "colbert_2020 = colbert_2020[colbert_2020['qid'].isin(dph_2020['qid'].unique())]\n",
        "# filter data on top100 results for each 43 topics\n",
        "colbert_2020 = colbert_2020.groupby('qid').apply(lambda x : x.sort_values(by = 'score', ascending = False).head(100).reset_index(drop = True))\n",
        "# reset index\n",
        "colbert_2020.reset_index(drop=True, inplace=True)\n",
        "colbert_2020.shape"
      ],
      "execution_count": null,
      "outputs": []
    },
    {
      "cell_type": "markdown",
      "metadata": {
        "id": "zmjMaPT9pp2M"
      },
      "source": [
        "# **Install Pyterrier-ColBERT**"
      ]
    },
    {
      "cell_type": "code",
      "metadata": {
        "id": "koXMqnMXp4HL"
      },
      "source": [
        "!pip install --upgrade git+https://github.com/terrierteam/pyterrier_colbert.git"
      ],
      "execution_count": null,
      "outputs": []
    },
    {
      "cell_type": "code",
      "metadata": {
        "id": "bpoJ7W3Arzys"
      },
      "source": [
        "from pyterrier_colbert.ranking import ColBERTFactory"
      ],
      "execution_count": null,
      "outputs": []
    },
    {
      "cell_type": "markdown",
      "metadata": {
        "id": "5j0YpgN7rfro"
      },
      "source": [
        "## Updating pyterrier-ColBERT load methods to support latest version of transformers library."
      ]
    },
    {
      "cell_type": "code",
      "metadata": {
        "id": "smIU_taMp7-a"
      },
      "source": [
        "!curl -s https://packagecloud.io/install/repositories/github/git-lfs/script.deb.sh | sudo bash\n",
        "!sudo apt-get install git-lfs\n",
        "!git lfs install\n",
        "!git clone https://huggingface.co/Luyu/condenser"
      ],
      "execution_count": null,
      "outputs": []
    },
    {
      "cell_type": "code",
      "metadata": {
        "id": "_W1b_wEGrQiB"
      },
      "source": [
        "import os\n",
        "import ujson\n",
        "import torch\n",
        "import random\n",
        "\n",
        "from collections import defaultdict, OrderedDict\n",
        "\n",
        "from colbert.parameters import DEVICE\n",
        "import colbert.utils.utils\n",
        "from colbert.utils.utils import print_message\n",
        "\n",
        "\n",
        "def _load_checkpoint(path, model, optimizer=None, do_print=True):\n",
        "    if do_print:\n",
        "        print_message(\"#> Loading checkpoint\", path)\n",
        "\n",
        "    checkpoint = torch.load(path, map_location='cpu')\n",
        "\n",
        "    state_dict = checkpoint['model_state_dict']\n",
        "    new_state_dict = OrderedDict()\n",
        "    for k, v in state_dict.items():\n",
        "        name = k\n",
        "        if k[:7] == 'module.':\n",
        "            name = k[7:]\n",
        "        new_state_dict[name] = v\n",
        "\n",
        "    checkpoint['model_state_dict'] = new_state_dict\n",
        "\n",
        "    model.load_state_dict(checkpoint['model_state_dict'], strict=False)\n",
        "\n",
        "    if optimizer:\n",
        "        optimizer.load_state_dict(checkpoint['optimizer_state_dict'], strict=False)\n",
        "\n",
        "    if do_print:\n",
        "        print_message(\"#> checkpoint['epoch'] =\", checkpoint['epoch'])\n",
        "        print_message(\"#> checkpoint['batch'] =\", checkpoint['batch'])\n",
        "\n",
        "    return checkpoint\n",
        "\n",
        "colbert.utils.utils.load_checkpoint = _load_checkpoint\n",
        "colbert.utils.utils.load_checkpoint.__globals__['load_checkpoint'] = _load_checkpoint\n",
        "from colbert.modeling.colbert import ColBERT\n",
        "\n",
        "def _load_model(args, do_print=True):\n",
        "    colbert = ColBERT.from_pretrained('/content/condenser/',\n",
        "                                      query_maxlen=args.query_maxlen,\n",
        "                                      doc_maxlen=args.doc_maxlen,\n",
        "                                      dim=args.dim,\n",
        "                                      similarity_metric=args.similarity,\n",
        "                                      mask_punctuation=args.mask_punctuation)\n",
        "    colbert = colbert.to(DEVICE)\n",
        "\n",
        "    print_message(\"#> Loading model checkpoint.\", condition=do_print)\n",
        "\n",
        "    checkpoint = load_checkpoint(args.checkpoint, colbert, do_print=do_print)\n",
        "\n",
        "    colbert.eval()\n",
        "\n",
        "    return colbert, checkpoint"
      ],
      "execution_count": null,
      "outputs": []
    },
    {
      "cell_type": "code",
      "metadata": {
        "id": "ob0BvqDYrTkE"
      },
      "source": [
        "import colbert.evaluation.load_model\n",
        "import pyterrier_colbert.ranking\n",
        "colbert.evaluation.load_model.load_model = _load_model\n",
        "pyterrier_colbert.ranking.load_model = _load_model"
      ],
      "execution_count": null,
      "outputs": []
    },
    {
      "cell_type": "code",
      "metadata": {
        "id": "V4WawKGDrZKc"
      },
      "source": [
        "colCondenser_checkpoint=\"/content/drive/MyDrive/colbert_baseline-64bs-50000.dnn\" \n",
        "colCondenser_factory = ColBERTFactory(colCondenser_checkpoint, None, None)\n",
        "colCondenser_pipeline_ann = pt.transformer.SourceTransformer(trec_2019) >>  colCondenser_factory.text_scorer()\n",
        "colCondenser_pipeline = pt.transformer.SourceTransformer(df) >>  colCondenser_factory.text_scorer()"
      ],
      "execution_count": null,
      "outputs": []
    }
  ]
}