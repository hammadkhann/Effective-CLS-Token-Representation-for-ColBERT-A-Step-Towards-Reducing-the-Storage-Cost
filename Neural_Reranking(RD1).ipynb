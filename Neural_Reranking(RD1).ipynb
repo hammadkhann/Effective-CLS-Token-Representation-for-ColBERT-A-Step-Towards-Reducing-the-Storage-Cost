{
  "nbformat": 4,
  "nbformat_minor": 0,
  "metadata": {
    "colab": {
      "name": "Neural_Reranking(RD1).ipynb",
      "provenance": [],
      "collapsed_sections": [
        "Q_6677d0ji32",
        "9mSAzClYjuSz",
        "h2iVnU9joX4-",
        "y_c_4dCXj9OB",
        "dp_7n5p-kYYB",
        "4qjnsknfmvix",
        "fedgx8LPnzBZ",
        "0H0u38QIn1cS",
        "zmjMaPT9pp2M",
        "h9ShoLRWzPTd",
        "mD84J7DmzFBk",
        "yCqsXOdIy3sM",
        "lrxZUoNzzH-d",
        "PtdtSweFs-s2",
        "YXI5-Jd4Kfkg",
        "7Mvty0BKIb5c",
        "M8YtV1-XI9w7",
        "As4SuGatI98w",
        "yiBXtVzSI-EB",
        "v44OrE19Jbpj",
        "v2D5ktvsKlJk",
        "B_oCakb1Knqz"
      ],
      "toc_visible": true,
      "authorship_tag": "ABX9TyP1fz16VQ5Fyzgq0MzXfFOq",
      "include_colab_link": true
    },
    "kernelspec": {
      "name": "python3",
      "display_name": "Python 3"
    },
    "language_info": {
      "name": "python"
    },
    "accelerator": "GPU",
    "widgets": {
      "application/vnd.jupyter.widget-state+json": {
        "6fffccbd686242f9a5b0ad19758e644d": {
          "model_module": "@jupyter-widgets/controls",
          "model_name": "HBoxModel",
          "model_module_version": "1.5.0",
          "state": {
            "_view_name": "HBoxView",
            "_dom_classes": [],
            "_model_name": "HBoxModel",
            "_view_module": "@jupyter-widgets/controls",
            "_model_module_version": "1.5.0",
            "_view_count": null,
            "_view_module_version": "1.5.0",
            "box_style": "",
            "layout": "IPY_MODEL_9af8b1476aa14cc8bd87088e0abe364a",
            "_model_module": "@jupyter-widgets/controls",
            "children": [
              "IPY_MODEL_08580e50eb114526bed0998b17ecd04b",
              "IPY_MODEL_1d1ee4ae69ba4218b54c947ef5d16ce2",
              "IPY_MODEL_8f81cc65261b4de3bca9d256ffdac9e0"
            ]
          }
        },
        "9af8b1476aa14cc8bd87088e0abe364a": {
          "model_module": "@jupyter-widgets/base",
          "model_name": "LayoutModel",
          "model_module_version": "1.2.0",
          "state": {
            "_view_name": "LayoutView",
            "grid_template_rows": null,
            "right": null,
            "justify_content": null,
            "_view_module": "@jupyter-widgets/base",
            "overflow": null,
            "_model_module_version": "1.2.0",
            "_view_count": null,
            "flex_flow": null,
            "width": null,
            "min_width": null,
            "border": null,
            "align_items": null,
            "bottom": null,
            "_model_module": "@jupyter-widgets/base",
            "top": null,
            "grid_column": null,
            "overflow_y": null,
            "overflow_x": null,
            "grid_auto_flow": null,
            "grid_area": null,
            "grid_template_columns": null,
            "flex": null,
            "_model_name": "LayoutModel",
            "justify_items": null,
            "grid_row": null,
            "max_height": null,
            "align_content": null,
            "visibility": null,
            "align_self": null,
            "height": null,
            "min_height": null,
            "padding": null,
            "grid_auto_rows": null,
            "grid_gap": null,
            "max_width": null,
            "order": null,
            "_view_module_version": "1.2.0",
            "grid_template_areas": null,
            "object_position": null,
            "object_fit": null,
            "grid_auto_columns": null,
            "margin": null,
            "display": null,
            "left": null
          }
        },
        "08580e50eb114526bed0998b17ecd04b": {
          "model_module": "@jupyter-widgets/controls",
          "model_name": "HTMLModel",
          "model_module_version": "1.5.0",
          "state": {
            "_view_name": "HTMLView",
            "style": "IPY_MODEL_bfab7d1ffeae42dfbe00ca9576a602e6",
            "_dom_classes": [],
            "description": "",
            "_model_name": "HTMLModel",
            "placeholder": "​",
            "_view_module": "@jupyter-widgets/controls",
            "_model_module_version": "1.5.0",
            "value": "data.direct.bf: 100%",
            "_view_count": null,
            "_view_module_version": "1.5.0",
            "description_tooltip": null,
            "_model_module": "@jupyter-widgets/controls",
            "layout": "IPY_MODEL_a4977ae6c6ec4ab8854072e1f0d5fa69"
          }
        },
        "1d1ee4ae69ba4218b54c947ef5d16ce2": {
          "model_module": "@jupyter-widgets/controls",
          "model_name": "FloatProgressModel",
          "model_module_version": "1.5.0",
          "state": {
            "_view_name": "ProgressView",
            "style": "IPY_MODEL_6f493d43b2a7483eb0d7ac75a062a6b6",
            "_dom_classes": [],
            "description": "",
            "_model_name": "FloatProgressModel",
            "bar_style": "success",
            "max": 509597655,
            "_view_module": "@jupyter-widgets/controls",
            "_model_module_version": "1.5.0",
            "value": 509597655,
            "_view_count": null,
            "_view_module_version": "1.5.0",
            "orientation": "horizontal",
            "min": 0,
            "description_tooltip": null,
            "_model_module": "@jupyter-widgets/controls",
            "layout": "IPY_MODEL_0387e758a1aa44298cfcf00d7ff5dae6"
          }
        },
        "8f81cc65261b4de3bca9d256ffdac9e0": {
          "model_module": "@jupyter-widgets/controls",
          "model_name": "HTMLModel",
          "model_module_version": "1.5.0",
          "state": {
            "_view_name": "HTMLView",
            "style": "IPY_MODEL_17f11715cd35473cad2da7560d75bff9",
            "_dom_classes": [],
            "description": "",
            "_model_name": "HTMLModel",
            "placeholder": "​",
            "_view_module": "@jupyter-widgets/controls",
            "_model_module_version": "1.5.0",
            "value": " 486M/486M [00:48&lt;00:00, 10.0MiB/s]",
            "_view_count": null,
            "_view_module_version": "1.5.0",
            "description_tooltip": null,
            "_model_module": "@jupyter-widgets/controls",
            "layout": "IPY_MODEL_f2fe43fd856841628fa25d19401efe63"
          }
        },
        "bfab7d1ffeae42dfbe00ca9576a602e6": {
          "model_module": "@jupyter-widgets/controls",
          "model_name": "DescriptionStyleModel",
          "model_module_version": "1.5.0",
          "state": {
            "_view_name": "StyleView",
            "_model_name": "DescriptionStyleModel",
            "description_width": "",
            "_view_module": "@jupyter-widgets/base",
            "_model_module_version": "1.5.0",
            "_view_count": null,
            "_view_module_version": "1.2.0",
            "_model_module": "@jupyter-widgets/controls"
          }
        },
        "a4977ae6c6ec4ab8854072e1f0d5fa69": {
          "model_module": "@jupyter-widgets/base",
          "model_name": "LayoutModel",
          "model_module_version": "1.2.0",
          "state": {
            "_view_name": "LayoutView",
            "grid_template_rows": null,
            "right": null,
            "justify_content": null,
            "_view_module": "@jupyter-widgets/base",
            "overflow": null,
            "_model_module_version": "1.2.0",
            "_view_count": null,
            "flex_flow": null,
            "width": null,
            "min_width": null,
            "border": null,
            "align_items": null,
            "bottom": null,
            "_model_module": "@jupyter-widgets/base",
            "top": null,
            "grid_column": null,
            "overflow_y": null,
            "overflow_x": null,
            "grid_auto_flow": null,
            "grid_area": null,
            "grid_template_columns": null,
            "flex": null,
            "_model_name": "LayoutModel",
            "justify_items": null,
            "grid_row": null,
            "max_height": null,
            "align_content": null,
            "visibility": null,
            "align_self": null,
            "height": null,
            "min_height": null,
            "padding": null,
            "grid_auto_rows": null,
            "grid_gap": null,
            "max_width": null,
            "order": null,
            "_view_module_version": "1.2.0",
            "grid_template_areas": null,
            "object_position": null,
            "object_fit": null,
            "grid_auto_columns": null,
            "margin": null,
            "display": null,
            "left": null
          }
        },
        "6f493d43b2a7483eb0d7ac75a062a6b6": {
          "model_module": "@jupyter-widgets/controls",
          "model_name": "ProgressStyleModel",
          "model_module_version": "1.5.0",
          "state": {
            "_view_name": "StyleView",
            "_model_name": "ProgressStyleModel",
            "description_width": "",
            "_view_module": "@jupyter-widgets/base",
            "_model_module_version": "1.5.0",
            "_view_count": null,
            "_view_module_version": "1.2.0",
            "bar_color": null,
            "_model_module": "@jupyter-widgets/controls"
          }
        },
        "0387e758a1aa44298cfcf00d7ff5dae6": {
          "model_module": "@jupyter-widgets/base",
          "model_name": "LayoutModel",
          "model_module_version": "1.2.0",
          "state": {
            "_view_name": "LayoutView",
            "grid_template_rows": null,
            "right": null,
            "justify_content": null,
            "_view_module": "@jupyter-widgets/base",
            "overflow": null,
            "_model_module_version": "1.2.0",
            "_view_count": null,
            "flex_flow": null,
            "width": null,
            "min_width": null,
            "border": null,
            "align_items": null,
            "bottom": null,
            "_model_module": "@jupyter-widgets/base",
            "top": null,
            "grid_column": null,
            "overflow_y": null,
            "overflow_x": null,
            "grid_auto_flow": null,
            "grid_area": null,
            "grid_template_columns": null,
            "flex": null,
            "_model_name": "LayoutModel",
            "justify_items": null,
            "grid_row": null,
            "max_height": null,
            "align_content": null,
            "visibility": null,
            "align_self": null,
            "height": null,
            "min_height": null,
            "padding": null,
            "grid_auto_rows": null,
            "grid_gap": null,
            "max_width": null,
            "order": null,
            "_view_module_version": "1.2.0",
            "grid_template_areas": null,
            "object_position": null,
            "object_fit": null,
            "grid_auto_columns": null,
            "margin": null,
            "display": null,
            "left": null
          }
        },
        "17f11715cd35473cad2da7560d75bff9": {
          "model_module": "@jupyter-widgets/controls",
          "model_name": "DescriptionStyleModel",
          "model_module_version": "1.5.0",
          "state": {
            "_view_name": "StyleView",
            "_model_name": "DescriptionStyleModel",
            "description_width": "",
            "_view_module": "@jupyter-widgets/base",
            "_model_module_version": "1.5.0",
            "_view_count": null,
            "_view_module_version": "1.2.0",
            "_model_module": "@jupyter-widgets/controls"
          }
        },
        "f2fe43fd856841628fa25d19401efe63": {
          "model_module": "@jupyter-widgets/base",
          "model_name": "LayoutModel",
          "model_module_version": "1.2.0",
          "state": {
            "_view_name": "LayoutView",
            "grid_template_rows": null,
            "right": null,
            "justify_content": null,
            "_view_module": "@jupyter-widgets/base",
            "overflow": null,
            "_model_module_version": "1.2.0",
            "_view_count": null,
            "flex_flow": null,
            "width": null,
            "min_width": null,
            "border": null,
            "align_items": null,
            "bottom": null,
            "_model_module": "@jupyter-widgets/base",
            "top": null,
            "grid_column": null,
            "overflow_y": null,
            "overflow_x": null,
            "grid_auto_flow": null,
            "grid_area": null,
            "grid_template_columns": null,
            "flex": null,
            "_model_name": "LayoutModel",
            "justify_items": null,
            "grid_row": null,
            "max_height": null,
            "align_content": null,
            "visibility": null,
            "align_self": null,
            "height": null,
            "min_height": null,
            "padding": null,
            "grid_auto_rows": null,
            "grid_gap": null,
            "max_width": null,
            "order": null,
            "_view_module_version": "1.2.0",
            "grid_template_areas": null,
            "object_position": null,
            "object_fit": null,
            "grid_auto_columns": null,
            "margin": null,
            "display": null,
            "left": null
          }
        },
        "85a38cf10cb8450480f0cce0c8601cf9": {
          "model_module": "@jupyter-widgets/controls",
          "model_name": "HBoxModel",
          "model_module_version": "1.5.0",
          "state": {
            "_view_name": "HBoxView",
            "_dom_classes": [],
            "_model_name": "HBoxModel",
            "_view_module": "@jupyter-widgets/controls",
            "_model_module_version": "1.5.0",
            "_view_count": null,
            "_view_module_version": "1.5.0",
            "box_style": "",
            "layout": "IPY_MODEL_894ca2043fcc4b778f938969ab0ab537",
            "_model_module": "@jupyter-widgets/controls",
            "children": [
              "IPY_MODEL_0666046806364800be1fae08f390c9c5",
              "IPY_MODEL_da6a3a47accc4157a550a967a9c1f9d1",
              "IPY_MODEL_6685651a30004abfb951b5b40f126279"
            ]
          }
        },
        "894ca2043fcc4b778f938969ab0ab537": {
          "model_module": "@jupyter-widgets/base",
          "model_name": "LayoutModel",
          "model_module_version": "1.2.0",
          "state": {
            "_view_name": "LayoutView",
            "grid_template_rows": null,
            "right": null,
            "justify_content": null,
            "_view_module": "@jupyter-widgets/base",
            "overflow": null,
            "_model_module_version": "1.2.0",
            "_view_count": null,
            "flex_flow": null,
            "width": null,
            "min_width": null,
            "border": null,
            "align_items": null,
            "bottom": null,
            "_model_module": "@jupyter-widgets/base",
            "top": null,
            "grid_column": null,
            "overflow_y": null,
            "overflow_x": null,
            "grid_auto_flow": null,
            "grid_area": null,
            "grid_template_columns": null,
            "flex": null,
            "_model_name": "LayoutModel",
            "justify_items": null,
            "grid_row": null,
            "max_height": null,
            "align_content": null,
            "visibility": null,
            "align_self": null,
            "height": null,
            "min_height": null,
            "padding": null,
            "grid_auto_rows": null,
            "grid_gap": null,
            "max_width": null,
            "order": null,
            "_view_module_version": "1.2.0",
            "grid_template_areas": null,
            "object_position": null,
            "object_fit": null,
            "grid_auto_columns": null,
            "margin": null,
            "display": null,
            "left": null
          }
        },
        "0666046806364800be1fae08f390c9c5": {
          "model_module": "@jupyter-widgets/controls",
          "model_name": "HTMLModel",
          "model_module_version": "1.5.0",
          "state": {
            "_view_name": "HTMLView",
            "style": "IPY_MODEL_fc35e14b5a3f4a6cb53f5f1473b0f3af",
            "_dom_classes": [],
            "description": "",
            "_model_name": "HTMLModel",
            "placeholder": "​",
            "_view_module": "@jupyter-widgets/controls",
            "_model_module_version": "1.5.0",
            "value": "data.document.fsarrayfile: 100%",
            "_view_count": null,
            "_view_module_version": "1.5.0",
            "description_tooltip": null,
            "_model_module": "@jupyter-widgets/controls",
            "layout": "IPY_MODEL_40a1da0ea37f4786a72dff0cfa8fddc4"
          }
        },
        "da6a3a47accc4157a550a967a9c1f9d1": {
          "model_module": "@jupyter-widgets/controls",
          "model_name": "FloatProgressModel",
          "model_module_version": "1.5.0",
          "state": {
            "_view_name": "ProgressView",
            "style": "IPY_MODEL_fbde44a5ed8245fcb59d490f98660adb",
            "_dom_classes": [],
            "description": "",
            "_model_name": "FloatProgressModel",
            "bar_style": "success",
            "max": 185678283,
            "_view_module": "@jupyter-widgets/controls",
            "_model_module_version": "1.5.0",
            "value": 185678283,
            "_view_count": null,
            "_view_module_version": "1.5.0",
            "orientation": "horizontal",
            "min": 0,
            "description_tooltip": null,
            "_model_module": "@jupyter-widgets/controls",
            "layout": "IPY_MODEL_acfc4ca1b64348d989b6e325d07ffd79"
          }
        },
        "6685651a30004abfb951b5b40f126279": {
          "model_module": "@jupyter-widgets/controls",
          "model_name": "HTMLModel",
          "model_module_version": "1.5.0",
          "state": {
            "_view_name": "HTMLView",
            "style": "IPY_MODEL_b3a8e864296e433b8b89c9a41fdc3c39",
            "_dom_classes": [],
            "description": "",
            "_model_name": "HTMLModel",
            "placeholder": "​",
            "_view_module": "@jupyter-widgets/controls",
            "_model_module_version": "1.5.0",
            "value": " 177M/177M [00:19&lt;00:00, 10.9MiB/s]",
            "_view_count": null,
            "_view_module_version": "1.5.0",
            "description_tooltip": null,
            "_model_module": "@jupyter-widgets/controls",
            "layout": "IPY_MODEL_790cd67a386d4ec797e6d92f446c3896"
          }
        },
        "fc35e14b5a3f4a6cb53f5f1473b0f3af": {
          "model_module": "@jupyter-widgets/controls",
          "model_name": "DescriptionStyleModel",
          "model_module_version": "1.5.0",
          "state": {
            "_view_name": "StyleView",
            "_model_name": "DescriptionStyleModel",
            "description_width": "",
            "_view_module": "@jupyter-widgets/base",
            "_model_module_version": "1.5.0",
            "_view_count": null,
            "_view_module_version": "1.2.0",
            "_model_module": "@jupyter-widgets/controls"
          }
        },
        "40a1da0ea37f4786a72dff0cfa8fddc4": {
          "model_module": "@jupyter-widgets/base",
          "model_name": "LayoutModel",
          "model_module_version": "1.2.0",
          "state": {
            "_view_name": "LayoutView",
            "grid_template_rows": null,
            "right": null,
            "justify_content": null,
            "_view_module": "@jupyter-widgets/base",
            "overflow": null,
            "_model_module_version": "1.2.0",
            "_view_count": null,
            "flex_flow": null,
            "width": null,
            "min_width": null,
            "border": null,
            "align_items": null,
            "bottom": null,
            "_model_module": "@jupyter-widgets/base",
            "top": null,
            "grid_column": null,
            "overflow_y": null,
            "overflow_x": null,
            "grid_auto_flow": null,
            "grid_area": null,
            "grid_template_columns": null,
            "flex": null,
            "_model_name": "LayoutModel",
            "justify_items": null,
            "grid_row": null,
            "max_height": null,
            "align_content": null,
            "visibility": null,
            "align_self": null,
            "height": null,
            "min_height": null,
            "padding": null,
            "grid_auto_rows": null,
            "grid_gap": null,
            "max_width": null,
            "order": null,
            "_view_module_version": "1.2.0",
            "grid_template_areas": null,
            "object_position": null,
            "object_fit": null,
            "grid_auto_columns": null,
            "margin": null,
            "display": null,
            "left": null
          }
        },
        "fbde44a5ed8245fcb59d490f98660adb": {
          "model_module": "@jupyter-widgets/controls",
          "model_name": "ProgressStyleModel",
          "model_module_version": "1.5.0",
          "state": {
            "_view_name": "StyleView",
            "_model_name": "ProgressStyleModel",
            "description_width": "",
            "_view_module": "@jupyter-widgets/base",
            "_model_module_version": "1.5.0",
            "_view_count": null,
            "_view_module_version": "1.2.0",
            "bar_color": null,
            "_model_module": "@jupyter-widgets/controls"
          }
        },
        "acfc4ca1b64348d989b6e325d07ffd79": {
          "model_module": "@jupyter-widgets/base",
          "model_name": "LayoutModel",
          "model_module_version": "1.2.0",
          "state": {
            "_view_name": "LayoutView",
            "grid_template_rows": null,
            "right": null,
            "justify_content": null,
            "_view_module": "@jupyter-widgets/base",
            "overflow": null,
            "_model_module_version": "1.2.0",
            "_view_count": null,
            "flex_flow": null,
            "width": null,
            "min_width": null,
            "border": null,
            "align_items": null,
            "bottom": null,
            "_model_module": "@jupyter-widgets/base",
            "top": null,
            "grid_column": null,
            "overflow_y": null,
            "overflow_x": null,
            "grid_auto_flow": null,
            "grid_area": null,
            "grid_template_columns": null,
            "flex": null,
            "_model_name": "LayoutModel",
            "justify_items": null,
            "grid_row": null,
            "max_height": null,
            "align_content": null,
            "visibility": null,
            "align_self": null,
            "height": null,
            "min_height": null,
            "padding": null,
            "grid_auto_rows": null,
            "grid_gap": null,
            "max_width": null,
            "order": null,
            "_view_module_version": "1.2.0",
            "grid_template_areas": null,
            "object_position": null,
            "object_fit": null,
            "grid_auto_columns": null,
            "margin": null,
            "display": null,
            "left": null
          }
        },
        "b3a8e864296e433b8b89c9a41fdc3c39": {
          "model_module": "@jupyter-widgets/controls",
          "model_name": "DescriptionStyleModel",
          "model_module_version": "1.5.0",
          "state": {
            "_view_name": "StyleView",
            "_model_name": "DescriptionStyleModel",
            "description_width": "",
            "_view_module": "@jupyter-widgets/base",
            "_model_module_version": "1.5.0",
            "_view_count": null,
            "_view_module_version": "1.2.0",
            "_model_module": "@jupyter-widgets/controls"
          }
        },
        "790cd67a386d4ec797e6d92f446c3896": {
          "model_module": "@jupyter-widgets/base",
          "model_name": "LayoutModel",
          "model_module_version": "1.2.0",
          "state": {
            "_view_name": "LayoutView",
            "grid_template_rows": null,
            "right": null,
            "justify_content": null,
            "_view_module": "@jupyter-widgets/base",
            "overflow": null,
            "_model_module_version": "1.2.0",
            "_view_count": null,
            "flex_flow": null,
            "width": null,
            "min_width": null,
            "border": null,
            "align_items": null,
            "bottom": null,
            "_model_module": "@jupyter-widgets/base",
            "top": null,
            "grid_column": null,
            "overflow_y": null,
            "overflow_x": null,
            "grid_auto_flow": null,
            "grid_area": null,
            "grid_template_columns": null,
            "flex": null,
            "_model_name": "LayoutModel",
            "justify_items": null,
            "grid_row": null,
            "max_height": null,
            "align_content": null,
            "visibility": null,
            "align_self": null,
            "height": null,
            "min_height": null,
            "padding": null,
            "grid_auto_rows": null,
            "grid_gap": null,
            "max_width": null,
            "order": null,
            "_view_module_version": "1.2.0",
            "grid_template_areas": null,
            "object_position": null,
            "object_fit": null,
            "grid_auto_columns": null,
            "margin": null,
            "display": null,
            "left": null
          }
        },
        "ca2b69276abe444aa01042037fb890b3": {
          "model_module": "@jupyter-widgets/controls",
          "model_name": "HBoxModel",
          "model_module_version": "1.5.0",
          "state": {
            "_view_name": "HBoxView",
            "_dom_classes": [],
            "_model_name": "HBoxModel",
            "_view_module": "@jupyter-widgets/controls",
            "_model_module_version": "1.5.0",
            "_view_count": null,
            "_view_module_version": "1.5.0",
            "box_style": "",
            "layout": "IPY_MODEL_64d1c8044dc74fea84b153d006dd964a",
            "_model_module": "@jupyter-widgets/controls",
            "children": [
              "IPY_MODEL_54fb02e294fe4a219629c4ddbdddf0c6",
              "IPY_MODEL_8ba35481741044f88391ea92a0c497bd",
              "IPY_MODEL_cced9b6e9b4e4fd1911fe5fd6cc25ed6"
            ]
          }
        },
        "64d1c8044dc74fea84b153d006dd964a": {
          "model_module": "@jupyter-widgets/base",
          "model_name": "LayoutModel",
          "model_module_version": "1.2.0",
          "state": {
            "_view_name": "LayoutView",
            "grid_template_rows": null,
            "right": null,
            "justify_content": null,
            "_view_module": "@jupyter-widgets/base",
            "overflow": null,
            "_model_module_version": "1.2.0",
            "_view_count": null,
            "flex_flow": null,
            "width": null,
            "min_width": null,
            "border": null,
            "align_items": null,
            "bottom": null,
            "_model_module": "@jupyter-widgets/base",
            "top": null,
            "grid_column": null,
            "overflow_y": null,
            "overflow_x": null,
            "grid_auto_flow": null,
            "grid_area": null,
            "grid_template_columns": null,
            "flex": null,
            "_model_name": "LayoutModel",
            "justify_items": null,
            "grid_row": null,
            "max_height": null,
            "align_content": null,
            "visibility": null,
            "align_self": null,
            "height": null,
            "min_height": null,
            "padding": null,
            "grid_auto_rows": null,
            "grid_gap": null,
            "max_width": null,
            "order": null,
            "_view_module_version": "1.2.0",
            "grid_template_areas": null,
            "object_position": null,
            "object_fit": null,
            "grid_auto_columns": null,
            "margin": null,
            "display": null,
            "left": null
          }
        },
        "54fb02e294fe4a219629c4ddbdddf0c6": {
          "model_module": "@jupyter-widgets/controls",
          "model_name": "HTMLModel",
          "model_module_version": "1.5.0",
          "state": {
            "_view_name": "HTMLView",
            "style": "IPY_MODEL_229814c4758548a8ba1232cace077dcd",
            "_dom_classes": [],
            "description": "",
            "_model_name": "HTMLModel",
            "placeholder": "​",
            "_view_module": "@jupyter-widgets/controls",
            "_model_module_version": "1.5.0",
            "value": "data.inverted.bf:  42%",
            "_view_count": null,
            "_view_module_version": "1.5.0",
            "description_tooltip": null,
            "_model_module": "@jupyter-widgets/controls",
            "layout": "IPY_MODEL_ceea700d33514cce82ff0b15d2912488"
          }
        },
        "8ba35481741044f88391ea92a0c497bd": {
          "model_module": "@jupyter-widgets/controls",
          "model_name": "FloatProgressModel",
          "model_module_version": "1.5.0",
          "state": {
            "_view_name": "ProgressView",
            "style": "IPY_MODEL_d111a73cc137474f8908a475a45b3636",
            "_dom_classes": [],
            "description": "",
            "_model_name": "FloatProgressModel",
            "bar_style": "",
            "max": 395217401,
            "_view_module": "@jupyter-widgets/controls",
            "_model_module_version": "1.5.0",
            "value": 167478272,
            "_view_count": null,
            "_view_module_version": "1.5.0",
            "orientation": "horizontal",
            "min": 0,
            "description_tooltip": null,
            "_model_module": "@jupyter-widgets/controls",
            "layout": "IPY_MODEL_3251d6ffba4043249de71a3062209bcb"
          }
        },
        "cced9b6e9b4e4fd1911fe5fd6cc25ed6": {
          "model_module": "@jupyter-widgets/controls",
          "model_name": "HTMLModel",
          "model_module_version": "1.5.0",
          "state": {
            "_view_name": "HTMLView",
            "style": "IPY_MODEL_7ce7d2bcd35548bea485f24d0e202126",
            "_dom_classes": [],
            "description": "",
            "_model_name": "HTMLModel",
            "placeholder": "​",
            "_view_module": "@jupyter-widgets/controls",
            "_model_module_version": "1.5.0",
            "value": " 160M/377M [00:20&lt;00:18, 12.4MiB/s]",
            "_view_count": null,
            "_view_module_version": "1.5.0",
            "description_tooltip": null,
            "_model_module": "@jupyter-widgets/controls",
            "layout": "IPY_MODEL_05dabef949054d4d957f41064ac081d0"
          }
        },
        "229814c4758548a8ba1232cace077dcd": {
          "model_module": "@jupyter-widgets/controls",
          "model_name": "DescriptionStyleModel",
          "model_module_version": "1.5.0",
          "state": {
            "_view_name": "StyleView",
            "_model_name": "DescriptionStyleModel",
            "description_width": "",
            "_view_module": "@jupyter-widgets/base",
            "_model_module_version": "1.5.0",
            "_view_count": null,
            "_view_module_version": "1.2.0",
            "_model_module": "@jupyter-widgets/controls"
          }
        },
        "ceea700d33514cce82ff0b15d2912488": {
          "model_module": "@jupyter-widgets/base",
          "model_name": "LayoutModel",
          "model_module_version": "1.2.0",
          "state": {
            "_view_name": "LayoutView",
            "grid_template_rows": null,
            "right": null,
            "justify_content": null,
            "_view_module": "@jupyter-widgets/base",
            "overflow": null,
            "_model_module_version": "1.2.0",
            "_view_count": null,
            "flex_flow": null,
            "width": null,
            "min_width": null,
            "border": null,
            "align_items": null,
            "bottom": null,
            "_model_module": "@jupyter-widgets/base",
            "top": null,
            "grid_column": null,
            "overflow_y": null,
            "overflow_x": null,
            "grid_auto_flow": null,
            "grid_area": null,
            "grid_template_columns": null,
            "flex": null,
            "_model_name": "LayoutModel",
            "justify_items": null,
            "grid_row": null,
            "max_height": null,
            "align_content": null,
            "visibility": null,
            "align_self": null,
            "height": null,
            "min_height": null,
            "padding": null,
            "grid_auto_rows": null,
            "grid_gap": null,
            "max_width": null,
            "order": null,
            "_view_module_version": "1.2.0",
            "grid_template_areas": null,
            "object_position": null,
            "object_fit": null,
            "grid_auto_columns": null,
            "margin": null,
            "display": null,
            "left": null
          }
        },
        "d111a73cc137474f8908a475a45b3636": {
          "model_module": "@jupyter-widgets/controls",
          "model_name": "ProgressStyleModel",
          "model_module_version": "1.5.0",
          "state": {
            "_view_name": "StyleView",
            "_model_name": "ProgressStyleModel",
            "description_width": "",
            "_view_module": "@jupyter-widgets/base",
            "_model_module_version": "1.5.0",
            "_view_count": null,
            "_view_module_version": "1.2.0",
            "bar_color": null,
            "_model_module": "@jupyter-widgets/controls"
          }
        },
        "3251d6ffba4043249de71a3062209bcb": {
          "model_module": "@jupyter-widgets/base",
          "model_name": "LayoutModel",
          "model_module_version": "1.2.0",
          "state": {
            "_view_name": "LayoutView",
            "grid_template_rows": null,
            "right": null,
            "justify_content": null,
            "_view_module": "@jupyter-widgets/base",
            "overflow": null,
            "_model_module_version": "1.2.0",
            "_view_count": null,
            "flex_flow": null,
            "width": null,
            "min_width": null,
            "border": null,
            "align_items": null,
            "bottom": null,
            "_model_module": "@jupyter-widgets/base",
            "top": null,
            "grid_column": null,
            "overflow_y": null,
            "overflow_x": null,
            "grid_auto_flow": null,
            "grid_area": null,
            "grid_template_columns": null,
            "flex": null,
            "_model_name": "LayoutModel",
            "justify_items": null,
            "grid_row": null,
            "max_height": null,
            "align_content": null,
            "visibility": null,
            "align_self": null,
            "height": null,
            "min_height": null,
            "padding": null,
            "grid_auto_rows": null,
            "grid_gap": null,
            "max_width": null,
            "order": null,
            "_view_module_version": "1.2.0",
            "grid_template_areas": null,
            "object_position": null,
            "object_fit": null,
            "grid_auto_columns": null,
            "margin": null,
            "display": null,
            "left": null
          }
        },
        "7ce7d2bcd35548bea485f24d0e202126": {
          "model_module": "@jupyter-widgets/controls",
          "model_name": "DescriptionStyleModel",
          "model_module_version": "1.5.0",
          "state": {
            "_view_name": "StyleView",
            "_model_name": "DescriptionStyleModel",
            "description_width": "",
            "_view_module": "@jupyter-widgets/base",
            "_model_module_version": "1.5.0",
            "_view_count": null,
            "_view_module_version": "1.2.0",
            "_model_module": "@jupyter-widgets/controls"
          }
        },
        "05dabef949054d4d957f41064ac081d0": {
          "model_module": "@jupyter-widgets/base",
          "model_name": "LayoutModel",
          "model_module_version": "1.2.0",
          "state": {
            "_view_name": "LayoutView",
            "grid_template_rows": null,
            "right": null,
            "justify_content": null,
            "_view_module": "@jupyter-widgets/base",
            "overflow": null,
            "_model_module_version": "1.2.0",
            "_view_count": null,
            "flex_flow": null,
            "width": null,
            "min_width": null,
            "border": null,
            "align_items": null,
            "bottom": null,
            "_model_module": "@jupyter-widgets/base",
            "top": null,
            "grid_column": null,
            "overflow_y": null,
            "overflow_x": null,
            "grid_auto_flow": null,
            "grid_area": null,
            "grid_template_columns": null,
            "flex": null,
            "_model_name": "LayoutModel",
            "justify_items": null,
            "grid_row": null,
            "max_height": null,
            "align_content": null,
            "visibility": null,
            "align_self": null,
            "height": null,
            "min_height": null,
            "padding": null,
            "grid_auto_rows": null,
            "grid_gap": null,
            "max_width": null,
            "order": null,
            "_view_module_version": "1.2.0",
            "grid_template_areas": null,
            "object_position": null,
            "object_fit": null,
            "grid_auto_columns": null,
            "margin": null,
            "display": null,
            "left": null
          }
        }
      }
    }
  },
  "cells": [
    {
      "cell_type": "markdown",
      "metadata": {
        "id": "view-in-github",
        "colab_type": "text"
      },
      "source": [
        "<a href=\"https://colab.research.google.com/github/hammadkhann/Effective-Dense-Retrieval/blob/main/Neural_Reranking(RD1).ipynb\" target=\"_parent\"><img src=\"https://colab.research.google.com/assets/colab-badge.svg\" alt=\"Open In Colab\"/></a>"
      ]
    },
    {
      "cell_type": "markdown",
      "metadata": {
        "id": "Q_6677d0ji32"
      },
      "source": [
        "# **Pyterrier Setup**"
      ]
    },
    {
      "cell_type": "code",
      "metadata": {
        "colab": {
          "base_uri": "https://localhost:8080/"
        },
        "id": "VVgSzHhkjZpP",
        "outputId": "a9d82b4d-efcb-4768-8076-f0829143bd09"
      },
      "source": [
        "!pip -q install python-terrier\n",
        "import pyterrier as pt\n",
        "pt.init()"
      ],
      "execution_count": 1,
      "outputs": [
        {
          "output_type": "stream",
          "name": "stdout",
          "text": [
            "\u001b[K     |████████████████████████████████| 95 kB 1.7 MB/s \n",
            "\u001b[K     |████████████████████████████████| 1.1 MB 25.9 MB/s \n",
            "\u001b[K     |████████████████████████████████| 69 kB 6.9 MB/s \n",
            "\u001b[K     |████████████████████████████████| 255 kB 48.9 MB/s \n",
            "\u001b[K     |████████████████████████████████| 126 kB 40.6 MB/s \n",
            "\u001b[K     |████████████████████████████████| 294 kB 48.8 MB/s \n",
            "\u001b[K     |████████████████████████████████| 596 kB 34.5 MB/s \n",
            "\u001b[K     |████████████████████████████████| 1.8 MB 12.7 MB/s \n",
            "\u001b[K     |████████████████████████████████| 6.3 MB 37.0 MB/s \n",
            "\u001b[K     |████████████████████████████████| 72 kB 1.4 MB/s \n",
            "\u001b[K     |████████████████████████████████| 291 kB 49.6 MB/s \n",
            "\u001b[K     |████████████████████████████████| 45 kB 2.9 MB/s \n",
            "\u001b[?25h  Building wheel for python-terrier (setup.py) ... \u001b[?25l\u001b[?25hdone\n",
            "  Building wheel for ir-measures (setup.py) ... \u001b[?25l\u001b[?25hdone\n",
            "  Building wheel for cwl-eval (setup.py) ... \u001b[?25l\u001b[?25hdone\n",
            "  Building wheel for cbor (setup.py) ... \u001b[?25l\u001b[?25hdone\n",
            "  Building wheel for warc3-wet-clueweb09 (setup.py) ... \u001b[?25l\u001b[?25hdone\n",
            "  Building wheel for chest (setup.py) ... \u001b[?25l\u001b[?25hdone\n",
            "  Building wheel for wget (setup.py) ... \u001b[?25l\u001b[?25hdone\n",
            "terrier-assemblies 5.6 jar-with-dependencies not found, downloading to /root/.pyterrier...\n",
            "Done\n",
            "terrier-python-helper 0.0.6 jar not found, downloading to /root/.pyterrier...\n",
            "Done\n",
            "PyTerrier 0.7.1 has loaded Terrier 5.6 (built by craigmacdonald on 2021-09-17 13:27)\n"
          ]
        }
      ]
    },
    {
      "cell_type": "markdown",
      "metadata": {
        "id": "9mSAzClYjuSz"
      },
      "source": [
        "## **Importing useful libraries**\n",
        "\n"
      ]
    },
    {
      "cell_type": "code",
      "metadata": {
        "id": "5EE-pS8Djrbe"
      },
      "source": [
        "import numpy as np\n",
        "import pandas as pd\n",
        "import matplotlib.pyplot as plt\n",
        "\n",
        "import pickle\n",
        "from google.colab import drive\n",
        "from pyterrier.measures import *\n",
        "\n",
        "pd.options.display.max_rows = None\n",
        "pd.options.display.max_columns = None"
      ],
      "execution_count": null,
      "outputs": []
    },
    {
      "cell_type": "markdown",
      "metadata": {
        "id": "h2iVnU9joX4-"
      },
      "source": [
        "## **Connect Google Drive**\n"
      ]
    },
    {
      "cell_type": "code",
      "metadata": {
        "id": "u2McjTzIoe81"
      },
      "source": [
        "drive.mount('/content/drive')"
      ],
      "execution_count": null,
      "outputs": []
    },
    {
      "cell_type": "markdown",
      "metadata": {
        "id": "y_c_4dCXj9OB"
      },
      "source": [
        "# **Preparing testing dataset**"
      ]
    },
    {
      "cell_type": "markdown",
      "metadata": {
        "id": "FYjnsct8ncnP"
      },
      "source": [
        "## **DPH(Sparse Retrieval)**"
      ]
    },
    {
      "cell_type": "markdown",
      "metadata": {
        "id": "dp_7n5p-kYYB"
      },
      "source": [
        "## TREC-2019"
      ]
    },
    {
      "cell_type": "code",
      "metadata": {
        "colab": {
          "base_uri": "https://localhost:8080/",
          "height": 0,
          "referenced_widgets": [
            "6fffccbd686242f9a5b0ad19758e644d",
            "9af8b1476aa14cc8bd87088e0abe364a",
            "08580e50eb114526bed0998b17ecd04b",
            "1d1ee4ae69ba4218b54c947ef5d16ce2",
            "8f81cc65261b4de3bca9d256ffdac9e0",
            "bfab7d1ffeae42dfbe00ca9576a602e6",
            "a4977ae6c6ec4ab8854072e1f0d5fa69",
            "6f493d43b2a7483eb0d7ac75a062a6b6",
            "0387e758a1aa44298cfcf00d7ff5dae6",
            "17f11715cd35473cad2da7560d75bff9",
            "f2fe43fd856841628fa25d19401efe63",
            "85a38cf10cb8450480f0cce0c8601cf9",
            "894ca2043fcc4b778f938969ab0ab537",
            "0666046806364800be1fae08f390c9c5",
            "da6a3a47accc4157a550a967a9c1f9d1",
            "6685651a30004abfb951b5b40f126279",
            "fc35e14b5a3f4a6cb53f5f1473b0f3af",
            "40a1da0ea37f4786a72dff0cfa8fddc4",
            "fbde44a5ed8245fcb59d490f98660adb",
            "acfc4ca1b64348d989b6e325d07ffd79",
            "b3a8e864296e433b8b89c9a41fdc3c39",
            "790cd67a386d4ec797e6d92f446c3896",
            "ca2b69276abe444aa01042037fb890b3",
            "64d1c8044dc74fea84b153d006dd964a",
            "54fb02e294fe4a219629c4ddbdddf0c6",
            "8ba35481741044f88391ea92a0c497bd",
            "cced9b6e9b4e4fd1911fe5fd6cc25ed6",
            "229814c4758548a8ba1232cace077dcd",
            "ceea700d33514cce82ff0b15d2912488",
            "d111a73cc137474f8908a475a45b3636",
            "3251d6ffba4043249de71a3062209bcb",
            "7ce7d2bcd35548bea485f24d0e202126",
            "05dabef949054d4d957f41064ac081d0"
          ]
        },
        "id": "r-mOsFz5kEl8",
        "outputId": "0c689c22-a5dc-4079-fad9-a3d0cb1ec2fe"
      },
      "source": [
        "br = pt.BatchRetrieve.from_dataset('msmarco_passage', 'terrier_stemmed_text', num_results=100, metadata = ['docno', 'text'], verbose=True)"
      ],
      "execution_count": null,
      "outputs": [
        {
          "output_type": "stream",
          "name": "stdout",
          "text": [
            "Downloading msmarco_passage index to /root/.pyterrier/corpora/msmarco_passage/index/terrier_stemmed_text\n"
          ]
        },
        {
          "output_type": "stream",
          "name": "stderr",
          "text": [
            "/usr/local/lib/python3.7/dist-packages/pyterrier/datasets.py:273: UserWarning: Downloading index of > 2GB.\n",
            "  warn(\"Downloading index of > 2GB.\")\n"
          ]
        },
        {
          "output_type": "display_data",
          "data": {
            "application/vnd.jupyter.widget-view+json": {
              "model_id": "6fffccbd686242f9a5b0ad19758e644d",
              "version_minor": 0,
              "version_major": 2
            },
            "text/plain": [
              "data.direct.bf:   0%|          | 0.00/486M [00:00<?, ?iB/s]"
            ]
          },
          "metadata": {}
        },
        {
          "output_type": "display_data",
          "data": {
            "application/vnd.jupyter.widget-view+json": {
              "model_id": "85a38cf10cb8450480f0cce0c8601cf9",
              "version_minor": 0,
              "version_major": 2
            },
            "text/plain": [
              "data.document.fsarrayfile:   0%|          | 0.00/177M [00:00<?, ?iB/s]"
            ]
          },
          "metadata": {}
        },
        {
          "output_type": "display_data",
          "data": {
            "application/vnd.jupyter.widget-view+json": {
              "model_id": "ca2b69276abe444aa01042037fb890b3",
              "version_minor": 0,
              "version_major": 2
            },
            "text/plain": [
              "data.inverted.bf:   0%|          | 0.00/377M [00:00<?, ?iB/s]"
            ]
          },
          "metadata": {}
        }
      ]
    },
    {
      "cell_type": "code",
      "metadata": {
        "id": "xEZ1gsnvkL-S"
      },
      "source": [
        "dph_2019 = pd.DataFrame()\n",
        "topics = pt.get_dataset('msmarco_passage').get_topics('test-2019')\n",
        "topics = pt.get_dataset('msmarco_passage').get_qrels('test-2019')[[\"qid\"]].drop_duplicates().merge(topics, on=['qid'])\n",
        "for res in br.transform_gen(topics, batch_size=10):\n",
        "  dph_2019 = dph_2019.append(res)\n",
        "print(\"Number of topics: \", len(topics))"
      ],
      "execution_count": null,
      "outputs": []
    },
    {
      "cell_type": "code",
      "metadata": {
        "id": "r5vA3TFFk0xW"
      },
      "source": [
        "dph_2019.shape"
      ],
      "execution_count": null,
      "outputs": []
    },
    {
      "cell_type": "markdown",
      "metadata": {
        "id": "4qjnsknfmvix"
      },
      "source": [
        "## TREC-2020"
      ]
    },
    {
      "cell_type": "code",
      "metadata": {
        "id": "BscWAteXmrjz"
      },
      "source": [
        "dph_2020 = pd.DataFrame()\n",
        "topics = pt.get_dataset('msmarco_passage').get_topics('test-2020')\n",
        "topics = pt.get_dataset('msmarco_passage').get_qrels('test-2020')[[\"qid\"]].drop_duplicates().merge(topics, on=['qid'])\n",
        "for res in br.transform_gen(topics, batch_size=10):\n",
        "  dph_2020 = dph_2020.append(res)\n",
        "  \n",
        "print(\"Number of topics: \", len(topics))"
      ],
      "execution_count": null,
      "outputs": []
    },
    {
      "cell_type": "code",
      "metadata": {
        "id": "ajbX7PRVnMPW"
      },
      "source": [
        "dph_2020.shape"
      ],
      "execution_count": null,
      "outputs": []
    },
    {
      "cell_type": "markdown",
      "metadata": {
        "id": "j0Z8t-0UnrO2"
      },
      "source": [
        "## **ColBERT(Dense Retrieval)**"
      ]
    },
    {
      "cell_type": "markdown",
      "metadata": {
        "id": "fedgx8LPnzBZ"
      },
      "source": [
        "## TREC-2019"
      ]
    },
    {
      "cell_type": "code",
      "metadata": {
        "id": "6yyStXRyn298"
      },
      "source": [
        "index = pt.IndexFactory.of(pt.get_dataset(\"msmarco_passage\").get_index(\"terrier_stemmed_text\"))\n",
        "print(index.getCollectionStatistics())"
      ],
      "execution_count": null,
      "outputs": []
    },
    {
      "cell_type": "code",
      "metadata": {
        "id": "mjq0wZ-AoAqj"
      },
      "source": [
        "colbert_2019 = pt.io.read_results(\"/content/drive/MyDrive/E2E.2019.res\")\n",
        "# get document text for each docid\n",
        "meta = index.getMetaIndex()\n",
        "text = []\n",
        "for index, row in colbert_2019.iterrows():\n",
        "    text.append(meta.getItem('text', int(row['docno'])))\n",
        "colbert_2019['text'] = text\n",
        "\n",
        "# get query for each qid\n",
        "topics_2019 = pt.get_dataset('msmarco_passage').get_topics('test-2019')\n",
        "colbert_2019 = pd.merge(colbert_2019, topics_2019, on='qid', how='left')\n",
        "\n",
        "# filter queries on 43 topics\n",
        "colbert_2019 = colbert_2019[colbert_2019['qid'].isin(dph_2019['qid'].unique())]\n",
        "# filter data on top100 results for each 43 topics\n",
        "colbert_2019 = colbert_2019.groupby('qid').apply(lambda x : x.sort_values(by = 'score', ascending = False).head(100).reset_index(drop = True))\n",
        "# reset index\n",
        "colbert_2019.reset_index(drop=True, inplace=True)\n",
        "colbert_2019.shape"
      ],
      "execution_count": null,
      "outputs": []
    },
    {
      "cell_type": "markdown",
      "metadata": {
        "id": "0H0u38QIn1cS"
      },
      "source": [
        "## TREC-2020"
      ]
    },
    {
      "cell_type": "code",
      "metadata": {
        "id": "5A6MDGY_n_mk"
      },
      "source": [
        "colbert_2020 = pt.io.read_results(\"/content/drive/MyDrive/E2E.2020.res\")\n",
        "index = pt.IndexFactory.of(pt.get_dataset(\"msmarco_passage\").get_index(\"terrier_stemmed_text\"))\n",
        "\n",
        "# get document text for each docid\n",
        "meta = index.getMetaIndex()\n",
        "text = []\n",
        "for index, row in colbert_2020.iterrows():\n",
        "    text.append(meta.getItem('text', int(row['docno'])))\n",
        "colbert_2020['text'] = text\n",
        "\n",
        "# get query for each qid\n",
        "topics_2020 = pt.get_dataset('msmarco_passage').get_topics('test-2020')\n",
        "colbert_2020 = pd.merge(colbert_2020, topics_2020, on='qid', how='left')\n",
        "\n",
        "# filter queries on 43 topics\n",
        "colbert_2020 = colbert_2020[colbert_2020['qid'].isin(dph_2020['qid'].unique())]\n",
        "# filter data on top100 results for each 43 topics\n",
        "colbert_2020 = colbert_2020.groupby('qid').apply(lambda x : x.sort_values(by = 'score', ascending = False).head(100).reset_index(drop = True))\n",
        "# reset index\n",
        "colbert_2020.reset_index(drop=True, inplace=True)\n",
        "colbert_2020.shape"
      ],
      "execution_count": null,
      "outputs": []
    },
    {
      "cell_type": "markdown",
      "metadata": {
        "id": "zmjMaPT9pp2M"
      },
      "source": [
        "# **Pyterrier-ColBERT Setup**"
      ]
    },
    {
      "cell_type": "code",
      "metadata": {
        "id": "koXMqnMXp4HL"
      },
      "source": [
        "!pip install --upgrade git+https://github.com/terrierteam/pyterrier_colbert.git"
      ],
      "execution_count": null,
      "outputs": []
    },
    {
      "cell_type": "code",
      "metadata": {
        "id": "bpoJ7W3Arzys"
      },
      "source": [
        "from pyterrier_colbert.ranking import ColBERTFactory"
      ],
      "execution_count": null,
      "outputs": []
    },
    {
      "cell_type": "markdown",
      "metadata": {
        "id": "5j0YpgN7rfro"
      },
      "source": [
        "## Updating pyterrier-ColBERT load methods to support latest version of transformers library."
      ]
    },
    {
      "cell_type": "code",
      "metadata": {
        "id": "smIU_taMp7-a"
      },
      "source": [
        "!curl -s https://packagecloud.io/install/repositories/github/git-lfs/script.deb.sh | sudo bash\n",
        "!sudo apt-get install git-lfs\n",
        "!git lfs install\n",
        "!git clone https://huggingface.co/Luyu/condenser"
      ],
      "execution_count": null,
      "outputs": []
    },
    {
      "cell_type": "code",
      "metadata": {
        "id": "_W1b_wEGrQiB"
      },
      "source": [
        "import os\n",
        "import ujson\n",
        "import torch\n",
        "import random\n",
        "\n",
        "from collections import defaultdict, OrderedDict\n",
        "\n",
        "from colbert.parameters import DEVICE\n",
        "import colbert.utils.utils\n",
        "from colbert.utils.utils import print_message\n",
        "\n",
        "\n",
        "def _load_checkpoint(path, model, optimizer=None, do_print=True):\n",
        "    if do_print:\n",
        "        print_message(\"#> Loading checkpoint\", path)\n",
        "\n",
        "    checkpoint = torch.load(path, map_location='cpu')\n",
        "\n",
        "    state_dict = checkpoint['model_state_dict']\n",
        "    new_state_dict = OrderedDict()\n",
        "    for k, v in state_dict.items():\n",
        "        name = k\n",
        "        if k[:7] == 'module.':\n",
        "            name = k[7:]\n",
        "        new_state_dict[name] = v\n",
        "\n",
        "    checkpoint['model_state_dict'] = new_state_dict\n",
        "\n",
        "    model.load_state_dict(checkpoint['model_state_dict'], strict=False)\n",
        "\n",
        "    if optimizer:\n",
        "        optimizer.load_state_dict(checkpoint['optimizer_state_dict'], strict=False)\n",
        "\n",
        "    if do_print:\n",
        "        print_message(\"#> checkpoint['epoch'] =\", checkpoint['epoch'])\n",
        "        print_message(\"#> checkpoint['batch'] =\", checkpoint['batch'])\n",
        "\n",
        "    return checkpoint\n",
        "\n",
        "colbert.utils.utils.load_checkpoint = _load_checkpoint\n",
        "colbert.utils.utils.load_checkpoint.__globals__['load_checkpoint'] = _load_checkpoint\n",
        "from colbert.modeling.colbert import ColBERT\n",
        "\n",
        "def _load_model(args, do_print=True):\n",
        "    colbert = ColBERT.from_pretrained('/content/condenser/',\n",
        "                                      query_maxlen=args.query_maxlen,\n",
        "                                      doc_maxlen=args.doc_maxlen,\n",
        "                                      dim=args.dim,\n",
        "                                      similarity_metric=args.similarity,\n",
        "                                      mask_punctuation=args.mask_punctuation)\n",
        "    colbert = colbert.to(DEVICE)\n",
        "\n",
        "    print_message(\"#> Loading model checkpoint.\", condition=do_print)\n",
        "\n",
        "    checkpoint = load_checkpoint(args.checkpoint, colbert, do_print=do_print)\n",
        "\n",
        "    colbert.eval()\n",
        "\n",
        "    return colbert, checkpoint"
      ],
      "execution_count": null,
      "outputs": []
    },
    {
      "cell_type": "code",
      "metadata": {
        "id": "ob0BvqDYrTkE"
      },
      "source": [
        "import colbert.evaluation.load_model\n",
        "import pyterrier_colbert.ranking\n",
        "colbert.evaluation.load_model.load_model = _load_model\n",
        "pyterrier_colbert.ranking.load_model = _load_model"
      ],
      "execution_count": null,
      "outputs": []
    },
    {
      "cell_type": "markdown",
      "metadata": {
        "id": "jTD6T45Is6co"
      },
      "source": [
        "# **Evaluation on TREC 2019**"
      ]
    },
    {
      "cell_type": "markdown",
      "metadata": {
        "id": "9prPIE-CtCT0"
      },
      "source": [
        "## **Loading model checkpoints**"
      ]
    },
    {
      "cell_type": "markdown",
      "metadata": {
        "id": "h9ShoLRWzPTd"
      },
      "source": [
        "### Baseline"
      ]
    },
    {
      "cell_type": "code",
      "metadata": {
        "id": "I6Ao0YUFzVOy"
      },
      "source": [
        "colbert_checkpoint=\"/content/drive/MyDrive/colbert-baseline-50000.dnn\" \n",
        "colbert_factory = ColBERTFactory(colbert_checkpoint, None, None)\n",
        "colbert_pipeline_ann = pt.transformer.SourceTransformer(colbert_2019) >>  colbert_factory.text_scorer()\n",
        "colbert_pipeline = pt.transformer.SourceTransformer(dph_2019) >>  colbert_factory.text_scorer()"
      ],
      "execution_count": null,
      "outputs": []
    },
    {
      "cell_type": "markdown",
      "metadata": {
        "id": "mD84J7DmzFBk"
      },
      "source": [
        "### RD1: Additional signal during ColBERT training"
      ]
    },
    {
      "cell_type": "code",
      "metadata": {
        "id": "SYNE6HVFzu5T"
      },
      "source": [
        "cls_similarity_checkpoint=\"/content/drive/MyDrive/colbert-increase-similarity.dnn\" \n",
        "cls_similarity_factory = ColBERTFactory(cls_similarity_checkpoint, None, None)\n",
        "cls_similarity_pipeline_ann = pt.transformer.SourceTransformer(colbert_2019) >>  cls_similarity_factory.text_scorer()\n",
        "cls_similarity_pipeline = pt.transformer.SourceTransformer(dph_2019) >>  cls_similarity_factory.text_scorer()"
      ],
      "execution_count": null,
      "outputs": []
    },
    {
      "cell_type": "code",
      "metadata": {
        "id": "dlTaGsfvzvTw"
      },
      "source": [
        "token_overlap_checkpoint=\"/content/drive/MyDrive/colbert-token-overlap-50000.dnn\" \n",
        "token_overlap_factory = ColBERTFactory(token_overlap_checkpoint, None, None)\n",
        "token_overlap_pipeline_ann = pt.transformer.SourceTransformer(colbert_2019) >>  token_overlap_factory.text_scorer()\n",
        "token_overlap_pipeline = pt.transformer.SourceTransformer(dph_2019) >>  token_overlap_factory.text_scorer()"
      ],
      "execution_count": null,
      "outputs": []
    },
    {
      "cell_type": "markdown",
      "metadata": {
        "id": "GPGa3hqZAhUY"
      },
      "source": [
        "## **Experiment**"
      ]
    },
    {
      "cell_type": "markdown",
      "metadata": {
        "id": "CiLRcNzaKJpF"
      },
      "source": [
        "### DPH(Sparse Retrieval) Re-ranking"
      ]
    },
    {
      "cell_type": "code",
      "metadata": {
        "id": "6wqQV6L5Ak-O"
      },
      "source": [
        "pt.Experiment(\n",
        "    [colbert_pipeline, cls_similarity_pipeline, token_overlap_pipeline],\n",
        "    pt.get_dataset('msmarco_passage').get_topics('test-2019'),\n",
        "    pt.get_dataset('msmarco_passage').get_qrels('test-2019'),\n",
        "    filter_by_qrels=True,\n",
        "    names=['DPH >> ColBERT', 'DPH >> ColBERT-increase-cls-similarity', 'DPH >> ColBERT-add-token-overlap'],\n",
        "    eval_metrics= [nDCG@10, AP(rel=2)@100, RR(rel=2)@10]\n",
        ")"
      ],
      "execution_count": null,
      "outputs": []
    },
    {
      "cell_type": "markdown",
      "metadata": {
        "id": "NGJtA6c1KT2C"
      },
      "source": [
        "### ColBERT(Dense Retrieval) Re-ranking"
      ]
    },
    {
      "cell_type": "code",
      "metadata": {
        "id": "w0cca_e8BjfD"
      },
      "source": [
        "pt.Experiment(\n",
        "    [colbert_pipeline_ann, cls_similarity_pipeline_ann, token_overlap_pipeline_ann],\n",
        "    pt.get_dataset('msmarco_passage').get_topics('test-2019'),\n",
        "    pt.get_dataset('msmarco_passage').get_qrels('test-2019'),\n",
        "    filter_by_qrels=True,\n",
        "    names=['ANN-ColBERT >> ColBERT', 'ANN-ColBERT >> ColBERT-increase-cls-similarity', 'ANN-ColBERT >> ColBERT-add-token-overlap'],\n",
        "    eval_metrics= [nDCG@10, AP(rel=2)@100, RR(rel=2)@10]\n",
        ")"
      ],
      "execution_count": null,
      "outputs": []
    },
    {
      "cell_type": "markdown",
      "metadata": {
        "id": "PtdtSweFs-s2"
      },
      "source": [
        "# **Evaluation on TREC 2020**"
      ]
    },
    {
      "cell_type": "markdown",
      "metadata": {
        "id": "YXI5-Jd4Kfkg"
      },
      "source": [
        "## **Loading model checkpoints**"
      ]
    },
    {
      "cell_type": "markdown",
      "metadata": {
        "id": "7Mvty0BKIb5c"
      },
      "source": [
        "### Baseline "
      ]
    },
    {
      "cell_type": "code",
      "metadata": {
        "id": "k-jfht70IbTd"
      },
      "source": [
        "colbert_pipeline_ann_2020 = pt.transformer.SourceTransformer(colbert_2020) >>  colbert_factory.text_scorer()\n",
        "colbert_pipeline_2020 = pt.transformer.SourceTransformer(dph_2020) >>  colbert_factory.text_scorer()"
      ],
      "execution_count": null,
      "outputs": []
    },
    {
      "cell_type": "markdown",
      "metadata": {
        "id": "M8YtV1-XI9w7"
      },
      "source": [
        "### RD1: Additional signal during ColBERT training"
      ]
    },
    {
      "cell_type": "code",
      "metadata": {
        "id": "r2RvkUpkJMPS"
      },
      "source": [
        "cls_similarity_pipeline_ann_2020 = pt.transformer.SourceTransformer(colbert_2020) >>  cls_similarity_factory.text_scorer()\n",
        "cls_similarity_pipeline_2020 = pt.transformer.SourceTransformer(dph_2020) >>  cls_similarity_factory.text_scorer()"
      ],
      "execution_count": null,
      "outputs": []
    },
    {
      "cell_type": "code",
      "metadata": {
        "id": "EjFVxDIKJQju"
      },
      "source": [
        "token_overlap_pipeline_ann_2020 = pt.transformer.SourceTransformer(colbert_2020) >>  token_overlap_factory.text_scorer()\n",
        "token_overlap_pipeline_2020 = pt.transformer.SourceTransformer(dph_2020) >>  token_overlap_factory.text_scorer()"
      ],
      "execution_count": null,
      "outputs": []
    },
    {
      "cell_type": "markdown",
      "metadata": {
        "id": "v44OrE19Jbpj"
      },
      "source": [
        "## **Experiment**"
      ]
    },
    {
      "cell_type": "markdown",
      "metadata": {
        "id": "v2D5ktvsKlJk"
      },
      "source": [
        "### DPH(Sparse Retrieval) Re-ranking"
      ]
    },
    {
      "cell_type": "code",
      "metadata": {
        "id": "O0ZC7XgYJeDL"
      },
      "source": [
        "pt.Experiment(\n",
        "    [colbert_pipeline_2020, cls_similarity_pipeline_2020, token_overlap_pipeline_2020],\n",
        "    pt.get_dataset('msmarco_passage').get_topics('test-2020'),\n",
        "    pt.get_dataset('msmarco_passage').get_qrels('test-2020'),\n",
        "    filter_by_qrels=True,\n",
        "    names=['DPH >> ColBERT', 'DPH >> ColBERT-increase-cls-similarity', 'DPH >> ColBERT-add-token-overlap'],\n",
        "    eval_metrics= [nDCG@10, AP(rel=2)@100, RR(rel=2)@10]\n",
        ")"
      ],
      "execution_count": null,
      "outputs": []
    },
    {
      "cell_type": "markdown",
      "metadata": {
        "id": "B_oCakb1Knqz"
      },
      "source": [
        "### ColBERT(Dense Retrieval) Re-ranking"
      ]
    },
    {
      "cell_type": "code",
      "metadata": {
        "id": "ZPXjyQFJJf-t"
      },
      "source": [
        "pt.Experiment(\n",
        "    [colbert_pipeline_ann_2020, cls_similarity_pipeline_ann_2020, token_overlap_pipeline_ann_2020],\n",
        "    pt.get_dataset('msmarco_passage').get_topics('test-2020'),\n",
        "    pt.get_dataset('msmarco_passage').get_qrels('test-2020'),\n",
        "    filter_by_qrels=True,\n",
        "    names=['ANN-ColBERT >> ColBERT', 'ANN-ColBERT >> ColBERT-increase-cls-similarity', 'ANN-ColBERT >> ColBERT-add-token-overlap'],\n",
        "    eval_metrics= [nDCG@10, AP(rel=2)@100, RR(rel=2)@10]\n",
        ")"
      ],
      "execution_count": null,
      "outputs": []
    }
  ]
}